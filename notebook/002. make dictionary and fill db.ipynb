{
 "cells": [
  {
   "cell_type": "code",
   "execution_count": 1,
   "metadata": {},
   "outputs": [],
   "source": [
    "#make path strings needed for script to run\n",
    "import os, sys\n",
    "import numpy as np\n",
    "import pandas as pd\n",
    "import hashlib\n",
    "path = os.getcwd()\n",
    "exe_name = 'Anders.Gaming.LibTech3.exe'\n",
    "demos_folder = 'clean'\n",
    "exe_path = os.path.join(path, exe_name)\n",
    "demos_path = os.path.join(path, demos_folder)"
   ]
  },
  {
   "cell_type": "code",
   "execution_count": 2,
   "metadata": {
    "collapsed": true
   },
   "outputs": [],
   "source": [
    "def md5(fname):\n",
    "    hash_md5 = hashlib.md5()\n",
    "    with open(fname, \"rb\") as f:\n",
    "        for chunk in iter(lambda: f.read(4096), b\"\"):\n",
    "            hash_md5.update(chunk)\n",
    "    return hash_md5.hexdigest()"
   ]
  },
  {
   "cell_type": "code",
   "execution_count": 3,
   "metadata": {
    "collapsed": true
   },
   "outputs": [],
   "source": [
    "def make_dictionary(demos_path):\n",
    "    counter = 0\n",
    "    folders = os.listdir(demos_path)\n",
    "    demos_dct = {}\n",
    "\n",
    "    for folder in folders:\n",
    "        #put all files in a list\n",
    "        files = os.listdir(os.path.join(demos_path, folder))\n",
    "\n",
    "        #make empty lists\n",
    "        demo_names_lst = list()\n",
    "        md5_names_lst = list()\n",
    "        last_changed_lst = list()\n",
    "\n",
    "        #extract all demos from the files\n",
    "        demos = []\n",
    "        for file in files:\n",
    "            if str.upper(file[-5:-2]) == 'DM_':\n",
    "                demos.append(file)\n",
    "\n",
    "        #debug\n",
    "        if(len(demos)) == 0:\n",
    "            print folder\n",
    "            pass\n",
    "\n",
    "        elif(len(demos)) == 1:\n",
    "            demo_names_lst = demos\n",
    "            md5_name = md5(os.path.join(demos_path, folder, demos[0]))\n",
    "            md5_names_lst.append(md5_name)\n",
    "\n",
    "        else:\n",
    "            #fill the lists with demo names and their last changed date\n",
    "            for demo in demos: \n",
    "                #if file is a demo, process it\n",
    "                changed_date = os.path.getmtime(os.path.join(demos_path, folder, demo))\n",
    "                md5_name = md5(os.path.join(demos_path, folder, demo))\n",
    "                last_changed_lst.append(changed_date)\n",
    "                demo_names_lst.append(demo)\n",
    "                md5_names_lst.append(md5_name)\n",
    "\n",
    "            #[x for _,x in sorted(zip(last_changed_lst,demo_names_lst))]\n",
    "\n",
    "            #make a df with the purpose of sorting on the last changed date of the demos\n",
    "            df = pd.DataFrame({'demo_name': demo_names_lst,\n",
    "                               'md5_name' : md5_names_lst,\n",
    "                               'last_changed_date': last_changed_lst})\n",
    "            df = df.sort_values('last_changed_date')\n",
    "            #if length between first demo and last demo is less than 5 minutes, sort on demo name, else on last changed date\n",
    "            if int(np.subtract(df.iloc[[-1], 1], df.iloc[[0], 1])) < 5 * 60:\n",
    "                df = df.sort_values('demo_name')\n",
    "\n",
    "            #fill a list of lists of md5 name and demo name\n",
    "            md5_names_lst = df.md5_name.tolist()\n",
    "            demo_names_lst = df.demo_name.tolist()\n",
    "\n",
    "        output_list = [md5_names_lst,demo_names_lst]\n",
    "\n",
    "        match_name = folders[counter] #make key name based on match folder\n",
    "        demos_dct[match_name] = output_list\n",
    "\n",
    "        counter += 1\n",
    "\n",
    "        if counter % 100 == 0:\n",
    "            print 'parsed ' + str(counter) + ' demos'\n",
    "    print 'finished parsing all demos!'\n",
    "    \n",
    "    return demos_dct"
   ]
  },
  {
   "cell_type": "code",
   "execution_count": 4,
   "metadata": {},
   "outputs": [
    {
     "name": "stdout",
     "output_type": "stream",
     "text": [
      "parsed 100 demos\n",
      "parsed 200 demos\n",
      "parsed 300 demos\n",
      "parsed 400 demos\n",
      "finished parsing all demos!\n"
     ]
    }
   ],
   "source": [
    "demos_dct = make_dictionary(demos_path)"
   ]
  },
  {
   "cell_type": "markdown",
   "metadata": {},
   "source": [
    "- exportBulletEvents = 0\n",
    "- exportPlayers = 1\n",
    "- exportDemo = 0\n",
    "- exportObituaries = 1\n",
    "- exportChatMessages = 0\n",
    "- exportJson = 1\n",
    "- exportSQL = 0\n",
    "- exportJsonFile = stdout\n",
    "- exportSQLFile = out.db\n",
    "- logFile = stdout\n",
    "- exportPaths = 0\n",
    "\n",
    "- indexType = demo\n",
    "- indexTarget"
   ]
  },
  {
   "cell_type": "code",
   "execution_count": 5,
   "metadata": {
    "collapsed": true
   },
   "outputs": [],
   "source": [
    "def indexer_exe_cmd(demo_path,\n",
    "    exportPaths = None,\n",
    "    exportBulletEvents = 1,\n",
    "    exportPlayers = 1,\n",
    "    exportDemo = 0,\n",
    "    exportObituaries = 1,\n",
    "    exportChatMessages = 0,\n",
    "    exportJson = 0,\n",
    "    exportSQL = 1,\n",
    "    eportJsonFile = 'out.json',\n",
    "    exportSQLFile = 'out.db'):\n",
    "    \n",
    "    \n",
    "    s = 'indexer indexTarget/' + demo_path \n",
    "    s += '/exportBulletEvents/' + str(exportBulletEvents)\n",
    "    s += '/exportPlayers/' + str(exportPlayers)\n",
    "    s += '/exportDemo/' + str(exportDemo)\n",
    "    s += '/exportObituaries/' + str(exportObituaries)\n",
    "    s += '/exportChatMessages/' + str(exportChatMessages)\n",
    "    s += '/exportJson/' + str(exportJson)\n",
    "    s += '/exportSQL/' + str(exportSQL)\n",
    "    \n",
    "    if exportSQL == 1:\n",
    "        s += '/exportSQLFile/' + exportSQLFile\n",
    "        \n",
    "    if exportJson == 1:\n",
    "        s += '/eportJsonFile/' + eportJsonFile\n",
    "    \n",
    "    \n",
    "    return s"
   ]
  },
  {
   "cell_type": "code",
   "execution_count": 6,
   "metadata": {
    "collapsed": true
   },
   "outputs": [],
   "source": [
    "dct_test = dict((k, demos_dct[k]) for k in ('rtcw_2003.01.26_cb-nc3_ger_vs_fin_semi-finals', \n",
    "                                 'rtcw_2003.01.26_wfl-wolfcup_gods-incorporated_vs_rm'))"
   ]
  },
  {
   "cell_type": "code",
   "execution_count": 7,
   "metadata": {
    "collapsed": true
   },
   "outputs": [],
   "source": [
    "def fill_db(path, demos_dct, demos_path = 'clean', exe_name = 'Anders.Gaming.LibTech3.exe', verbose = True):\n",
    "    counter = 1\n",
    "    exe_path = os.path.join(path, exe_name)\n",
    "    for k in demos_dct:\n",
    "        match_folder = os.path.join(path, demos_path, k)\n",
    "        \n",
    "        for demo in demos_dct[k][1]:\n",
    "            demo_path = os.path.join(match_folder, demo)\n",
    "            \n",
    "            #insert demo into database\n",
    "            parameters = indexer_exe_cmd(demo_path)\n",
    "            os.system(exe_path + ' ' + parameters)\n",
    "        if counter % 50 == 0:\n",
    "            print 'filled ' + str(counter) + ' matches in the database'\n",
    "        counter += 1"
   ]
  },
  {
   "cell_type": "code",
   "execution_count": 8,
   "metadata": {},
   "outputs": [
    {
     "name": "stdout",
     "output_type": "stream",
     "text": [
      "filled 50 matches in the database\n",
      "filled 100 matches in the database\n",
      "filled 150 matches in the database\n",
      "filled 200 matches in the database\n",
      "filled 250 matches in the database\n",
      "filled 300 matches in the database\n",
      "filled 350 matches in the database\n",
      "filled 400 matches in the database\n"
     ]
    }
   ],
   "source": [
    "fill_db(path, demos_dct)"
   ]
  },
  {
   "cell_type": "code",
   "execution_count": null,
   "metadata": {
    "collapsed": true
   },
   "outputs": [],
   "source": []
  }
 ],
 "metadata": {
  "kernelspec": {
   "display_name": "Python 2",
   "language": "python",
   "name": "python2"
  },
  "language_info": {
   "codemirror_mode": {
    "name": "ipython",
    "version": 2
   },
   "file_extension": ".py",
   "mimetype": "text/x-python",
   "name": "python",
   "nbconvert_exporter": "python",
   "pygments_lexer": "ipython2",
   "version": "2.7.14"
  }
 },
 "nbformat": 4,
 "nbformat_minor": 2
}
