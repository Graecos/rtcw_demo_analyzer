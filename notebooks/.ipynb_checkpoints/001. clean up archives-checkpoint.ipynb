{
 "cells": [
  {
   "cell_type": "markdown",
   "metadata": {},
   "source": [
    "Scrip that tries to make sure:\n",
    "- all the matches are zipped and not rarred\n",
    "- all folders and files have no spaces -> replaced with underscores\n",
    "- if you extract the zip, all files will be in a directory named as the zip\n"
   ]
  },
  {
   "cell_type": "code",
   "execution_count": 1,
   "metadata": {
    "collapsed": true
   },
   "outputs": [],
   "source": [
    "#get all matches that are a .zip file or a .rar file\n",
    "import os\n",
    "from os import listdir\n",
    "from os.path import isfile, join\n",
    "cwd = 'C:\\Users\\JelleGrammens\\Documents\\TOFIX'\n",
    "onlyfiles = [f for f in listdir(cwd) if isfile(join(cwd, f))]"
   ]
  },
  {
   "cell_type": "code",
   "execution_count": 2,
   "metadata": {
    "collapsed": true
   },
   "outputs": [],
   "source": [
    "#make a directory for each match which we will rar in the end\n",
    "directory_names = []\n",
    "for file in onlyfiles:\n",
    "    dirname = file[:-4] #remove .rar / .zip from filename\n",
    "    directory_names.append(dirname)"
   ]
  },
  {
   "cell_type": "code",
   "execution_count": null,
   "metadata": {
    "collapsed": true
   },
   "outputs": [],
   "source": [
    "for dir in directory_names:\n",
    "    directory = cwd + '\\\\clean\\\\' + dir\n",
    "    if not os.path.exists(directory):\n",
    "        os.makedirs(directory)"
   ]
  },
  {
   "cell_type": "code",
   "execution_count": null,
   "metadata": {
    "collapsed": true
   },
   "outputs": [],
   "source": [
    "#split zipfiles and rarfiles seperate to process\n",
    "zipfiles = []\n",
    "rarfiles = []\n",
    "\n",
    "for file in onlyfiles:\n",
    "    \n",
    "    if file.endswith(\".zip\"):\n",
    "        zipfiles.append(file)\n",
    "        \n",
    "    elif file.endswith(\".rar\"):\n",
    "        rarfiles.append(file)\n",
    "        \n",
    "    else:\n",
    "        print file"
   ]
  },
  {
   "cell_type": "code",
   "execution_count": null,
   "metadata": {
    "collapsed": true
   },
   "outputs": [],
   "source": [
    "#extract all zipfiles and put them in the newly created directories\n",
    "from os import path, utime\n",
    "from sys import exit\n",
    "from time import mktime\n",
    "from zipfile import ZipFile\n",
    "\n",
    "def unzip(zipfile, outDirectory):\n",
    "    dirs = {}\n",
    "\n",
    "    with ZipFile(zipfile, 'r') as z:\n",
    "        for f in z.infolist():\n",
    "            name, date_time = f.filename, f.date_time\n",
    "            name = path.join(outDirectory, name)\n",
    "            z.extract(f, outDirectory)\n",
    "\n",
    "            # still need to adjust the dt o/w item will have the current dt\n",
    "            date_time = mktime(f.date_time + (0, 0, -1))\n",
    "\n",
    "            if (path.isdir(name)):\n",
    "                # changes to dir dt will have no effect right now since files are\n",
    "                # being created inside of it; hold the dt and apply it later\n",
    "                dirs[name] = date_time\n",
    "            else:\n",
    "                utime(name, (date_time, date_time))\n",
    "\n",
    "    # done creating files, now update dir dt\n",
    "    for name in dirs:\n",
    "       date_time = dirs[name]\n",
    "       utime(name, (date_time, date_time))\n",
    "        \n",
    "for zip in zipfiles:\n",
    "    zipFileName = cwd + '\\\\' + zip\n",
    "    output_dir = cwd + '\\\\clean\\\\' + zip[:-4]\n",
    "    \n",
    "    unzip(zipFileName, output_dir)"
   ]
  },
  {
   "cell_type": "code",
   "execution_count": null,
   "metadata": {
    "collapsed": true
   },
   "outputs": [],
   "source": [
    "#unrar every rar file in the right directory\n",
    "def unrar(dpath, xpath):\n",
    "    for rar in os.listdir(dpath):\n",
    "        if rar.endswith(\".rar\"):\n",
    "            print rar\n",
    "            filepath = os.path.join(dpath, rar)\n",
    "            with rarfile.RarFile(filepath) as opened_rar:\n",
    "                #for f in opened_rar.infolist():\n",
    "                    #print (f.filename, f.file_size)\n",
    "                opened_rar.extractall(xpath + rar[:-4])\n",
    "                \n",
    "import rarfile\n",
    "rarfile.UNRAR_TOOL = 'C:\\Program Files\\WinRAR\\UnRAR.exe'\n",
    "dpath = cwd\n",
    "xpath = cwd + '\\\\clean\\\\'\n",
    "unrar(dpath, xpath)"
   ]
  },
  {
   "cell_type": "code",
   "execution_count": null,
   "metadata": {
    "collapsed": true
   },
   "outputs": [],
   "source": [
    "#replace spaces with underscores for all folders and files\n",
    "\n",
    "import os\n",
    "\n",
    "def replace_spaces_with_underscores(parent):\n",
    "    for path, folders, files in os.walk(parent):\n",
    "        for f in files:\n",
    "            os.rename(os.path.join(path, f), os.path.join(path, f.replace(' ', '_')))\n",
    "        for i in range(len(folders)):\n",
    "            new_name = folders[i].replace(' ', '_')\n",
    "            os.rename(os.path.join(path, folders[i]), os.path.join(path, new_name))\n",
    "            folders[i] = new_name\n",
    "            \n",
    "#be sure to not be in one of the directories or you will get permission error\n",
    "replace_spaces_with_underscores(cwd + '\\\\clean') "
   ]
  },
  {
   "cell_type": "code",
   "execution_count": null,
   "metadata": {
    "collapsed": true
   },
   "outputs": [],
   "source": [
    "#find all matches with a subfolder to check later if code worked\n",
    "all_match_folders = os.listdir(cwd + '\\\\clean')\n",
    "\n",
    "#move all files to the root folder if there is a subfolder with the same name and remove that subfolder\n",
    "import shutil\n",
    "for folder in all_match_folders:\n",
    "    subfolder = os.listdir(cwd + '\\\\clean\\\\' + folder)\n",
    "    if len(subfolder) == 1:\n",
    "        if subfolder[0] == folder:\n",
    "            print subfolder[0]"
   ]
  },
  {
   "cell_type": "code",
   "execution_count": null,
   "metadata": {
    "collapsed": true
   },
   "outputs": [],
   "source": [
    "#check if a there is only 1 subfolder, but i named it incorrectly before\n",
    "all_match_folders = os.listdir(cwd + '\\\\clean')\n",
    "\n",
    "#move all files to the root folder if there is a subfolder with the same name and remove that subfolder\n",
    "#note: manually made backup folders already, before executing this cmd a backup was made at desktop\n",
    "import shutil\n",
    "for folder in all_match_folders:\n",
    "    subfolder = os.listdir(cwd + '\\\\clean\\\\' + folder)\n",
    "    if len(subfolder) == 1:\n",
    "        if subfolder[0].startswith(\"rtcw_\"):\n",
    "            print folder"
   ]
  },
  {
   "cell_type": "code",
   "execution_count": null,
   "metadata": {
    "collapsed": true
   },
   "outputs": [],
   "source": [
    "all_match_folders = os.listdir(cwd + '\\\\clean')\n",
    "\n",
    "#move all files to the root folder if there is a subfolder with the same name and remove that subfolder\n",
    "#note: manually made backup folders already, before executing this cmd a backup was made at desktop\n",
    "import shutil\n",
    "for folder in all_match_folders:\n",
    "    subfolder = os.listdir(cwd + '\\\\clean\\\\' + folder)\n",
    "    if len(subfolder) == 1:\n",
    "        if os.path.isdir(subfolder):\n",
    "            if subfolder[0] == folder:\n",
    "                sfiles = os.listdir(cwd + '\\\\clean\\\\' + folder + '\\\\' + subfolder[0])\n",
    "                for sfile in sfiles:\n",
    "                    shutil.move(cwd + '\\\\clean\\\\' + folder + '\\\\' + subfolder[0] + '\\\\' + sfile, cwd + '\\\\clean\\\\' + folder)\n",
    "\n",
    "                shutil.rmtree(cwd + '\\\\clean\\\\' + folder + '\\\\' + subfolder[0])"
   ]
  },
  {
   "cell_type": "code",
   "execution_count": null,
   "metadata": {
    "collapsed": true
   },
   "outputs": [],
   "source": []
  },
  {
   "cell_type": "code",
   "execution_count": null,
   "metadata": {
    "collapsed": true
   },
   "outputs": [],
   "source": [
    "all_match_folders = os.listdir(cwd + '\\\\clean')\n",
    "\n",
    "import shutil\n",
    "for folder in all_match_folders:\n",
    "    subfolder = os.listdir(cwd + '\\\\clean\\\\' + folder)\n",
    "    boolean = False\n",
    "    for subf in subfolder:\n",
    "        if os.path.isdir(subf):\n",
    "            boolean = True\n",
    "    \n",
    "    if boolean == True:\n",
    "        print folder"
   ]
  },
  {
   "cell_type": "code",
   "execution_count": null,
   "metadata": {
    "collapsed": true
   },
   "outputs": [],
   "source": [
    "all_match_folders = os.listdir(cwd + '\\\\clean')\n",
    "\n",
    "import shutil\n",
    "for folder in all_match_folders:\n",
    "    subfolder = os.listdir(cwd + '\\\\clean\\\\' + folder)\n",
    "    boolean = False\n",
    "    for subf in subfolder:\n",
    "        if os.path.isdir(cwd + '\\\\clean\\\\' + folder + '\\\\' + subf):\n",
    "            if subf != 'backup':\n",
    "                boolean = True\n",
    "    \n",
    "    if boolean == True:\n",
    "        print folder"
   ]
  },
  {
   "cell_type": "code",
   "execution_count": null,
   "metadata": {
    "collapsed": true
   },
   "outputs": [],
   "source": [
    "all_match_folders"
   ]
  },
  {
   "cell_type": "code",
   "execution_count": null,
   "metadata": {
    "collapsed": true
   },
   "outputs": [],
   "source": [
    "all_match_folders = os.listdir(cwd + '\\\\clean')\n",
    "\n",
    "import shutil\n",
    "for folder in all_match_folders:\n",
    "    subfolder = os.listdir(cwd + '\\\\clean\\\\' + folder)\n",
    "    boolean = False\n",
    "    for subf in subfolder:\n",
    "        if os.path.isdir(cwd + '\\\\clean\\\\' + folder + '\\\\' + subf):\n",
    "            if subf != 'backup':\n",
    "                boolean = True\n",
    "    \n",
    "    if boolean == True:\n",
    "        print folder"
   ]
  },
  {
   "cell_type": "markdown",
   "metadata": {},
   "source": [
    "# FINAL THING TO DO: extract zip/rar files so there are no rar archives left"
   ]
  },
  {
   "cell_type": "markdown",
   "metadata": {},
   "source": [
    "# CHECK MANUALLY IF THERE ARE DUPLICATE GAMES IN EACH SUBFOLDER AND MOVE THEM TO BACKUP"
   ]
  },
  {
   "cell_type": "code",
   "execution_count": null,
   "metadata": {
    "collapsed": true
   },
   "outputs": [],
   "source": [
    "all_match_folders = os.listdir(cwd + '\\\\clean')\n",
    "\n",
    "import shutil\n",
    "for folder in all_match_folders:\n",
    "    subfolder = os.listdir(cwd + '\\\\clean\\\\' + folder)\n",
    "    boolean = False\n",
    "    counter = 0\n",
    "    for subf in subfolder:\n",
    "        if not os.path.isdir(cwd + '\\\\clean\\\\' + folder + '\\\\' + subf):\n",
    "            counter += 1\n",
    "    \n",
    "    if counter > 1:\n",
    "        print folder\n",
    "        print '-------------------------------------'\n",
    "        for subf in subfolder:\n",
    "            if not os.path.isdir(cwd + '\\\\clean\\\\' + folder + '\\\\' + subf):\n",
    "                print subf\n",
    "        print ''\n",
    "        "
   ]
  },
  {
   "cell_type": "code",
   "execution_count": null,
   "metadata": {
    "collapsed": true
   },
   "outputs": [],
   "source": [
    "#remove ^ and [ ] in demo_names, because demoparser cant handle those characters\n",
    "\n"
   ]
  },
  {
   "cell_type": "code",
   "execution_count": null,
   "metadata": {
    "collapsed": true
   },
   "outputs": [],
   "source": []
  },
  {
   "cell_type": "code",
   "execution_count": null,
   "metadata": {
    "collapsed": true
   },
   "outputs": [],
   "source": [
    "# CHECK IF THERE ARE DEMOS IN THE SUBFOLDERS OR NOT\n",
    "\n",
    "\n",
    "all_match_folders = os.listdir(cwd + '\\\\clean')\n",
    "\n",
    "import shutil\n",
    "for folder in all_match_folders:\n",
    "    subfolder = os.listdir(cwd + '\\\\clean\\\\' + folder)\n",
    "    boolean = False\n",
    "    counter = 0\n",
    "    for subf in subfolder:\n",
    "        if not os.path.isdir(cwd + '\\\\clean\\\\' + folder + '\\\\' + subf):\n",
    "            if subf.endswith('.pk3'):\n",
    "                print folder\n",
    "        "
   ]
  },
  {
   "cell_type": "code",
   "execution_count": 3,
   "metadata": {
    "collapsed": true
   },
   "outputs": [],
   "source": [
    "import zipfile\n",
    "def zip_dir(directory, zipname):\n",
    "    \"\"\"\n",
    "    Compress a directory (ZIP file).\n",
    "    \"\"\"\n",
    "    if os.path.exists(directory):\n",
    "        outZipFile = zipfile.ZipFile(zipname, 'w', zipfile.ZIP_DEFLATED)\n",
    "\n",
    "        # The root directory within the ZIP file.\n",
    "        rootdir = os.path.basename(directory)\n",
    "\n",
    "        for dirpath, dirnames, filenames in os.walk(directory):\n",
    "            for filename in filenames:\n",
    "\n",
    "                # Write the file named filename to the archive,\n",
    "                # giving it the archive name 'arcname'.\n",
    "                filepath   = os.path.join(dirpath, filename)\n",
    "                parentpath = os.path.relpath(filepath, directory)\n",
    "                arcname    = os.path.join(rootdir, parentpath)\n",
    "\n",
    "                outZipFile.write(filepath, arcname)\n",
    "\n",
    "    outZipFile.close()"
   ]
  },
  {
   "cell_type": "code",
   "execution_count": null,
   "metadata": {},
   "outputs": [
    {
     "name": "stdout",
     "output_type": "stream",
     "text": [
      "zipping rtcw_2001.12.04_cal-s1_empire_vs_flying-hellfish_preseason-game.zip\n",
      "zipping rtcw_2001.12.11_cal-s1_empire_vs_hel_preseason-game.zip\n",
      "zipping rtcw_2001.12.30_cb-ladder_pm_vs_boh.zip\n",
      "zipping rtcw_2001.12.30_cb-ladder_pm_vs_md.zip\n",
      "zipping rtcw_2002.01.15_cb-ladder_pm_vs_snajpa.zip\n",
      "zipping rtcw_2002.01.16_cb-ladder_pm_vs_agb.zip\n",
      "zipping rtcw_2002.01.16_cb-ladder_pm_vs_gs.zip\n",
      "zipping rtcw_2002.01.17_cb-ladder_pm_vs_grym.zip\n",
      "zipping rtcw_2002.01.21_cb-ladder_pm_vs_snaps.zip\n",
      "zipping rtcw_2002.01.22_cb-ladder_pm_vs_gs.zip\n",
      "zipping rtcw_2002.01.25_cb-ladder_boh_vs_md.zip\n",
      "zipping rtcw_2002.01.27_cb-ladder_pm_vs_md.zip\n",
      "zipping rtcw_2002.01.29_bob1_boc_vs_otc_round1.zip\n",
      "zipping rtcw_2002.01.29_bob1_ctw_vs_portuguese_round1.zip\n",
      "zipping rtcw_2002.01.29_bob1_dropscape_vs_ep_round1.zip\n",
      "zipping rtcw_2002.01.29_bob1_ec_vs_ccp_round1.zip\n",
      "zipping rtcw_2002.01.29_bob1_gat_vs_seppuku_round1.zip\n",
      "zipping rtcw_2002.01.29_bob1_hv_vs_vex_round1.zip\n",
      "zipping rtcw_2002.01.29_bob1_md_vs_rft_round1.zip\n",
      "zipping rtcw_2002.01.29_bob1_rba_vs_1stad_round1.zip\n",
      "zipping rtcw_2002.01.29_bob1_sin_vs_dpg_round1.zip\n",
      "zipping rtcw_2002.01.29_bob1_tdp_vs_cp_round1.zip\n",
      "zipping rtcw_2002.01.29_cb-ladder_boh_vs_md.zip\n",
      "zipping rtcw_2002.01.30_bob1_bac_vs_vgb_round1.zip\n",
      "zipping rtcw_2002.01.30_bob1_f8s_vs_bloodshed_round1.zip\n",
      "zipping rtcw_2002.01.30_bob1_s62_vs_ac_round1.zip\n",
      "zipping rtcw_2002.01.30_bob1_sm_vs_seven-stars_round1.zip\n",
      "zipping rtcw_2002.01.30_bob1_vib_vs_skrills_round1.zip\n",
      "zipping rtcw_2002.01.30_cb-ladder_pm_vs_snajpa.zip\n",
      "zipping rtcw_2002.01.31_bob1_ars_vs_86_round1.zip\n",
      "zipping rtcw_2002.01.31_bob1_empire_vs_4ku_round1.zip\n",
      "zipping rtcw_2002.01.31_bob1_ewe_vs_asn_round1.zip\n",
      "zipping rtcw_2002.01.31_bob1_fa_vs_ck_round1.zip\n",
      "zipping rtcw_2002.01.31_bob1_flying-hellfish_vs_bone_round1.zip\n",
      "zipping rtcw_2002.01.31_bob1_kea_vs_nbk_round1.zip\n",
      "zipping rtcw_2002.01.31_bob1_molan_vs_tbar_round1.zip\n",
      "zipping rtcw_2002.01.31_bob1_tk_vs_locals_round1.zip\n",
      "zipping rtcw_2002.01.31_bob1_wolfmorder_vs_cya_round1.zip\n",
      "zipping rtcw_2002.02.06_cb-ladder_pm_vs_don.zip\n",
      "zipping rtcw_2002.02.07_bob1_narf_vs_abuse_round2.zip\n",
      "zipping rtcw_2002.02.07_bob1_s62_vs_wildfire_round2.zip\n",
      "zipping rtcw_2002.02.07_bob1_sm_vs_vib_round2.zip\n",
      "zipping rtcw_2002.02.09_cb-ladder_pm_vs_c.zip\n",
      "zipping rtcw_2002.02.10_cal-s1_empire_vs_phoenix_groupstage.zip\n",
      "zipping rtcw_2002.02.10_cb-ladder_pm_vs_3kr.zip\n",
      "zipping rtcw_2002.02.12_bob1_s62_vs_flying-hellfish_round3.zip\n",
      "zipping rtcw_2002.02.12_cb-ladder_pm_vs_gpk.zip\n",
      "zipping rtcw_2002.02.14_bob1_empire_vs_da_round3.zip\n",
      "zipping rtcw_2002.02.15_cb-cup-spring02_ocr_vs_md_groupstage.zip\n",
      "zipping rtcw_2002.02.17_cal-s1_empire_vs_cult-of-hands_groupstage.zip\n",
      "zipping rtcw_2002.02.21_bob1_empire_vs_high-voltage_round4_sc.zip\n",
      "zipping rtcw_2002.02.24_cb-cup-spring02_pm_vs_snaps_groupstage.zip\n",
      "zipping rtcw_2002.02.28_bob1_empire_vs_krieg_quarter-finals_sc.zip\n",
      "zipping rtcw_2002.02.28_cb-cup-spring02_ein_vs_broken_groupstage.zip\n",
      "zipping rtcw_2002.03.04_cb-cup-spring02_pm_vs_mirage_groupstage.zip\n",
      "zipping rtcw_2002.03.05_cb-cup-spring02_pm_vs_ein_groupstage.zip\n",
      "zipping rtcw_2002.03.07_bob1_doctors_vs_empire_semi-finals_sc.zip\n",
      "zipping rtcw_2002.03.13_cb-cup-spring02_pm_vs_bod_groupstage.zip\n",
      "zipping rtcw_2002.03.14_bob1_doctors_vs_darkside_finals_sc.zip\n",
      "zipping rtcw_2002.03.14_cb-ladder_boh_vs_broken.zip\n",
      "zipping rtcw_2002.04.21_cal-i-s2_darkside_vs_deathtouch_preseason-game_sc.zip\n",
      "zipping rtcw_2002.05.05_cal-i-s2_clan-kapitol_vs_doctors_groupstage_sc.zip\n",
      "zipping rtcw_2002.05.05_cal-i-s2_phoenix_vs_empire_groupstage_sc.zip\n",
      "zipping rtcw_2002.06.02_cal-i-s2_darkside_vs_clan-kapitol_groupstage.zip\n",
      "zipping rtcw_2002.06.11_cb-cup-spring02_md_vs_broken_finals.zip\n",
      "zipping rtcw_2002.06.17_cb-ladder_4kings_vs_infensus.zip\n",
      "zipping rtcw_2002.06.17_qcon02-qual_diy_vs_tribal-forces_round1.zip\n",
      "zipping rtcw_2002.06.17_qcon02-qual_doctors_vs_twisted-reality_round1_sc.zip\n",
      "zipping rtcw_2002.06.17_qcon02-qual_hfh_vs_or_round1.zip\n",
      "zipping rtcw_2002.06.18_qcon02-qual_amish_vs_seppuku_round1.zip\n",
      "zipping rtcw_2002.06.18_qcon02-qual_mtw_vs_knightmare_round1.zip\n",
      "zipping rtcw_2002.06.19_qcon02-qual_gat_vs_darkside_round1.zip\n",
      "zipping rtcw_2002.06.19_qcon02-qual_silent-service_vs_superglo_round1.zip\n",
      "zipping rtcw_2002.06.19_qcon02-qual_the-white-wolves_vs_fr_round1.zip\n",
      "zipping rtcw_2002.06.19_qcon02-qual_wat_vs_lsd_round1.zip\n",
      "zipping rtcw_2002.06.20_cal-i-s2_affliction_vs_darkside_quarter-finals.zip\n",
      "zipping rtcw_2002.06.20_qcon02-qual_dream-teamsters_vs_sm_round1.zip\n",
      "zipping rtcw_2002.06.20_qcon02-qual_helix_vs_agb_round1_sc.zip\n",
      "zipping rtcw_2002.06.20_qcon02-qual_nde_vs_sikanda_round1.zip\n",
      "zipping rtcw_2002.06.21_qcon02-qual_4kings_vs_inf_round1.zip\n",
      "zipping rtcw_2002.06.21_qcon02-qual_affliction_vs_metamule_round1.zip\n",
      "zipping rtcw_2002.06.21_qcon02-qual_boh_vs_vib_round1_sc.zip\n",
      "zipping rtcw_2002.06.21_qcon02-qual_cm_vs_ttt_round1.zip\n",
      "zipping rtcw_2002.06.21_qcon02_qual_opp_vs_orange-county_round1.zip\n",
      "zipping rtcw_2002.06.24_qcon02-qual_ocrana_vs_sikanda_round2.zip\n",
      "zipping rtcw_2002.06.25_qcon02-qual-infensus_vs_wsf_round2.zip\n",
      "zipping rtcw_2002.06.25_qcon02-qual-wsw_vs_sbc_round2_sc.zip\n",
      "zipping rtcw_2002.06.25_qcon02-qual_darkside_vs_cf_round2_sc.zip\n"
     ]
    }
   ],
   "source": [
    "# NOW REZIP THEM! INCLUDE SUBFOLDER IN THE ZIP\n",
    "os.chdir('C:\\Users\\JelleGrammens\\Documents\\clean')\n",
    "path = 'C:\\Users\\JelleGrammens\\Documents\\TOFIX\\clean'\n",
    "for folder in os.listdir(path):\n",
    "    directory = os.path.join(path,folder)\n",
    "    zipname = folder + '.zip'\n",
    "    print 'zipping ' + zipname\n",
    "    zip_dir(directory, zipname)"
   ]
  },
  {
   "cell_type": "code",
   "execution_count": null,
   "metadata": {
    "collapsed": true
   },
   "outputs": [],
   "source": []
  }
 ],
 "metadata": {
  "kernelspec": {
   "display_name": "Python 2",
   "language": "python",
   "name": "python2"
  },
  "language_info": {
   "codemirror_mode": {
    "name": "ipython",
    "version": 2
   },
   "file_extension": ".py",
   "mimetype": "text/x-python",
   "name": "python",
   "nbconvert_exporter": "python",
   "pygments_lexer": "ipython2",
   "version": "2.7.14"
  }
 },
 "nbformat": 4,
 "nbformat_minor": 2
}
