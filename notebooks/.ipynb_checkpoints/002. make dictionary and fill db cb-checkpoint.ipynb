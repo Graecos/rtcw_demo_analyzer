{
 "cells": [
  {
   "cell_type": "code",
   "execution_count": 6,
   "metadata": {},
   "outputs": [],
   "source": [
    "#make path strings needed for script to run\n",
    "import os, sys\n",
    "import numpy as np\n",
    "import pandas as pd\n",
    "import hashlib\n",
    "path = os.getcwd()\n",
    "exe_name = 'Anders.Gaming.LibTech3.exe'\n",
    "demos_folder = 'demosextra'\n",
    "root_path = 'C:\\\\Users\\\\Jelle\\\\Documents\\\\GIT\\\\rtcw_demo_analyzer' #for executable we need a direct path\n",
    "exe_path = os.path.join(path, '../', exe_name)\n",
    "demos_path = os.path.join(path, '../', demos_folder)\n",
    "\n",
    "#import the functions\n",
    "module_path = os.path.abspath(os.path.join('../src/'))\n",
    "if module_path not in sys.path:\n",
    "    sys.path.append(module_path)"
   ]
  },
  {
   "cell_type": "code",
   "execution_count": 7,
   "metadata": {},
   "outputs": [],
   "source": [
    "import rtcw_functions as RTCW"
   ]
  },
  {
   "cell_type": "code",
   "execution_count": 8,
   "metadata": {},
   "outputs": [
    {
     "name": "stdout",
     "output_type": "stream",
     "text": [
      "finished parsing all matches!\n"
     ]
    }
   ],
   "source": [
    "# make dictionary with:\n",
    "# key = 1 match folder\n",
    "# value = list with md5 checksum + list with demo names (ordered by play time)\n",
    "demos_dct = RTCW.make_dictionary(demos_path)"
   ]
  },
  {
   "cell_type": "code",
   "execution_count": 9,
   "metadata": {},
   "outputs": [],
   "source": [
    "#dct with string parameters for anders lib tech3 api indexer parameters\n",
    "parameters_dct = {}\n",
    "parameters_dct['exportPaths'] = root_path\n",
    "parameters_dct['exportBulletEvents'] = '1'\n",
    "parameters_dct['exportPlayers'] = '1'\n",
    "parameters_dct['exportDemo'] = '1'\n",
    "parameters_dct['exportObituaries'] = '1'\n",
    "parameters_dct['exportChatMessages'] = '1'\n",
    "parameters_dct['exportJson'] = '0'\n",
    "parameters_dct['exportSQL'] = '1'\n",
    "parameters_dct['exportJsonFile'] = 'out.json'\n",
    "parameters_dct['exportSQLFile'] = 'be.db'"
   ]
  },
  {
   "cell_type": "code",
   "execution_count": 10,
   "metadata": {},
   "outputs": [
    {
     "name": "stdout",
     "output_type": "stream",
     "text": [
      "000508-Kevin-mp_ice.dm_60\n",
      "001317-Kevin-mp_ice.dm_60\n",
      "001953-Kevin-te_escape2.dm_60\n",
      "002625-Kevin-te_escape2.dm_60\n",
      "192624-oKevin-mp_ice.dm_60\n",
      "193641-oKevin-mp_ice.dm_60\n",
      "200003-oKevin-mp_beach.dm_60\n",
      "201416-oKevin-mp_beach.dm_60\n",
      "212040-oKevin-te_frostbite.dm_60\n",
      "213553-oKevin-te_frostbite.dm_60\n",
      "220254-oKevin-mp_village.dm_60\n",
      "220856-oKevin-mp_village.dm_60\n",
      "221511-oKevin-mp_village.dm_60\n",
      "222431-oKevin-mp_village.dm_60\n",
      "225228-oKevin-mp_beach.dm_60\n",
      "all matches filled in database!\n"
     ]
    }
   ],
   "source": [
    "#input all demos from demos folders \n",
    "RTCW.fill_db(root_path, parameters_dct, demos_dct, demo_folder_name= demos_folder)"
   ]
  },
  {
   "cell_type": "code",
   "execution_count": null,
   "metadata": {},
   "outputs": [],
   "source": [
    "lst = []\n",
    "for k in demos_dct:\n",
    "    lst.append(demos_dct[k][1])\n",
    "lst = [item for sublist in lst for item in sublist]\n",
    "lst = [x.split('.dm_')[0] for x in lst]\n",
    "\n",
    "cwd = os.getcwd()\n",
    "demos_path = os.path.join(cwd, '../', demos_folder)\n",
    "\n",
    "exe_name = 'Anders.Gaming.LibTech3.exe'\n",
    "demos_folder = 'demos'\n",
    "root_path = 'C:\\\\Users\\\\Jelle\\\\Documents\\\\GIT\\\\rtcw_demo_analyzer' #for executable we need a direct path\n",
    "\n",
    "#load obituaries in a df\n",
    "import sqlite3_connector\n",
    "db = sqlite3_connector.sqlite3_connector(os.path.join(root_path, 'cb.db'))\n",
    "\n",
    "df = db.get_table_as_df(table_name= 'demo')"
   ]
  },
  {
   "cell_type": "code",
   "execution_count": null,
   "metadata": {},
   "outputs": [],
   "source": [
    "lst2 = df.szName.unique().tolist()"
   ]
  },
  {
   "cell_type": "code",
   "execution_count": null,
   "metadata": {},
   "outputs": [],
   "source": [
    "set(lst) - set(lst2)"
   ]
  },
  {
   "cell_type": "code",
   "execution_count": null,
   "metadata": {},
   "outputs": [],
   "source": [
    "set(lst2) - set(lst)"
   ]
  },
  {
   "cell_type": "code",
   "execution_count": null,
   "metadata": {},
   "outputs": [],
   "source": []
  }
 ],
 "metadata": {
  "kernelspec": {
   "display_name": "Python 2",
   "language": "python",
   "name": "python2"
  },
  "language_info": {
   "codemirror_mode": {
    "name": "ipython",
    "version": 2
   },
   "file_extension": ".py",
   "mimetype": "text/x-python",
   "name": "python",
   "nbconvert_exporter": "python",
   "pygments_lexer": "ipython2",
   "version": "2.7.15"
  }
 },
 "nbformat": 4,
 "nbformat_minor": 2
}
