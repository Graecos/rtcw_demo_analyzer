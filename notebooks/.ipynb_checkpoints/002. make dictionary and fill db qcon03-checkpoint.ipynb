{
 "cells": [
  {
   "cell_type": "code",
   "execution_count": 12,
   "metadata": {
    "collapsed": true
   },
   "outputs": [],
   "source": [
    "#make path strings needed for script to run\n",
    "import os, sys\n",
    "import numpy as np\n",
    "import pandas as pd\n",
    "import hashlib\n",
    "path = os.getcwd()\n",
    "exe_name = 'Anders.Gaming.LibTech3.exe'\n",
    "demos_folder = 'demosqcon03'\n",
    "root_path = 'C:\\\\Users\\\\Jelle\\\\Documents\\\\GIT\\\\rtcw_demo_analyzer' #for executable we need a direct path\n",
    "exe_path = os.path.join(path, '../', exe_name)\n",
    "demos_path = os.path.join(path, '../', demos_folder)\n",
    "\n",
    "#import the functions\n",
    "module_path = os.path.abspath(os.path.join('../src/'))\n",
    "if module_path not in sys.path:\n",
    "    sys.path.append(module_path)"
   ]
  },
  {
   "cell_type": "code",
   "execution_count": 13,
   "metadata": {
    "collapsed": true
   },
   "outputs": [],
   "source": [
    "import rtcw_functions as RTCW"
   ]
  },
  {
   "cell_type": "code",
   "execution_count": 14,
   "metadata": {},
   "outputs": [
    {
     "data": {
      "text/plain": [
       "'C:\\\\Users\\\\Jelle\\\\Documents\\\\GIT\\\\rtcw_demo_analyzer\\\\notebooks\\\\../demosqcon03'"
      ]
     },
     "execution_count": 14,
     "metadata": {},
     "output_type": "execute_result"
    }
   ],
   "source": [
    "demos_path"
   ]
  },
  {
   "cell_type": "code",
   "execution_count": 15,
   "metadata": {},
   "outputs": [
    {
     "name": "stdout",
     "output_type": "stream",
     "text": [
      "finished parsing all matches!\n"
     ]
    }
   ],
   "source": [
    "# make dictionary with:\n",
    "# key = 1 match folder\n",
    "# value = list with md5 checksum + list with demo names (ordered by play time)\n",
    "demos_dct = RTCW.make_dictionary(demos_path)"
   ]
  },
  {
   "cell_type": "code",
   "execution_count": 16,
   "metadata": {
    "collapsed": true
   },
   "outputs": [],
   "source": [
    "#dct with string parameters for anders lib tech3 api indexer parameters\n",
    "parameters_dct = {}\n",
    "parameters_dct['exportPaths'] = root_path\n",
    "parameters_dct['exportBulletEvents'] = '1'\n",
    "parameters_dct['exportPlayers'] = '1'\n",
    "parameters_dct['exportDemo'] = '0'\n",
    "parameters_dct['exportObituaries'] = '1'\n",
    "parameters_dct['exportChatMessages'] = '0'\n",
    "parameters_dct['exportJson'] = '0'\n",
    "parameters_dct['exportSQL'] = '1'\n",
    "parameters_dct['eportJsonFile'] = 'out.json'\n",
    "parameters_dct['exportSQLFile'] = 'qcon03_db.db'"
   ]
  },
  {
   "cell_type": "code",
   "execution_count": 17,
   "metadata": {},
   "outputs": [
    {
     "name": "stdout",
     "output_type": "stream",
     "text": [
      "all matches filled in database!\n"
     ]
    }
   ],
   "source": [
    "#input all demos from demos folders \n",
    "RTCW.fill_db(root_path, parameters_dct, demos_dct, demo_folder_name= demos_folder)"
   ]
  }
 ],
 "metadata": {
  "kernelspec": {
   "display_name": "Python 2",
   "language": "python",
   "name": "python2"
  },
  "language_info": {
   "codemirror_mode": {
    "name": "ipython",
    "version": 2
   },
   "file_extension": ".py",
   "mimetype": "text/x-python",
   "name": "python",
   "nbconvert_exporter": "python",
   "pygments_lexer": "ipython2",
   "version": "2.7.14"
  }
 },
 "nbformat": 4,
 "nbformat_minor": 2
}
