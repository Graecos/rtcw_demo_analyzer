{
 "cells": [
  {
   "cell_type": "code",
   "execution_count": 3,
   "metadata": {
    "collapsed": true
   },
   "outputs": [],
   "source": [
    "#make path strings needed for script to run\n",
    "import os, sys\n",
    "import numpy as np\n",
    "import pandas as pd\n",
    "import hashlib\n",
    "path = os.getcwd()\n",
    "exe_name = 'Anders.Gaming.LibTech3.exe'\n",
    "demos_folder = 'demos'\n",
    "root_path = 'C:\\\\Users\\\\Jelle\\\\Documents\\\\GIT\\\\rtcw_demo_analyzer' #for executable we need a direct path\n",
    "exe_path = os.path.join(path, '../', exe_name)\n",
    "demos_path = os.path.join(path, '../', demos_folder)\n",
    "\n",
    "#import the functions\n",
    "module_path = os.path.abspath(os.path.join('../src/'))\n",
    "if module_path not in sys.path:\n",
    "    sys.path.append(module_path)"
   ]
  },
  {
   "cell_type": "code",
   "execution_count": 4,
   "metadata": {
    "collapsed": true
   },
   "outputs": [],
   "source": [
    "import rtcw_functions as RTCW"
   ]
  },
  {
   "cell_type": "code",
   "execution_count": 5,
   "metadata": {},
   "outputs": [
    {
     "name": "stdout",
     "output_type": "stream",
     "text": [
      "parsed 100 matches\n",
      "parsed 200 matches\n",
      "parsed 300 matches\n",
      "parsed 400 matches\n",
      "finished parsing all matches!\n"
     ]
    }
   ],
   "source": [
    "# make dictionary with:\n",
    "# key = 1 match folder\n",
    "# value = list with md5 checksum + list with demo names (ordered by play time)\n",
    "demos_dct = RTCW.make_dictionary(demos_path)"
   ]
  },
  {
   "cell_type": "code",
   "execution_count": 6,
   "metadata": {
    "collapsed": true
   },
   "outputs": [],
   "source": [
    "#dct with string parameters for anders lib tech3 api indexer parameters\n",
    "parameters_dct = {}\n",
    "parameters_dct['exportPaths'] = root_path\n",
    "parameters_dct['exportBulletEvents'] = '1'\n",
    "parameters_dct['exportPlayers'] = '1'\n",
    "parameters_dct['exportDemo'] = '0'\n",
    "parameters_dct['exportObituaries'] = '1'\n",
    "parameters_dct['exportChatMessages'] = '0'\n",
    "parameters_dct['exportJson'] = '0'\n",
    "parameters_dct['exportSQL'] = '1'\n",
    "parameters_dct['eportJsonFile'] = 'out.json'\n",
    "parameters_dct['exportSQLFile'] = 'rtcw_db.db'"
   ]
  },
  {
   "cell_type": "code",
   "execution_count": 7,
   "metadata": {},
   "outputs": [
    {
     "name": "stdout",
     "output_type": "stream",
     "text": [
      "filled 50 matches in the database\n",
      "filled 100 matches in the database\n",
      "filled 150 matches in the database\n",
      "filled 200 matches in the database\n",
      "filled 250 matches in the database\n",
      "filled 300 matches in the database\n",
      "filled 350 matches in the database\n",
      "filled 400 matches in the database\n",
      "all matches filled in database!\n"
     ]
    }
   ],
   "source": [
    "#input all demos from demos folders \n",
    "RTCW.fill_db(root_path, parameters_dct, demos_dct)"
   ]
  }
 ],
 "metadata": {
  "kernelspec": {
   "display_name": "Python 2",
   "language": "python",
   "name": "python2"
  },
  "language_info": {
   "codemirror_mode": {
    "name": "ipython",
    "version": 2
   },
   "file_extension": ".py",
   "mimetype": "text/x-python",
   "name": "python",
   "nbconvert_exporter": "python",
   "pygments_lexer": "ipython2",
   "version": "2.7.14"
  }
 },
 "nbformat": 4,
 "nbformat_minor": 2
}
