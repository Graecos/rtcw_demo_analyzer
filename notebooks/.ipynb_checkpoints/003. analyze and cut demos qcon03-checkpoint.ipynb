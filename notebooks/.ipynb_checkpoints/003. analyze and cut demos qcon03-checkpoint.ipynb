{
 "cells": [
  {
   "cell_type": "code",
   "execution_count": 1,
   "metadata": {},
   "outputs": [],
   "source": [
    "import os, sys\n",
    "import pandas as pd\n",
    "\n",
    "#import the functions\n",
    "module_path = os.path.abspath(os.path.join('../src/'))\n",
    "if module_path not in sys.path:\n",
    "    sys.path.append(module_path)\n",
    "    \n",
    "import rtcw_functions as RTCW\n",
    "reload(RTCW)\n",
    "\n",
    "db_name = 'qcon03.db'\n",
    "demos_folder = 'demosqcon03'\n",
    "cwd = os.getcwd()\n",
    "demos_path = os.path.join(cwd, '../', demos_folder)\n",
    "\n",
    "exe_name = 'Anders.Gaming.LibTech3.exe'\n",
    "root_path = 'C:\\\\Users\\\\Jelle\\\\Documents\\\\GIT\\\\rtcw_demo_analyzer' #for executable we need a direct path"
   ]
  },
  {
   "cell_type": "code",
   "execution_count": 2,
   "metadata": {},
   "outputs": [
    {
     "name": "stdout",
     "output_type": "stream",
     "text": [
      "finished parsing all matches!\n"
     ]
    }
   ],
   "source": [
    "#get demos_dct\n",
    "demos_dct = RTCW.make_dictionary(demos_path)"
   ]
  },
  {
   "cell_type": "code",
   "execution_count": 3,
   "metadata": {
    "collapsed": true
   },
   "outputs": [],
   "source": [
    "#load obituaries in a df\n",
    "import sqlite3_connector\n",
    "reload(sqlite3_connector)\n",
    "db = sqlite3_connector.sqlite3_connector(os.path.join(root_path, db_name))"
   ]
  },
  {
   "cell_type": "code",
   "execution_count": 4,
   "metadata": {},
   "outputs": [
    {
     "name": "stdout",
     "output_type": "stream",
     "text": [
      "obituary table fetched in 0.29 seconds\n",
      "demo table fetched in 0.01 seconds\n",
      "player table fetched in 0.02 seconds\n"
     ]
    }
   ],
   "source": [
    "obituary_df = db.get_table_as_df(table_name= 'obituary')\n",
    "demo_df = db.get_table_as_df(table_name= 'demo')\n",
    "player_df = db.get_table_as_df(table_name= 'player')\n",
    "obituary_df = RTCW.add_match_data(obituary_df, player_df, demos_dct)\n",
    "obituary_df = obituary_df.loc[obituary_df['League'] == 'qcon03']\n",
    "obituary_df = obituary_df.loc[obituary_df['Importance'].isin(['lb-round1', 'wb-round2', 'lb-round2'])]"
   ]
  },
  {
   "cell_type": "code",
   "execution_count": 5,
   "metadata": {},
   "outputs": [
    {
     "name": "stdout",
     "output_type": "stream",
     "text": [
      "scanned 100 demos of 330 demos in total\n",
      "scanned 200 demos of 330 demos in total\n",
      "scanned 300 demos of 330 demos in total\n",
      "all done!\n"
     ]
    }
   ],
   "source": [
    "df_spree = RTCW.get_kill_sprees(obituary_df, \n",
    "                                demo_df,\n",
    "                                maxtime_secs = 20, \n",
    "                                include_weapon_filter = None,\n",
    "                                exclude_weapon_filter = None, \n",
    "                                minspree = 5,\n",
    "                                pov_sprees_only = True,\n",
    "                                verbose = True)"
   ]
  },
  {
   "cell_type": "code",
   "execution_count": 8,
   "metadata": {},
   "outputs": [
    {
     "data": {
      "text/html": [
       "<div>\n",
       "<style>\n",
       "    .dataframe thead tr:only-child th {\n",
       "        text-align: right;\n",
       "    }\n",
       "\n",
       "    .dataframe thead th {\n",
       "        text-align: left;\n",
       "    }\n",
       "\n",
       "    .dataframe tbody tr th {\n",
       "        vertical-align: top;\n",
       "    }\n",
       "</style>\n",
       "<table border=\"1\" class=\"dataframe\">\n",
       "  <thead>\n",
       "    <tr style=\"text-align: right;\">\n",
       "      <th></th>\n",
       "      <th>match</th>\n",
       "      <th>demo</th>\n",
       "      <th>player</th>\n",
       "      <th>spreecount</th>\n",
       "      <th>weapons</th>\n",
       "      <th>attacker</th>\n",
       "      <th>pov_id</th>\n",
       "    </tr>\n",
       "  </thead>\n",
       "  <tbody>\n",
       "    <tr>\n",
       "      <th>0</th>\n",
       "      <td>rtcw_2003.08.15_qcon03_narf_vs_ck_lb-round2</td>\n",
       "      <td>2003-08-15_224624-cKApoculos-mp_beach.dm_60</td>\n",
       "      <td>Ck_Apoculos</td>\n",
       "      <td>5</td>\n",
       "      <td>17-17-17-17-15-</td>\n",
       "      <td>2</td>\n",
       "      <td>2</td>\n",
       "    </tr>\n",
       "    <tr>\n",
       "      <th>1</th>\n",
       "      <td>rtcw_2003.08.15_qcon03_narf_vs_ck_lb-round2</td>\n",
       "      <td>2003-08-15_223238-cKse7en-mp_beach.dm_60</td>\n",
       "      <td>Ck_Se7en</td>\n",
       "      <td>6</td>\n",
       "      <td>5-5-5-5-5-5-</td>\n",
       "      <td>3</td>\n",
       "      <td>3</td>\n",
       "    </tr>\n",
       "    <tr>\n",
       "      <th>2</th>\n",
       "      <td>rtcw_2003.08.15_qcon03_narf_vs_ck_lb-round2</td>\n",
       "      <td>2003-08-15_232800-cKinmojo-mp_beach.dm_60</td>\n",
       "      <td>Ck_Inmojo</td>\n",
       "      <td>6</td>\n",
       "      <td>5-5-5-5-5-17-</td>\n",
       "      <td>0</td>\n",
       "      <td>0</td>\n",
       "    </tr>\n",
       "    <tr>\n",
       "      <th>3</th>\n",
       "      <td>rtcw_2003.08.15_qcon03_narf_vs_wsw_wb-round2</td>\n",
       "      <td>2003-08-15_145630-wSwlaws_69-mp_beach.dm_60</td>\n",
       "      <td>Wswlaws_69</td>\n",
       "      <td>5</td>\n",
       "      <td>5-5-5-17-17-</td>\n",
       "      <td>11</td>\n",
       "      <td>11</td>\n",
       "    </tr>\n",
       "    <tr>\n",
       "      <th>4</th>\n",
       "      <td>rtcw_2003.08.15_qcon03_gmpo_vs_icf_lb-round2</td>\n",
       "      <td>2003-08-15_214152--!cF-Xp!Re-mp_beach.dm_60</td>\n",
       "      <td>-!cf-xp!re</td>\n",
       "      <td>5</td>\n",
       "      <td>6-7-7-7-7-</td>\n",
       "      <td>1</td>\n",
       "      <td>1</td>\n",
       "    </tr>\n",
       "    <tr>\n",
       "      <th>5</th>\n",
       "      <td>rtcw_2003.08.15_qcon03_gmpo_vs_icf_lb-round2</td>\n",
       "      <td>2003-08-15_215615--!cF-WolvE-mp_beach.dm_60</td>\n",
       "      <td>-!cf-wolve</td>\n",
       "      <td>5</td>\n",
       "      <td>21-21-21-21-21-</td>\n",
       "      <td>5</td>\n",
       "      <td>5</td>\n",
       "    </tr>\n",
       "    <tr>\n",
       "      <th>6</th>\n",
       "      <td>rtcw_2003.08.15_qcon03_ocrana_vs_4kings_lb-round2</td>\n",
       "      <td>2003-08-15_195345-4K7Explicit-mp_beach.dm_60</td>\n",
       "      <td>4k^explicit</td>\n",
       "      <td>5</td>\n",
       "      <td>21-21-21-21-21-</td>\n",
       "      <td>3</td>\n",
       "      <td>3</td>\n",
       "    </tr>\n",
       "    <tr>\n",
       "      <th>7</th>\n",
       "      <td>rtcw_2003.08.15_qcon03_4kings_vs_last-chance_l...</td>\n",
       "      <td>2003-08-15_101431-4K7Yilider-mp_beach.dm_60</td>\n",
       "      <td>4k^yilider</td>\n",
       "      <td>5</td>\n",
       "      <td>17-17-17-17-15-</td>\n",
       "      <td>1</td>\n",
       "      <td>1</td>\n",
       "    </tr>\n",
       "    <tr>\n",
       "      <th>8</th>\n",
       "      <td>rtcw_2003.08.15_qcon03_4kings_vs_last-chance_l...</td>\n",
       "      <td>2003-08-15_102523-4K7Yilider-mp_beach.dm_60</td>\n",
       "      <td>4k^yilider</td>\n",
       "      <td>6</td>\n",
       "      <td>17-17-17-17-17-15-</td>\n",
       "      <td>1</td>\n",
       "      <td>1</td>\n",
       "    </tr>\n",
       "    <tr>\n",
       "      <th>9</th>\n",
       "      <td>rtcw_2003.08.15_qcon03_4kings_vs_last-chance_l...</td>\n",
       "      <td>2003-08-15_102523-4K7Yilider-mp_beach.dm_60</td>\n",
       "      <td>4k^yilider</td>\n",
       "      <td>5</td>\n",
       "      <td>17-5-5-17-17-</td>\n",
       "      <td>1</td>\n",
       "      <td>1</td>\n",
       "    </tr>\n",
       "  </tbody>\n",
       "</table>\n",
       "</div>"
      ],
      "text/plain": [
       "                                               match  \\\n",
       "0        rtcw_2003.08.15_qcon03_narf_vs_ck_lb-round2   \n",
       "1        rtcw_2003.08.15_qcon03_narf_vs_ck_lb-round2   \n",
       "2        rtcw_2003.08.15_qcon03_narf_vs_ck_lb-round2   \n",
       "3       rtcw_2003.08.15_qcon03_narf_vs_wsw_wb-round2   \n",
       "4       rtcw_2003.08.15_qcon03_gmpo_vs_icf_lb-round2   \n",
       "5       rtcw_2003.08.15_qcon03_gmpo_vs_icf_lb-round2   \n",
       "6  rtcw_2003.08.15_qcon03_ocrana_vs_4kings_lb-round2   \n",
       "7  rtcw_2003.08.15_qcon03_4kings_vs_last-chance_l...   \n",
       "8  rtcw_2003.08.15_qcon03_4kings_vs_last-chance_l...   \n",
       "9  rtcw_2003.08.15_qcon03_4kings_vs_last-chance_l...   \n",
       "\n",
       "                                           demo       player  spreecount  \\\n",
       "0   2003-08-15_224624-cKApoculos-mp_beach.dm_60  Ck_Apoculos           5   \n",
       "1      2003-08-15_223238-cKse7en-mp_beach.dm_60     Ck_Se7en           6   \n",
       "2     2003-08-15_232800-cKinmojo-mp_beach.dm_60    Ck_Inmojo           6   \n",
       "3   2003-08-15_145630-wSwlaws_69-mp_beach.dm_60   Wswlaws_69           5   \n",
       "4   2003-08-15_214152--!cF-Xp!Re-mp_beach.dm_60   -!cf-xp!re           5   \n",
       "5   2003-08-15_215615--!cF-WolvE-mp_beach.dm_60   -!cf-wolve           5   \n",
       "6  2003-08-15_195345-4K7Explicit-mp_beach.dm_60  4k^explicit           5   \n",
       "7   2003-08-15_101431-4K7Yilider-mp_beach.dm_60   4k^yilider           5   \n",
       "8   2003-08-15_102523-4K7Yilider-mp_beach.dm_60   4k^yilider           6   \n",
       "9   2003-08-15_102523-4K7Yilider-mp_beach.dm_60   4k^yilider           5   \n",
       "\n",
       "              weapons  attacker  pov_id  \n",
       "0     17-17-17-17-15-         2       2  \n",
       "1        5-5-5-5-5-5-         3       3  \n",
       "2       5-5-5-5-5-17-         0       0  \n",
       "3        5-5-5-17-17-        11      11  \n",
       "4          6-7-7-7-7-         1       1  \n",
       "5     21-21-21-21-21-         5       5  \n",
       "6     21-21-21-21-21-         3       3  \n",
       "7     17-17-17-17-15-         1       1  \n",
       "8  17-17-17-17-17-15-         1       1  \n",
       "9       17-5-5-17-17-         1       1  "
      ]
     },
     "execution_count": 8,
     "metadata": {},
     "output_type": "execute_result"
    }
   ],
   "source": [
    "df_spree[['match', 'demo', 'player', 'spreecount', 'weapons', 'attacker', 'pov_id']]"
   ]
  },
  {
   "cell_type": "code",
   "execution_count": null,
   "metadata": {},
   "outputs": [],
   "source": [
    "RTCW.cut_demos(root_path, demos_dct, df_spree, offset_start = 8, offset_end = 8, transform_to_dm_60 = True, demo_folder_name= 'demosqcon03')\n",
    "RTCW.generate_capture_list(df_spree, transform_to_dm_60 = True)"
   ]
  },
  {
   "cell_type": "code",
   "execution_count": null,
   "metadata": {},
   "outputs": [],
   "source": [
    "for demo in df_spree.md5:\n",
    "    for k in demos_dct:\n",
    "        if demo in demos_dct[k][0]:\n",
    "            print k"
   ]
  }
 ],
 "metadata": {
  "kernelspec": {
   "display_name": "Python 2",
   "language": "python",
   "name": "python2"
  },
  "language_info": {
   "codemirror_mode": {
    "name": "ipython",
    "version": 2
   },
   "file_extension": ".py",
   "mimetype": "text/x-python",
   "name": "python",
   "nbconvert_exporter": "python",
   "pygments_lexer": "ipython2",
   "version": "2.7.14"
  }
 },
 "nbformat": 4,
 "nbformat_minor": 2
}
