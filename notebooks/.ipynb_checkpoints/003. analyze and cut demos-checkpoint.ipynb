{
 "cells": [
  {
   "cell_type": "code",
   "execution_count": 1,
   "metadata": {
    "collapsed": true
   },
   "outputs": [],
   "source": [
    "import os, sys\n",
    "import pandas as pd\n",
    "\n",
    "#import the functions\n",
    "module_path = os.path.abspath(os.path.join('../src/'))\n",
    "if module_path not in sys.path:\n",
    "    sys.path.append(module_path)\n",
    "    \n",
    "import rtcw_functions as RTCW\n",
    "\n",
    "db_name = 'rtcw_db.db'\n",
    "demos_folder = 'demos'\n",
    "\n",
    "cwd = os.getcwd()\n",
    "demos_path = os.path.join(cwd, '../', demos_folder)\n",
    "\n",
    "exe_name = 'Anders.Gaming.LibTech3.exe'\n",
    "demos_folder = 'demos'\n",
    "root_path = 'C:\\\\Users\\\\Jelle\\\\Documents\\\\GIT\\\\rtcw_demo_analyzer' #for executable we need a direct path"
   ]
  },
  {
   "cell_type": "code",
   "execution_count": 2,
   "metadata": {},
   "outputs": [
    {
     "name": "stdout",
     "output_type": "stream",
     "text": [
      "parsed 100 matches\n",
      "parsed 200 matches\n",
      "parsed 300 matches\n",
      "parsed 400 matches\n",
      "finished parsing all matches!\n"
     ]
    }
   ],
   "source": [
    "#get demos_dct\n",
    "demos_dct = RTCW.make_dictionary(demos_path)"
   ]
  },
  {
   "cell_type": "code",
   "execution_count": 3,
   "metadata": {
    "collapsed": true
   },
   "outputs": [],
   "source": [
    "#load obituaries in a df\n",
    "import sqlite3_connector\n",
    "reload(sqlite3_connector)\n",
    "db = sqlite3_connector.sqlite3_connector(os.path.join(root_path, db_name))"
   ]
  },
  {
   "cell_type": "code",
   "execution_count": 4,
   "metadata": {},
   "outputs": [
    {
     "name": "stdout",
     "output_type": "stream",
     "text": [
      "obituary table fetched in 0.45 seconds\n",
      "player table fetched in 0.04 seconds\n"
     ]
    }
   ],
   "source": [
    "obituary_df = db.get_table_as_df(table_name= 'obituary')\n",
    "player_df = db.get_table_as_df(table_name= 'player')\n",
    "obituary_df = RTCW.add_match_data(obituary_df, player_df, demos_dct)\n",
    "obituary_df = obituary_df.loc[obituary_df['League'] == 'qcon03']\n",
    "obituary_df = obituary_df.loc[obituary_df['Importance'] == 'wb-round1']"
   ]
  },
  {
   "cell_type": "code",
   "execution_count": 5,
   "metadata": {},
   "outputs": [
    {
     "name": "stdout",
     "output_type": "stream",
     "text": [
      "all done!\n"
     ]
    }
   ],
   "source": [
    "df_spree = RTCW.get_kill_sprees(obituary_df, \n",
    "                                maxtime_secs = 15, \n",
    "                                include_weapon_filter = None,\n",
    "                                exclude_weapon_filter = None, \n",
    "                                minspree = 4,\n",
    "                                verbose = True)"
   ]
  },
  {
   "cell_type": "code",
   "execution_count": 6,
   "metadata": {},
   "outputs": [
    {
     "data": {
      "text/html": [
       "<div>\n",
       "<style>\n",
       "    .dataframe thead tr:only-child th {\n",
       "        text-align: right;\n",
       "    }\n",
       "\n",
       "    .dataframe thead th {\n",
       "        text-align: left;\n",
       "    }\n",
       "\n",
       "    .dataframe tbody tr th {\n",
       "        vertical-align: top;\n",
       "    }\n",
       "</style>\n",
       "<table border=\"1\" class=\"dataframe\">\n",
       "  <thead>\n",
       "    <tr style=\"text-align: right;\">\n",
       "      <th></th>\n",
       "      <th>match</th>\n",
       "      <th>demo</th>\n",
       "      <th>player</th>\n",
       "      <th>spreecount</th>\n",
       "      <th>weapons</th>\n",
       "    </tr>\n",
       "  </thead>\n",
       "  <tbody>\n",
       "    <tr>\n",
       "      <th>0</th>\n",
       "      <td>rtcw_2003.08.14_qcon03_affliction_vs_hv_wb-round1</td>\n",
       "      <td>045124-silenceHV-mp_ice.dm_60</td>\n",
       "      <td>-a-time-bomb</td>\n",
       "      <td>4</td>\n",
       "      <td>49-17-17-17-</td>\n",
       "    </tr>\n",
       "    <tr>\n",
       "      <th>1</th>\n",
       "      <td>rtcw_2003.08.14_qcon03_affliction_vs_hv_wb-round1</td>\n",
       "      <td>045124-silenceHV-mp_ice.dm_60</td>\n",
       "      <td>Grimdeathhv</td>\n",
       "      <td>4</td>\n",
       "      <td>7-5-5-5-</td>\n",
       "    </tr>\n",
       "    <tr>\n",
       "      <th>2</th>\n",
       "      <td>rtcw_2003.08.14_qcon03_ocrana_vs_ck_wb-round1</td>\n",
       "      <td>Qcon2k3_cK_vs_ocr.dm_60</td>\n",
       "      <td>Ocrchn_D-link</td>\n",
       "      <td>4</td>\n",
       "      <td>6-7-7-16-</td>\n",
       "    </tr>\n",
       "    <tr>\n",
       "      <th>3</th>\n",
       "      <td>rtcw_2003.08.14_qcon03_ocrana_vs_ck_wb-round1</td>\n",
       "      <td>Qcon2k3_cK_vs_ocr.dm_60</td>\n",
       "      <td>Ocrcaes_D-link</td>\n",
       "      <td>4</td>\n",
       "      <td>5-5-17-17-</td>\n",
       "    </tr>\n",
       "    <tr>\n",
       "      <th>4</th>\n",
       "      <td>rtcw_2003.08.14_qcon03_4kings_vs_wsw_wb-round1</td>\n",
       "      <td>214631-wSwemaciat0r-mp_ice.dm_60</td>\n",
       "      <td>Wswimpulse_</td>\n",
       "      <td>4</td>\n",
       "      <td>5-5-5-5-</td>\n",
       "    </tr>\n",
       "    <tr>\n",
       "      <th>5</th>\n",
       "      <td>rtcw_2003.08.14_qcon03_4kings_vs_wsw_wb-round1</td>\n",
       "      <td>214631-wSwemaciat0r-mp_ice.dm_60</td>\n",
       "      <td>4k^explicit</td>\n",
       "      <td>4</td>\n",
       "      <td>18-18-18-5-</td>\n",
       "    </tr>\n",
       "    <tr>\n",
       "      <th>6</th>\n",
       "      <td>rtcw_2003.08.14_qcon03_4kings_vs_wsw_wb-round1</td>\n",
       "      <td>220403-wSw$laG-mp_ice.dm_60</td>\n",
       "      <td>Wswemaciat0r</td>\n",
       "      <td>4</td>\n",
       "      <td>17-17-17-17-</td>\n",
       "    </tr>\n",
       "    <tr>\n",
       "      <th>7</th>\n",
       "      <td>rtcw_2003.08.14_qcon03_4kings_vs_wsw_wb-round1</td>\n",
       "      <td>223024-wSwemaciat0r-mp_ice.dm_60</td>\n",
       "      <td>4k^explicit</td>\n",
       "      <td>4</td>\n",
       "      <td>17-17-5-17-</td>\n",
       "    </tr>\n",
       "    <tr>\n",
       "      <th>8</th>\n",
       "      <td>rtcw_2003.08.14_qcon03_4kings_vs_wsw_wb-round1</td>\n",
       "      <td>223024-wSwemaciat0r-mp_ice.dm_60</td>\n",
       "      <td>4k^explicit</td>\n",
       "      <td>4</td>\n",
       "      <td>49-17-17-15-</td>\n",
       "    </tr>\n",
       "    <tr>\n",
       "      <th>9</th>\n",
       "      <td>rtcw_2003.08.14_qcon03_4kings_vs_wsw_wb-round1</td>\n",
       "      <td>224611-wSwelusion-mp_ice.dm_60</td>\n",
       "      <td>Wswemaciat0r</td>\n",
       "      <td>4</td>\n",
       "      <td>17-5-5-17-</td>\n",
       "    </tr>\n",
       "    <tr>\n",
       "      <th>10</th>\n",
       "      <td>rtcw_2003.08.14_qcon03_infensus_vs_dh-us_wb-ro...</td>\n",
       "      <td>013812-HaVoC-mp_ice.dm_60</td>\n",
       "      <td>In-sod!</td>\n",
       "      <td>4</td>\n",
       "      <td>18-18-18-18-</td>\n",
       "    </tr>\n",
       "    <tr>\n",
       "      <th>11</th>\n",
       "      <td>rtcw_2003.08.14_qcon03_gmpo_vs_frontline_wb-ro...</td>\n",
       "      <td>gmpo-frontline-ice-3.dm_60</td>\n",
       "      <td>Gmpoverac_Amd</td>\n",
       "      <td>4</td>\n",
       "      <td>18-18-18-18-</td>\n",
       "    </tr>\n",
       "    <tr>\n",
       "      <th>12</th>\n",
       "      <td>rtcw_2003.08.14_qcon03_gmpo_vs_frontline_wb-ro...</td>\n",
       "      <td>gmpo-frontline-ice-10.dm_60</td>\n",
       "      <td>Gmporamzi_Amd</td>\n",
       "      <td>4</td>\n",
       "      <td>18-18-18-16-</td>\n",
       "    </tr>\n",
       "    <tr>\n",
       "      <th>13</th>\n",
       "      <td>rtcw_2003.08.14_qcon03_amish_vs_taf_wb-round1</td>\n",
       "      <td>074230-AmishGig'qconcfg-mp_ice.dm_60</td>\n",
       "      <td>Amish_Helmut</td>\n",
       "      <td>4</td>\n",
       "      <td>17-17-17-17-</td>\n",
       "    </tr>\n",
       "  </tbody>\n",
       "</table>\n",
       "</div>"
      ],
      "text/plain": [
       "                                                match  \\\n",
       "0   rtcw_2003.08.14_qcon03_affliction_vs_hv_wb-round1   \n",
       "1   rtcw_2003.08.14_qcon03_affliction_vs_hv_wb-round1   \n",
       "2       rtcw_2003.08.14_qcon03_ocrana_vs_ck_wb-round1   \n",
       "3       rtcw_2003.08.14_qcon03_ocrana_vs_ck_wb-round1   \n",
       "4      rtcw_2003.08.14_qcon03_4kings_vs_wsw_wb-round1   \n",
       "5      rtcw_2003.08.14_qcon03_4kings_vs_wsw_wb-round1   \n",
       "6      rtcw_2003.08.14_qcon03_4kings_vs_wsw_wb-round1   \n",
       "7      rtcw_2003.08.14_qcon03_4kings_vs_wsw_wb-round1   \n",
       "8      rtcw_2003.08.14_qcon03_4kings_vs_wsw_wb-round1   \n",
       "9      rtcw_2003.08.14_qcon03_4kings_vs_wsw_wb-round1   \n",
       "10  rtcw_2003.08.14_qcon03_infensus_vs_dh-us_wb-ro...   \n",
       "11  rtcw_2003.08.14_qcon03_gmpo_vs_frontline_wb-ro...   \n",
       "12  rtcw_2003.08.14_qcon03_gmpo_vs_frontline_wb-ro...   \n",
       "13      rtcw_2003.08.14_qcon03_amish_vs_taf_wb-round1   \n",
       "\n",
       "                                    demo          player  spreecount  \\\n",
       "0          045124-silenceHV-mp_ice.dm_60    -a-time-bomb           4   \n",
       "1          045124-silenceHV-mp_ice.dm_60     Grimdeathhv           4   \n",
       "2                Qcon2k3_cK_vs_ocr.dm_60   Ocrchn_D-link           4   \n",
       "3                Qcon2k3_cK_vs_ocr.dm_60  Ocrcaes_D-link           4   \n",
       "4       214631-wSwemaciat0r-mp_ice.dm_60     Wswimpulse_           4   \n",
       "5       214631-wSwemaciat0r-mp_ice.dm_60     4k^explicit           4   \n",
       "6            220403-wSw$laG-mp_ice.dm_60    Wswemaciat0r           4   \n",
       "7       223024-wSwemaciat0r-mp_ice.dm_60     4k^explicit           4   \n",
       "8       223024-wSwemaciat0r-mp_ice.dm_60     4k^explicit           4   \n",
       "9         224611-wSwelusion-mp_ice.dm_60    Wswemaciat0r           4   \n",
       "10             013812-HaVoC-mp_ice.dm_60         In-sod!           4   \n",
       "11            gmpo-frontline-ice-3.dm_60   Gmpoverac_Amd           4   \n",
       "12           gmpo-frontline-ice-10.dm_60   Gmporamzi_Amd           4   \n",
       "13  074230-AmishGig'qconcfg-mp_ice.dm_60    Amish_Helmut           4   \n",
       "\n",
       "         weapons  \n",
       "0   49-17-17-17-  \n",
       "1       7-5-5-5-  \n",
       "2      6-7-7-16-  \n",
       "3     5-5-17-17-  \n",
       "4       5-5-5-5-  \n",
       "5    18-18-18-5-  \n",
       "6   17-17-17-17-  \n",
       "7    17-17-5-17-  \n",
       "8   49-17-17-15-  \n",
       "9     17-5-5-17-  \n",
       "10  18-18-18-18-  \n",
       "11  18-18-18-18-  \n",
       "12  18-18-18-16-  \n",
       "13  17-17-17-17-  "
      ]
     },
     "execution_count": 6,
     "metadata": {},
     "output_type": "execute_result"
    }
   ],
   "source": [
    "df_spree[['match', 'demo', 'player', 'spreecount', 'weapons']]"
   ]
  },
  {
   "cell_type": "code",
   "execution_count": 9,
   "metadata": {},
   "outputs": [],
   "source": [
    "RTCW.cut_demos(root_path, demos_dct, df_spree, offset_start = 8, offset_end = 8, transform_to_dm_60 = True)\n",
    "RTCW.generate_capture_list(df_spree, transform_to_dm_60 = True)"
   ]
  },
  {
   "cell_type": "code",
   "execution_count": null,
   "metadata": {
    "collapsed": true
   },
   "outputs": [],
   "source": [
    "for demo in df_spree.md5:\n",
    "    for k in demos_dct:\n",
    "        if demo in demos_dct[k][0]:\n",
    "            print k"
   ]
  },
  {
   "cell_type": "code",
   "execution_count": null,
   "metadata": {
    "collapsed": true
   },
   "outputs": [],
   "source": [
    "reload(RTCW)"
   ]
  },
  {
   "cell_type": "code",
   "execution_count": null,
   "metadata": {},
   "outputs": [],
   "source": [
    "obituary_df"
   ]
  },
  {
   "cell_type": "code",
   "execution_count": null,
   "metadata": {},
   "outputs": [],
   "source": [
    "\n",
    "for k in demos_dct:\n",
    "    if 'mp_sub-222842-[CUP]Veracious.dm_59' in demos_dct[k][1]:\n",
    "        print demos_dct[k]"
   ]
  },
  {
   "cell_type": "code",
   "execution_count": null,
   "metadata": {
    "collapsed": true
   },
   "outputs": [],
   "source": []
  }
 ],
 "metadata": {
  "kernelspec": {
   "display_name": "Python 2",
   "language": "python",
   "name": "python2"
  },
  "language_info": {
   "codemirror_mode": {
    "name": "ipython",
    "version": 2
   },
   "file_extension": ".py",
   "mimetype": "text/x-python",
   "name": "python",
   "nbconvert_exporter": "python",
   "pygments_lexer": "ipython2",
   "version": "2.7.14"
  }
 },
 "nbformat": 4,
 "nbformat_minor": 2
}
