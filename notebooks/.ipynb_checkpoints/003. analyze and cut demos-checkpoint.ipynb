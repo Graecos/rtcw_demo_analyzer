{
 "cells": [
  {
   "cell_type": "code",
   "execution_count": 1,
   "metadata": {
    "collapsed": true
   },
   "outputs": [],
   "source": [
    "import os, sys\n",
    "import pandas as pd\n",
    "\n",
    "#import the functions\n",
    "module_path = os.path.abspath(os.path.join('../src/'))\n",
    "if module_path not in sys.path:\n",
    "    sys.path.append(module_path)\n",
    "    \n",
    "import rtcw_functions as RTCW\n",
    "\n",
    "db_name = 'rtcw_db.db'\n",
    "demos_folder = 'demos'\n",
    "\n",
    "cwd = os.getcwd()\n",
    "demos_path = os.path.join(cwd, '../', demos_folder)\n",
    "\n",
    "exe_name = 'Anders.Gaming.LibTech3.exe'\n",
    "demos_folder = 'demos'\n",
    "root_path = 'C:\\\\Users\\\\Jelle\\\\Documents\\\\GIT\\\\rtcw_demo_analyzer' #for executable we need a direct path"
   ]
  },
  {
   "cell_type": "code",
   "execution_count": 2,
   "metadata": {},
   "outputs": [
    {
     "name": "stdout",
     "output_type": "stream",
     "text": [
      "parsed 100 matches\n",
      "parsed 200 matches\n",
      "parsed 300 matches\n",
      "parsed 400 matches\n",
      "finished parsing all matches!\n"
     ]
    }
   ],
   "source": [
    "#get demos_dct\n",
    "demos_dct = RTCW.make_dictionary(demos_path)"
   ]
  },
  {
   "cell_type": "code",
   "execution_count": 3,
   "metadata": {
    "collapsed": true
   },
   "outputs": [],
   "source": [
    "#load obituaries in a df\n",
    "import sqlite3_connector\n",
    "reload(sqlite3_connector)\n",
    "db = sqlite3_connector.sqlite3_connector(os.path.join(root_path, db_name))"
   ]
  },
  {
   "cell_type": "code",
   "execution_count": 12,
   "metadata": {},
   "outputs": [
    {
     "name": "stdout",
     "output_type": "stream",
     "text": [
      "obituary table fetched in 0.42 seconds\n",
      "player table fetched in 0.04 seconds\n"
     ]
    }
   ],
   "source": [
    "obituary_df = db.get_table_as_df(table_name= 'obituary')\n",
    "player_df = db.get_table_as_df(table_name= 'player')\n",
    "obituary_df = RTCW.add_match_data(obituary_df, player_df, demos_dct)\n",
    "obituary_df = obituary_df.loc[obituary_df['League'] == 'qcon02']\n",
    "obituary_df = obituary_df.loc[obituary_df['Importance'] == 'wb-round1']"
   ]
  },
  {
   "cell_type": "code",
   "execution_count": 16,
   "metadata": {},
   "outputs": [
    {
     "name": "stdout",
     "output_type": "stream",
     "text": [
      "all done!\n"
     ]
    }
   ],
   "source": [
    "df_spree = RTCW.get_kill_sprees(obituary_df, \n",
    "                                maxtime_secs = 10, \n",
    "                                include_weapon_filter = None,\n",
    "                                exclude_weapon_filter = None, \n",
    "                                minspree = 3,\n",
    "                                verbose = True)"
   ]
  },
  {
   "cell_type": "code",
   "execution_count": 17,
   "metadata": {},
   "outputs": [
    {
     "data": {
      "text/html": [
       "<div>\n",
       "<style>\n",
       "    .dataframe thead tr:only-child th {\n",
       "        text-align: right;\n",
       "    }\n",
       "\n",
       "    .dataframe thead th {\n",
       "        text-align: left;\n",
       "    }\n",
       "\n",
       "    .dataframe tbody tr th {\n",
       "        vertical-align: top;\n",
       "    }\n",
       "</style>\n",
       "<table border=\"1\" class=\"dataframe\">\n",
       "  <thead>\n",
       "    <tr style=\"text-align: right;\">\n",
       "      <th></th>\n",
       "      <th>match</th>\n",
       "      <th>demo</th>\n",
       "      <th>player</th>\n",
       "      <th>spreecount</th>\n",
       "      <th>weapons</th>\n",
       "    </tr>\n",
       "  </thead>\n",
       "  <tbody>\n",
       "    <tr>\n",
       "      <th>0</th>\n",
       "      <td>rtcw_2002.08.15_qcon02_ocrana_vs_diy_wb-round1</td>\n",
       "      <td>01_mp_base-OCRANAvsDiY_QCon1.dm_59</td>\n",
       "      <td>Ocrlove_D-link</td>\n",
       "      <td>4</td>\n",
       "      <td>5-7-7-7-</td>\n",
       "    </tr>\n",
       "    <tr>\n",
       "      <th>1</th>\n",
       "      <td>rtcw_2002.08.15_qcon02_ocrana_vs_diy_wb-round1</td>\n",
       "      <td>01_mp_base-OCRANAvsDiY_QCon1.dm_59</td>\n",
       "      <td>Ocrlove_D-link</td>\n",
       "      <td>3</td>\n",
       "      <td>7-7-15-</td>\n",
       "    </tr>\n",
       "    <tr>\n",
       "      <th>2</th>\n",
       "      <td>rtcw_2002.08.15_qcon02_ocrana_vs_diy_wb-round1</td>\n",
       "      <td>01_mp_base-OCRANAvsDiY_QCon1.dm_59</td>\n",
       "      <td>Ocrrep_D-link</td>\n",
       "      <td>3</td>\n",
       "      <td>17-17-17-</td>\n",
       "    </tr>\n",
       "    <tr>\n",
       "      <th>3</th>\n",
       "      <td>rtcw_2002.08.15_qcon02_ocrana_vs_diy_wb-round1</td>\n",
       "      <td>02_mp_base-OCRANAcsDiY_Qcon2.dm_59</td>\n",
       "      <td>Ocrlove_D-link</td>\n",
       "      <td>3</td>\n",
       "      <td>7-7-7-</td>\n",
       "    </tr>\n",
       "    <tr>\n",
       "      <th>4</th>\n",
       "      <td>rtcw_2002.08.15_qcon02_ocrana_vs_diy_wb-round1</td>\n",
       "      <td>02_mp_base-OCRANAcsDiY_Qcon2.dm_59</td>\n",
       "      <td>Diy.toolboy</td>\n",
       "      <td>4</td>\n",
       "      <td>6-7-7-7-</td>\n",
       "    </tr>\n",
       "    <tr>\n",
       "      <th>5</th>\n",
       "      <td>rtcw_2002.08.15_qcon02_ocrana_vs_diy_wb-round1</td>\n",
       "      <td>02_mp_base-OCRANAcsDiY_Qcon2.dm_59</td>\n",
       "      <td>Ocrdeep_D-link</td>\n",
       "      <td>3</td>\n",
       "      <td>5-5-5-</td>\n",
       "    </tr>\n",
       "    <tr>\n",
       "      <th>6</th>\n",
       "      <td>rtcw_2002.08.15_qcon02_affliction_vs_wsw_wb-ro...</td>\n",
       "      <td>A_VS_WSW.dm_59</td>\n",
       "      <td>-a-lordbugzer</td>\n",
       "      <td>4</td>\n",
       "      <td>7-7-7-7-</td>\n",
       "    </tr>\n",
       "    <tr>\n",
       "      <th>7</th>\n",
       "      <td>rtcw_2002.08.15_qcon02_affliction_vs_wsw_wb-ro...</td>\n",
       "      <td>A_VS_WSW.dm_59</td>\n",
       "      <td>-a-lordbugzer</td>\n",
       "      <td>4</td>\n",
       "      <td>5-5-5-5-</td>\n",
       "    </tr>\n",
       "    <tr>\n",
       "      <th>8</th>\n",
       "      <td>rtcw_2002.08.15_qcon02_affliction_vs_wsw_wb-ro...</td>\n",
       "      <td>A_VS_WSW.dm_59</td>\n",
       "      <td>Wswexclusive</td>\n",
       "      <td>3</td>\n",
       "      <td>18-18-16-</td>\n",
       "    </tr>\n",
       "    <tr>\n",
       "      <th>9</th>\n",
       "      <td>rtcw_2002.08.15_qcon02_affliction_vs_wsw_wb-ro...</td>\n",
       "      <td>A_VS_WSW.dm_59</td>\n",
       "      <td>Wswexclusive</td>\n",
       "      <td>3</td>\n",
       "      <td>17-17-17-</td>\n",
       "    </tr>\n",
       "    <tr>\n",
       "      <th>10</th>\n",
       "      <td>rtcw_2002.08.15_qcon02_affliction_vs_wsw_wb-ro...</td>\n",
       "      <td>A_VS_WSW.dm_59</td>\n",
       "      <td>Wswexclusive</td>\n",
       "      <td>3</td>\n",
       "      <td>17-17-17-</td>\n",
       "    </tr>\n",
       "  </tbody>\n",
       "</table>\n",
       "</div>"
      ],
      "text/plain": [
       "                                                match  \\\n",
       "0      rtcw_2002.08.15_qcon02_ocrana_vs_diy_wb-round1   \n",
       "1      rtcw_2002.08.15_qcon02_ocrana_vs_diy_wb-round1   \n",
       "2      rtcw_2002.08.15_qcon02_ocrana_vs_diy_wb-round1   \n",
       "3      rtcw_2002.08.15_qcon02_ocrana_vs_diy_wb-round1   \n",
       "4      rtcw_2002.08.15_qcon02_ocrana_vs_diy_wb-round1   \n",
       "5      rtcw_2002.08.15_qcon02_ocrana_vs_diy_wb-round1   \n",
       "6   rtcw_2002.08.15_qcon02_affliction_vs_wsw_wb-ro...   \n",
       "7   rtcw_2002.08.15_qcon02_affliction_vs_wsw_wb-ro...   \n",
       "8   rtcw_2002.08.15_qcon02_affliction_vs_wsw_wb-ro...   \n",
       "9   rtcw_2002.08.15_qcon02_affliction_vs_wsw_wb-ro...   \n",
       "10  rtcw_2002.08.15_qcon02_affliction_vs_wsw_wb-ro...   \n",
       "\n",
       "                                  demo          player  spreecount    weapons  \n",
       "0   01_mp_base-OCRANAvsDiY_QCon1.dm_59  Ocrlove_D-link           4   5-7-7-7-  \n",
       "1   01_mp_base-OCRANAvsDiY_QCon1.dm_59  Ocrlove_D-link           3    7-7-15-  \n",
       "2   01_mp_base-OCRANAvsDiY_QCon1.dm_59   Ocrrep_D-link           3  17-17-17-  \n",
       "3   02_mp_base-OCRANAcsDiY_Qcon2.dm_59  Ocrlove_D-link           3     7-7-7-  \n",
       "4   02_mp_base-OCRANAcsDiY_Qcon2.dm_59     Diy.toolboy           4   6-7-7-7-  \n",
       "5   02_mp_base-OCRANAcsDiY_Qcon2.dm_59  Ocrdeep_D-link           3     5-5-5-  \n",
       "6                       A_VS_WSW.dm_59   -a-lordbugzer           4   7-7-7-7-  \n",
       "7                       A_VS_WSW.dm_59   -a-lordbugzer           4   5-5-5-5-  \n",
       "8                       A_VS_WSW.dm_59    Wswexclusive           3  18-18-16-  \n",
       "9                       A_VS_WSW.dm_59    Wswexclusive           3  17-17-17-  \n",
       "10                      A_VS_WSW.dm_59    Wswexclusive           3  17-17-17-  "
      ]
     },
     "execution_count": 17,
     "metadata": {},
     "output_type": "execute_result"
    }
   ],
   "source": [
    "df_spree[['match', 'demo', 'player', 'spreecount', 'weapons']]"
   ]
  },
  {
   "cell_type": "code",
   "execution_count": 18,
   "metadata": {},
   "outputs": [],
   "source": [
    "RTCW.cut_demos(root_path, demos_dct, df_spree, offset_start = 8, offset_end = 8, transform_to_dm_60 = True)\n",
    "RTCW.generate_capture_list(df_spree, transform_to_dm_60 = True)"
   ]
  },
  {
   "cell_type": "code",
   "execution_count": null,
   "metadata": {
    "collapsed": true
   },
   "outputs": [],
   "source": [
    "for demo in df_spree.md5:\n",
    "    for k in demos_dct:\n",
    "        if demo in demos_dct[k][0]:\n",
    "            print k"
   ]
  },
  {
   "cell_type": "code",
   "execution_count": null,
   "metadata": {
    "collapsed": true
   },
   "outputs": [],
   "source": [
    "reload(RTCW)"
   ]
  },
  {
   "cell_type": "code",
   "execution_count": null,
   "metadata": {},
   "outputs": [],
   "source": [
    "obituary_df"
   ]
  },
  {
   "cell_type": "code",
   "execution_count": null,
   "metadata": {},
   "outputs": [],
   "source": [
    "\n",
    "for k in demos_dct:\n",
    "    if 'mp_sub-222842-[CUP]Veracious.dm_59' in demos_dct[k][1]:\n",
    "        print demos_dct[k]"
   ]
  },
  {
   "cell_type": "code",
   "execution_count": null,
   "metadata": {
    "collapsed": true
   },
   "outputs": [],
   "source": []
  }
 ],
 "metadata": {
  "kernelspec": {
   "display_name": "Python 2",
   "language": "python",
   "name": "python2"
  },
  "language_info": {
   "codemirror_mode": {
    "name": "ipython",
    "version": 2
   },
   "file_extension": ".py",
   "mimetype": "text/x-python",
   "name": "python",
   "nbconvert_exporter": "python",
   "pygments_lexer": "ipython2",
   "version": "2.7.14"
  }
 },
 "nbformat": 4,
 "nbformat_minor": 2
}
