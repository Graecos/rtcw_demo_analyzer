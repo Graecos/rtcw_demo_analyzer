{
 "cells": [
  {
   "cell_type": "markdown",
   "metadata": {
    "collapsed": true
   },
   "source": [
    "# Part 1: analyze demos"
   ]
  },
  {
   "cell_type": "code",
   "execution_count": null,
   "metadata": {
    "collapsed": true
   },
   "outputs": [],
   "source": [
    "import os, sys\n",
    "import sqlite3\n",
    "import pandas as pd\n",
    "\n",
    "#import the functions\n",
    "module_path = os.path.abspath(os.path.join('../src/'))\n",
    "if module_path not in sys.path:\n",
    "    sys.path.append(module_path)\n",
    "    \n",
    "import rtcw_functions as RTCW\n",
    "\n",
    "db_name = 'rtcw_db.db'\n",
    "demos_folder = 'demos'\n",
    "\n",
    "cwd = os.getcwd()\n",
    "root_path = os.path.join(cwd, '../')\n",
    "demos_path = os.path.join(cwd, '../', demos_folder)"
   ]
  },
  {
   "cell_type": "code",
   "execution_count": 2,
   "metadata": {},
   "outputs": [],
   "source": [
    "#get demos_dct\n",
    "demos_dct = RTCW.make_dictionary(demos_path)"
   ]
  },
  {
   "cell_type": "code",
   "execution_count": 3,
   "metadata": {
    "collapsed": true
   },
   "outputs": [],
   "source": [
    "#load obituaries in a df\n",
    "import sqlite3_connector\n",
    "reload(sqlite3_connector)\n",
    "db = sqlite3_connector.sqlite3_connector(os.path.join(root_path, db_name))"
   ]
  },
  {
   "cell_type": "code",
   "execution_count": 4,
   "metadata": {},
   "outputs": [
    {
     "name": "stdout",
     "output_type": "stream",
     "text": [
      "obituary table fetched in 0.51 seconds\n"
     ]
    }
   ],
   "source": [
    "obituary_df = db.get_table_as_df(table_name= 'obituary')"
   ]
  },
  {
   "cell_type": "code",
   "execution_count": 5,
   "metadata": {},
   "outputs": [
    {
     "name": "stdout",
     "output_type": "stream",
     "text": [
      "scanned 100 demos of 928 demos in total\n",
      "scanned 200 demos of 928 demos in total\n",
      "scanned 300 demos of 928 demos in total\n",
      "scanned 400 demos of 928 demos in total\n",
      "scanned 500 demos of 928 demos in total\n",
      "scanned 600 demos of 928 demos in total\n",
      "scanned 700 demos of 928 demos in total\n",
      "scanned 800 demos of 928 demos in total\n",
      "scanned 900 demos of 928 demos in total\n"
     ]
    }
   ],
   "source": [
    "#example, get all 5 man panzerfausts\n",
    "df_spree = RTCW.get_kill_sprees(obituary_df, \n",
    "                                maxtime_secs = 2, \n",
    "                                weapon_filter = ['panzerfaust'], \n",
    "                                minspree = 5, \n",
    "                                verbose = True)"
   ]
  },
  {
   "cell_type": "code",
   "execution_count": 6,
   "metadata": {},
   "outputs": [
    {
     "data": {
      "text/html": [
       "<div>\n",
       "<style>\n",
       "    .dataframe thead tr:only-child th {\n",
       "        text-align: right;\n",
       "    }\n",
       "\n",
       "    .dataframe thead th {\n",
       "        text-align: left;\n",
       "    }\n",
       "\n",
       "    .dataframe tbody tr th {\n",
       "        vertical-align: top;\n",
       "    }\n",
       "</style>\n",
       "<table border=\"1\" class=\"dataframe\">\n",
       "  <thead>\n",
       "    <tr style=\"text-align: right;\">\n",
       "      <th></th>\n",
       "      <th>attacker</th>\n",
       "      <th>end</th>\n",
       "      <th>md5</th>\n",
       "      <th>spreecount</th>\n",
       "      <th>start</th>\n",
       "    </tr>\n",
       "  </thead>\n",
       "  <tbody>\n",
       "    <tr>\n",
       "      <th>0</th>\n",
       "      <td>4</td>\n",
       "      <td>18869722</td>\n",
       "      <td>812d4548ed3716988ce3c615653b1454</td>\n",
       "      <td>5</td>\n",
       "      <td>18869722</td>\n",
       "    </tr>\n",
       "    <tr>\n",
       "      <th>1</th>\n",
       "      <td>8</td>\n",
       "      <td>54531750</td>\n",
       "      <td>b23cdd6102c08e440380e841fbd6fbba</td>\n",
       "      <td>5</td>\n",
       "      <td>54531750</td>\n",
       "    </tr>\n",
       "    <tr>\n",
       "      <th>2</th>\n",
       "      <td>1</td>\n",
       "      <td>46549650</td>\n",
       "      <td>97004b41f3cbde43dd8b47c454439ee1</td>\n",
       "      <td>5</td>\n",
       "      <td>46549650</td>\n",
       "    </tr>\n",
       "    <tr>\n",
       "      <th>3</th>\n",
       "      <td>11</td>\n",
       "      <td>18834700</td>\n",
       "      <td>1723b976917e6f121e0fe8e659714801</td>\n",
       "      <td>5</td>\n",
       "      <td>18834700</td>\n",
       "    </tr>\n",
       "    <tr>\n",
       "      <th>4</th>\n",
       "      <td>12</td>\n",
       "      <td>51868850</td>\n",
       "      <td>ad7010534bceab5bb417015305d3d1f2</td>\n",
       "      <td>5</td>\n",
       "      <td>51868850</td>\n",
       "    </tr>\n",
       "    <tr>\n",
       "      <th>5</th>\n",
       "      <td>11</td>\n",
       "      <td>742567063</td>\n",
       "      <td>b24f32770cc0c602d4ec50e4742c8d4a</td>\n",
       "      <td>5</td>\n",
       "      <td>742567063</td>\n",
       "    </tr>\n",
       "    <tr>\n",
       "      <th>6</th>\n",
       "      <td>6</td>\n",
       "      <td>5321200</td>\n",
       "      <td>d31c87d84c2dda10302b31b5da94993b</td>\n",
       "      <td>5</td>\n",
       "      <td>5321200</td>\n",
       "    </tr>\n",
       "  </tbody>\n",
       "</table>\n",
       "</div>"
      ],
      "text/plain": [
       "   attacker        end                               md5  spreecount  \\\n",
       "0         4   18869722  812d4548ed3716988ce3c615653b1454           5   \n",
       "1         8   54531750  b23cdd6102c08e440380e841fbd6fbba           5   \n",
       "2         1   46549650  97004b41f3cbde43dd8b47c454439ee1           5   \n",
       "3        11   18834700  1723b976917e6f121e0fe8e659714801           5   \n",
       "4        12   51868850  ad7010534bceab5bb417015305d3d1f2           5   \n",
       "5        11  742567063  b24f32770cc0c602d4ec50e4742c8d4a           5   \n",
       "6         6    5321200  d31c87d84c2dda10302b31b5da94993b           5   \n",
       "\n",
       "       start  \n",
       "0   18869722  \n",
       "1   54531750  \n",
       "2   46549650  \n",
       "3   18834700  \n",
       "4   51868850  \n",
       "5  742567063  \n",
       "6    5321200  "
      ]
     },
     "execution_count": 6,
     "metadata": {},
     "output_type": "execute_result"
    }
   ],
   "source": [
    "df_spree"
   ]
  },
  {
   "cell_type": "markdown",
   "metadata": {},
   "source": [
    "# Part 2: cut demos"
   ]
  },
  {
   "cell_type": "code",
   "execution_count": 38,
   "metadata": {},
   "outputs": [],
   "source": [
    "exe_name = 'Anders.Gaming.LibTech3.exe'\n",
    "demos_folder = 'demos'\n",
    "root_path = 'C:\\\\Users\\\\JelleGrammens\\\\Documents\\\\GIT\\\\rtcw_demo_analyzer' #for executable we need a direct path\n",
    "path = os.getcwd()\n",
    "exe_path = os.path.join(path, '../', exe_name)"
   ]
  },
  {
   "cell_type": "code",
   "execution_count": 47,
   "metadata": {},
   "outputs": [],
   "source": [
    "def locate_demo_path(demos_dct, spree, root_path):\n",
    "    '''\n",
    "    helper function that outputs the path to the demo that we want to cut\n",
    "    '''\n",
    "    for k in demos_dct:\n",
    "        if spree.md5 in demos_dct[k][0]:\n",
    "            match_folder = k\n",
    "            demo_loc = [i for i in range(len(demos_dct[k][0])) if demos_dct[k][0][i]==spree.md5]\n",
    "            demo_name = demos_dct[k][1][demo_loc[0]]\n",
    "            \n",
    "            return match_folder, demo_name"
   ]
  },
  {
   "cell_type": "code",
   "execution_count": 48,
   "metadata": {},
   "outputs": [],
   "source": [
    "def cutter_exe_cmd(root_path, match_folder, demo_name, start_time, end_time, \n",
    "                   demo_folder_name = 'demos', output_folder = 'output_spree_demos', cut_type = 1):\n",
    "    '''\n",
    "    helper function to create string with demo_path and parameters to input in anders libtech 3 api\n",
    "    parameters: \n",
    "    - demo_path: full path to demo\n",
    "    - parameters_dct: a dictionary with all the parameters necessary\n",
    "    '''\n",
    "    demo_path = os.path.join(root_path, demo_folder_name, match_folder, demo_name)\n",
    "    output_path = os.path.join(root_path, output_folder, demo_name)\n",
    "    \n",
    "    s = 'cut ' + demo_path + ' '\n",
    "    s += output_path + ' '\n",
    "    s += str(start_time) + ' '\n",
    "    s += str(end_time) + ' '\n",
    "    s += str(cut_type) + ' 0' # plus the zero at the end or the api will crash\n",
    "\n",
    "    return s"
   ]
  },
  {
   "cell_type": "code",
   "execution_count": 51,
   "metadata": {},
   "outputs": [],
   "source": [
    "def cut_demos(root_path, demos_dct, df_spree, exe_name, offset_start = 5000, offset_end = 5000):\n",
    "\n",
    "    for row in range(len(df_spree)):\n",
    "\n",
    "        spree = df_spree.loc[row]\n",
    "        match_folder, demo_name = locate_demo_path(demos_dct, spree, root_path)\n",
    "\n",
    "        start_time = spree.start - offset_start\n",
    "        end_time = spree.end + offset_end\n",
    "\n",
    "        parameters = cutter_exe_cmd(root_path, match_folder, demo_name, start_time, end_time, \n",
    "                                    demo_folder_name = 'demos', output_folder = 'output_spree_demos', cut_type = 1)\n",
    "\n",
    "        os.system(exe_path + ' ' + parameters)"
   ]
  },
  {
   "cell_type": "code",
   "execution_count": 52,
   "metadata": {
    "collapsed": true
   },
   "outputs": [],
   "source": [
    "cut_demos(root_path, demos_dct, df_spree, exe_name)"
   ]
  }
 ],
 "metadata": {
  "kernelspec": {
   "display_name": "Python 2",
   "language": "python",
   "name": "python2"
  },
  "language_info": {
   "codemirror_mode": {
    "name": "ipython",
    "version": 2
   },
   "file_extension": ".py",
   "mimetype": "text/x-python",
   "name": "python",
   "nbconvert_exporter": "python",
   "pygments_lexer": "ipython2",
   "version": "2.7.14"
  }
 },
 "nbformat": 4,
 "nbformat_minor": 2
}
