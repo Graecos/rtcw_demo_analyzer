{
 "cells": [
  {
   "cell_type": "code",
   "execution_count": 1,
   "metadata": {
    "collapsed": true
   },
   "outputs": [],
   "source": [
    "import os, sys\n",
    "import pandas as pd\n",
    "\n",
    "#import the functions\n",
    "module_path = os.path.abspath(os.path.join('../src/'))\n",
    "if module_path not in sys.path:\n",
    "    sys.path.append(module_path)\n",
    "    \n",
    "import rtcw_functions as RTCW\n",
    "\n",
    "db_name = 'rtcw_db.db'\n",
    "demos_folder = 'demos'\n",
    "\n",
    "cwd = os.getcwd()\n",
    "demos_path = os.path.join(cwd, '../', demos_folder)\n",
    "\n",
    "exe_name = 'Anders.Gaming.LibTech3.exe'\n",
    "demos_folder = 'demos'\n",
    "root_path = 'C:\\\\Users\\\\JelleGrammens\\\\Documents\\\\GIT\\\\rtcw_demo_analyzer' #for executable we need a direct path"
   ]
  },
  {
   "cell_type": "code",
   "execution_count": 2,
   "metadata": {},
   "outputs": [
    {
     "name": "stdout",
     "output_type": "stream",
     "text": [
      "parsed 100 matches\n",
      "parsed 200 matches\n",
      "parsed 300 matches\n",
      "parsed 400 matches\n",
      "finished parsing all matches!\n"
     ]
    }
   ],
   "source": [
    "#get demos_dct\n",
    "demos_dct = RTCW.make_dictionary(demos_path)"
   ]
  },
  {
   "cell_type": "code",
   "execution_count": 3,
   "metadata": {
    "collapsed": true
   },
   "outputs": [],
   "source": [
    "#load obituaries in a df\n",
    "import sqlite3_connector\n",
    "reload(sqlite3_connector)\n",
    "db = sqlite3_connector.sqlite3_connector(os.path.join(root_path, db_name))"
   ]
  },
  {
   "cell_type": "code",
   "execution_count": 7,
   "metadata": {},
   "outputs": [
    {
     "name": "stdout",
     "output_type": "stream",
     "text": [
      "obituary table fetched in 0.37 seconds\n",
      "player table fetched in 0.03 seconds\n"
     ]
    }
   ],
   "source": [
    "obituary_df = db.get_table_as_df(table_name= 'obituary')\n",
    "player_df = db.get_table_as_df(table_name= 'player')\n",
    "obituary_df = RTCW.add_match_data(obituary_df, player_df, demos_dct)\n",
    "obituary_df = obituary_df.loc[obituary_df['League'] == 'cb-nc3']"
   ]
  },
  {
   "cell_type": "code",
   "execution_count": 11,
   "metadata": {},
   "outputs": [
    {
     "name": "stdout",
     "output_type": "stream",
     "text": [
      "all done!\n"
     ]
    }
   ],
   "source": [
    "df_spree = RTCW.get_kill_sprees(obituary_df, \n",
    "                                maxtime_secs = 30, \n",
    "                                include_weapon_filter = ['pistol_and_smg', 'grenade'],\n",
    "                                exclude_weapon_filter = None, \n",
    "                                minspree = 5,\n",
    "                                verbose = True)"
   ]
  },
  {
   "cell_type": "code",
   "execution_count": 14,
   "metadata": {},
   "outputs": [
    {
     "data": {
      "text/html": [
       "<div>\n",
       "<style>\n",
       "    .dataframe thead tr:only-child th {\n",
       "        text-align: right;\n",
       "    }\n",
       "\n",
       "    .dataframe thead th {\n",
       "        text-align: left;\n",
       "    }\n",
       "\n",
       "    .dataframe tbody tr th {\n",
       "        vertical-align: top;\n",
       "    }\n",
       "</style>\n",
       "<table border=\"1\" class=\"dataframe\">\n",
       "  <thead>\n",
       "    <tr style=\"text-align: right;\">\n",
       "      <th></th>\n",
       "      <th>match</th>\n",
       "      <th>player</th>\n",
       "      <th>spreecount</th>\n",
       "      <th>weapons</th>\n",
       "    </tr>\n",
       "  </thead>\n",
       "  <tbody>\n",
       "    <tr>\n",
       "      <th>0</th>\n",
       "      <td>rtcw_2002.11.28_cb-nc3_ned_vs_aut_groupstage</td>\n",
       "      <td>Ramzi.nl</td>\n",
       "      <td>5</td>\n",
       "      <td>5-17-17-17-17-</td>\n",
       "    </tr>\n",
       "    <tr>\n",
       "      <th>1</th>\n",
       "      <td>rtcw_2002.11.28_cb-nc3_ned_vs_aut_groupstage</td>\n",
       "      <td>Ramzi.nl</td>\n",
       "      <td>5</td>\n",
       "      <td>17-17-17-17-17-</td>\n",
       "    </tr>\n",
       "    <tr>\n",
       "      <th>2</th>\n",
       "      <td>rtcw_2002.11.28_cb-nc3_ned_vs_aut_groupstage</td>\n",
       "      <td>Jappio.nl</td>\n",
       "      <td>5</td>\n",
       "      <td>5-5-5-18-18-</td>\n",
       "    </tr>\n",
       "    <tr>\n",
       "      <th>3</th>\n",
       "      <td>rtcw_2002.11.28_cb-nc3_ned_vs_aut_groupstage</td>\n",
       "      <td>Ramzi.nl</td>\n",
       "      <td>6</td>\n",
       "      <td>17-17-5-5-5-17-</td>\n",
       "    </tr>\n",
       "    <tr>\n",
       "      <th>4</th>\n",
       "      <td>rtcw_2002.11.26_cb-nc3_fin_vs_nor_groupstage</td>\n",
       "      <td>Finichinese</td>\n",
       "      <td>5</td>\n",
       "      <td>18-18-18-5-18-</td>\n",
       "    </tr>\n",
       "    <tr>\n",
       "      <th>5</th>\n",
       "      <td>rtcw_2002.11.26_cb-nc3_fin_vs_nor_groupstage</td>\n",
       "      <td>Finisanctity</td>\n",
       "      <td>5</td>\n",
       "      <td>17-17-17-17-17-</td>\n",
       "    </tr>\n",
       "    <tr>\n",
       "      <th>6</th>\n",
       "      <td>rtcw_2002.12.02_cb-nc3_swe_vs_rus_groupstage</td>\n",
       "      <td>Wtv-clanbase_Ii</td>\n",
       "      <td>6</td>\n",
       "      <td>17-17-17-17-17-17-</td>\n",
       "    </tr>\n",
       "    <tr>\n",
       "      <th>7</th>\n",
       "      <td>rtcw_2003.01.09_cb-nc3_swe_vs_nor_quarter-finals</td>\n",
       "      <td>Pr4eferox.nor</td>\n",
       "      <td>6</td>\n",
       "      <td>17-17-17-17-17-17-</td>\n",
       "    </tr>\n",
       "    <tr>\n",
       "      <th>8</th>\n",
       "      <td>rtcw_2002.12.01_cb-nc3_ger_vs_ita_groupstage</td>\n",
       "      <td>Caesber</td>\n",
       "      <td>5</td>\n",
       "      <td>5-5-5-5-18-</td>\n",
       "    </tr>\n",
       "    <tr>\n",
       "      <th>9</th>\n",
       "      <td>rtcw_2003.01.09_cb-nc3_ger_vs_ned_quarter-finals</td>\n",
       "      <td>Chn</td>\n",
       "      <td>5</td>\n",
       "      <td>17-5-5-17-17-</td>\n",
       "    </tr>\n",
       "    <tr>\n",
       "      <th>10</th>\n",
       "      <td>rtcw_2003.01.09_cb-nc3_ger_vs_ned_quarter-finals</td>\n",
       "      <td>Ses4m</td>\n",
       "      <td>5</td>\n",
       "      <td>5-5-17-17-17-</td>\n",
       "    </tr>\n",
       "    <tr>\n",
       "      <th>11</th>\n",
       "      <td>rtcw_2002.11.30_cb-nc3_pol_vs_lat_groupstage</td>\n",
       "      <td>Poljendel</td>\n",
       "      <td>5</td>\n",
       "      <td>18-18-18-18-18-</td>\n",
       "    </tr>\n",
       "    <tr>\n",
       "      <th>12</th>\n",
       "      <td>rtcw_2002.12.16_cb-nc3_swe_vs_den_groupstage</td>\n",
       "      <td>Absolut_Xtra!</td>\n",
       "      <td>5</td>\n",
       "      <td>4-5-17-17-17-</td>\n",
       "    </tr>\n",
       "  </tbody>\n",
       "</table>\n",
       "</div>"
      ],
      "text/plain": [
       "                                               match           player  \\\n",
       "0       rtcw_2002.11.28_cb-nc3_ned_vs_aut_groupstage         Ramzi.nl   \n",
       "1       rtcw_2002.11.28_cb-nc3_ned_vs_aut_groupstage         Ramzi.nl   \n",
       "2       rtcw_2002.11.28_cb-nc3_ned_vs_aut_groupstage        Jappio.nl   \n",
       "3       rtcw_2002.11.28_cb-nc3_ned_vs_aut_groupstage         Ramzi.nl   \n",
       "4       rtcw_2002.11.26_cb-nc3_fin_vs_nor_groupstage      Finichinese   \n",
       "5       rtcw_2002.11.26_cb-nc3_fin_vs_nor_groupstage     Finisanctity   \n",
       "6       rtcw_2002.12.02_cb-nc3_swe_vs_rus_groupstage  Wtv-clanbase_Ii   \n",
       "7   rtcw_2003.01.09_cb-nc3_swe_vs_nor_quarter-finals    Pr4eferox.nor   \n",
       "8       rtcw_2002.12.01_cb-nc3_ger_vs_ita_groupstage          Caesber   \n",
       "9   rtcw_2003.01.09_cb-nc3_ger_vs_ned_quarter-finals              Chn   \n",
       "10  rtcw_2003.01.09_cb-nc3_ger_vs_ned_quarter-finals            Ses4m   \n",
       "11      rtcw_2002.11.30_cb-nc3_pol_vs_lat_groupstage        Poljendel   \n",
       "12      rtcw_2002.12.16_cb-nc3_swe_vs_den_groupstage    Absolut_Xtra!   \n",
       "\n",
       "    spreecount             weapons  \n",
       "0            5      5-17-17-17-17-  \n",
       "1            5     17-17-17-17-17-  \n",
       "2            5        5-5-5-18-18-  \n",
       "3            6     17-17-5-5-5-17-  \n",
       "4            5      18-18-18-5-18-  \n",
       "5            5     17-17-17-17-17-  \n",
       "6            6  17-17-17-17-17-17-  \n",
       "7            6  17-17-17-17-17-17-  \n",
       "8            5         5-5-5-5-18-  \n",
       "9            5       17-5-5-17-17-  \n",
       "10           5       5-5-17-17-17-  \n",
       "11           5     18-18-18-18-18-  \n",
       "12           5       4-5-17-17-17-  "
      ]
     },
     "execution_count": 14,
     "metadata": {},
     "output_type": "execute_result"
    }
   ],
   "source": [
    "df_spree[['match', 'player', 'spreecount', 'weapons']]"
   ]
  },
  {
   "cell_type": "code",
   "execution_count": 15,
   "metadata": {
    "collapsed": true
   },
   "outputs": [],
   "source": [
    "RTCW.cut_demos(root_path, demos_dct, df_spree, offset_start = 8, offset_end = 8, transform_to_dm_60 = True)\n",
    "RTCW.generate_capture_list(df_spree, transform_to_dm_60 = True)"
   ]
  },
  {
   "cell_type": "code",
   "execution_count": null,
   "metadata": {},
   "outputs": [],
   "source": [
    "for demo in df_spree.md5:\n",
    "    for k in demos_dct:\n",
    "        if demo in demos_dct[k][0]:\n",
    "            print k"
   ]
  },
  {
   "cell_type": "code",
   "execution_count": null,
   "metadata": {},
   "outputs": [],
   "source": [
    "reload(RTCW)"
   ]
  },
  {
   "cell_type": "code",
   "execution_count": 6,
   "metadata": {},
   "outputs": [
    {
     "data": {
      "text/html": [
       "<div>\n",
       "<style>\n",
       "    .dataframe thead tr:only-child th {\n",
       "        text-align: right;\n",
       "    }\n",
       "\n",
       "    .dataframe thead th {\n",
       "        text-align: left;\n",
       "    }\n",
       "\n",
       "    .dataframe tbody tr th {\n",
       "        vertical-align: top;\n",
       "    }\n",
       "</style>\n",
       "<table border=\"1\" class=\"dataframe\">\n",
       "  <thead>\n",
       "    <tr style=\"text-align: right;\">\n",
       "      <th></th>\n",
       "      <th>dwSeq</th>\n",
       "      <th>szMd5</th>\n",
       "      <th>bAttacker</th>\n",
       "      <th>bTarget</th>\n",
       "      <th>bWeapon</th>\n",
       "      <th>dwTime</th>\n",
       "      <th>bIsTeamkill</th>\n",
       "      <th>szTimeString</th>\n",
       "      <th>szMessage</th>\n",
       "      <th>Date</th>\n",
       "      <th>Importance</th>\n",
       "      <th>League</th>\n",
       "      <th>Shoutcast</th>\n",
       "      <th>TeamA</th>\n",
       "      <th>TeamB</th>\n",
       "      <th>demoName</th>\n",
       "      <th>matchName</th>\n",
       "      <th>szCleanName</th>\n",
       "    </tr>\n",
       "  </thead>\n",
       "  <tbody>\n",
       "  </tbody>\n",
       "</table>\n",
       "</div>"
      ],
      "text/plain": [
       "Empty DataFrame\n",
       "Columns: [dwSeq, szMd5, bAttacker, bTarget, bWeapon, dwTime, bIsTeamkill, szTimeString, szMessage, Date, Importance, League, Shoutcast, TeamA, TeamB, demoName, matchName, szCleanName]\n",
       "Index: []"
      ]
     },
     "execution_count": 6,
     "metadata": {},
     "output_type": "execute_result"
    }
   ],
   "source": [
    "obituary_df"
   ]
  },
  {
   "cell_type": "code",
   "execution_count": null,
   "metadata": {
    "collapsed": true
   },
   "outputs": [],
   "source": []
  }
 ],
 "metadata": {
  "kernelspec": {
   "display_name": "Python 2",
   "language": "python",
   "name": "python2"
  },
  "language_info": {
   "codemirror_mode": {
    "name": "ipython",
    "version": 2
   },
   "file_extension": ".py",
   "mimetype": "text/x-python",
   "name": "python",
   "nbconvert_exporter": "python",
   "pygments_lexer": "ipython2",
   "version": "2.7.14"
  }
 },
 "nbformat": 4,
 "nbformat_minor": 2
}
