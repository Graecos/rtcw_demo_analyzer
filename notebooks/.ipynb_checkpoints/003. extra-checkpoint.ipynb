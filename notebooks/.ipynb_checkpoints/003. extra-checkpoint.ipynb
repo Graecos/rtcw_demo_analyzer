{
 "cells": [
  {
   "cell_type": "code",
   "execution_count": 1,
   "metadata": {},
   "outputs": [],
   "source": [
    "import os, sys\n",
    "import pandas as pd\n",
    "import warnings\n",
    "warnings.filterwarnings('ignore')\n",
    "\n",
    "#import the functions\n",
    "module_path = os.path.abspath(os.path.join('../src/'))\n",
    "if module_path not in sys.path:\n",
    "    sys.path.append(module_path)\n",
    "    \n",
    "import rtcw_functions_custom as RTCW\n",
    "reload(RTCW)\n",
    "\n",
    "\n",
    "\n",
    "db_name = 'extra.db'\n",
    "demos_folder = 'demosextra'\n",
    "\n",
    "cwd = os.getcwd()\n",
    "demos_path = os.path.join(cwd, '../', demos_folder)\n",
    "\n",
    "exe_name = 'Anders.Gaming.LibTech3.exe'\n",
    "root_path = 'C:\\\\Users\\\\Jelle\\\\Documents\\\\GIT\\\\rtcw_demo_analyzer' #for executable we need a direct path"
   ]
  },
  {
   "cell_type": "code",
   "execution_count": 2,
   "metadata": {},
   "outputs": [
    {
     "name": "stdout",
     "output_type": "stream",
     "text": [
      "finished parsing all matches!\n"
     ]
    }
   ],
   "source": [
    "#get demos_dct\n",
    "demos_dct = RTCW.make_dictionary(demos_path)"
   ]
  },
  {
   "cell_type": "code",
   "execution_count": 7,
   "metadata": {},
   "outputs": [
    {
     "name": "stdout",
     "output_type": "stream",
     "text": [
      "obituary table fetched in 0.01 seconds\n",
      "demo table fetched in 0.0 seconds\n",
      "player table fetched in 0.0 seconds\n",
      "chatmessage table fetched in 0.0 seconds\n"
     ]
    }
   ],
   "source": [
    "#load obituaries in a df\n",
    "import sqlite3_connector\n",
    "db = sqlite3_connector.sqlite3_connector(os.path.join(root_path, db_name))\n",
    "\n",
    "obituary_df = db.get_table_as_df(table_name= 'obituary')\n",
    "demo_df = db.get_table_as_df(table_name= 'demo')\n",
    "player_df = db.get_table_as_df(table_name= 'player')\n",
    "obituary_df = RTCW.add_match_data(obituary_df, player_df, demos_dct)\n",
    "chatmessages_df = db.get_table_as_df(table_name= 'chatmessage')\n",
    "chatmessages_df = RTCW.add_match_data(chatmessages_df, player_df, demos_dct, what_df = 'chatmessages_df')\n",
    "chatmessages_df = RTCW.feature_extraction_chat(chatmessages_df)"
   ]
  },
  {
   "cell_type": "code",
   "execution_count": 12,
   "metadata": {},
   "outputs": [
    {
     "name": "stdout",
     "output_type": "stream",
     "text": [
      "all done!\n"
     ]
    }
   ],
   "source": [
    "df_spree = RTCW.get_kill_sprees(obituary_df, \n",
    "                                demo_df,\n",
    "                                maxtime_secs = 30, \n",
    "                                include_weapon_filter = ['merlinator'],\n",
    "                                exclude_weapon_filter = None, \n",
    "                                minspree = 3,\n",
    "                                pov_sprees_only = False,\n",
    "                                verbose = True)"
   ]
  },
  {
   "cell_type": "code",
   "execution_count": 13,
   "metadata": {},
   "outputs": [
    {
     "data": {
      "text/html": [
       "<div>\n",
       "<style scoped>\n",
       "    .dataframe tbody tr th:only-of-type {\n",
       "        vertical-align: middle;\n",
       "    }\n",
       "\n",
       "    .dataframe tbody tr th {\n",
       "        vertical-align: top;\n",
       "    }\n",
       "\n",
       "    .dataframe thead th {\n",
       "        text-align: right;\n",
       "    }\n",
       "</style>\n",
       "<table border=\"1\" class=\"dataframe\">\n",
       "  <thead>\n",
       "    <tr style=\"text-align: right;\">\n",
       "      <th></th>\n",
       "      <th>match</th>\n",
       "      <th>demo</th>\n",
       "      <th>player</th>\n",
       "      <th>spreecount</th>\n",
       "      <th>weapons</th>\n",
       "    </tr>\n",
       "  </thead>\n",
       "  <tbody>\n",
       "  </tbody>\n",
       "</table>\n",
       "</div>"
      ],
      "text/plain": [
       "Empty DataFrame\n",
       "Columns: [match, demo, player, spreecount, weapons]\n",
       "Index: []"
      ]
     },
     "execution_count": 13,
     "metadata": {},
     "output_type": "execute_result"
    }
   ],
   "source": [
    "df_spree[['match', 'demo', 'player', 'spreecount', 'weapons']]"
   ]
  },
  {
   "cell_type": "code",
   "execution_count": 11,
   "metadata": {},
   "outputs": [],
   "source": [
    "RTCW.cut_demos(root_path, demos_dct, df_spree, offset_start = 8, offset_end = 8, transform_to_dm_60 = True, demo_folder_name = demos_folder)\n",
    "RTCW.generate_capture_list(df_spree, transform_to_dm_60 = True)"
   ]
  },
  {
   "cell_type": "code",
   "execution_count": null,
   "metadata": {},
   "outputs": [],
   "source": [
    "res = RTCW.get_docruns(chatmessages_df, \n",
    "                       min_docrun_length = 10, \n",
    "                       max_timeleft = 30, \n",
    "                       docs_succesful = None, \n",
    "                       min_docs_lost = 2, \n",
    "                       verbose = True)\n",
    "res[['start', 'end', 'start_secsleft', 'end_secsleft', 'duration', 'times_lost_docs', 'won_round', 'md5']]"
   ]
  },
  {
   "cell_type": "code",
   "execution_count": null,
   "metadata": {},
   "outputs": [],
   "source": [
    "RTCW.cut_demos(root_path, demos_dct, res, demo_type = 'docs', offset_start = 8, offset_end = 8, transform_to_dm_60 = True, demo_folder_name = demos_folder)\n",
    "RTCW.generate_capture_list(res, demo_type='docs', transform_to_dm_60 = True)"
   ]
  },
  {
   "cell_type": "code",
   "execution_count": null,
   "metadata": {},
   "outputs": [],
   "source": [
    "df_wtv = RTCW.get_wtvmoments(chatmessages_df, z = 7, window = 10, verbose=True)\n",
    "df_wtv"
   ]
  },
  {
   "cell_type": "code",
   "execution_count": null,
   "metadata": {},
   "outputs": [],
   "source": [
    "RTCW.cut_demos(root_path, demos_dct, df_wtv, demo_type = 'wtv', offset_start = 15, offset_end = 8, transform_to_dm_60 = True, demo_folder_name= 'demos')\n",
    "RTCW.generate_capture_list(df_wtv, demo_type='wtv', transform_to_dm_60 = True)"
   ]
  },
  {
   "cell_type": "code",
   "execution_count": null,
   "metadata": {},
   "outputs": [],
   "source": []
  }
 ],
 "metadata": {
  "kernelspec": {
   "display_name": "Python 2",
   "language": "python",
   "name": "python2"
  },
  "language_info": {
   "codemirror_mode": {
    "name": "ipython",
    "version": 2
   },
   "file_extension": ".py",
   "mimetype": "text/x-python",
   "name": "python",
   "nbconvert_exporter": "python",
   "pygments_lexer": "ipython2",
   "version": "2.7.15"
  }
 },
 "nbformat": 4,
 "nbformat_minor": 2
}
