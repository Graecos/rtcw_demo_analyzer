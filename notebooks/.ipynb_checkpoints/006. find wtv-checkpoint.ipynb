{
 "cells": [
  {
   "cell_type": "code",
   "execution_count": 1,
   "metadata": {},
   "outputs": [],
   "source": [
    "import os, sys\n",
    "import pandas as pd\n",
    "import numpy as np\n",
    "from scipy import stats\n",
    "import warnings\n",
    "warnings.filterwarnings('ignore')\n",
    "\n",
    "#import the functions\n",
    "module_path = os.path.abspath(os.path.join('../src/'))\n",
    "if module_path not in sys.path:\n",
    "    sys.path.append(module_path)\n",
    "    \n",
    "import rtcw_functions as RTCW\n",
    "reload(RTCW)\n",
    "\n",
    "db_name = 'rtcw_db.db'\n",
    "demos_folder = 'demos'\n",
    "\n",
    "cwd = os.getcwd()\n",
    "demos_path = os.path.join(cwd, '../', demos_folder)\n",
    "\n",
    "exe_name = 'Anders.Gaming.LibTech3.exe'\n",
    "demos_folder = 'demos'\n",
    "root_path = 'C:\\\\Users\\\\Jelle\\\\Documents\\\\GIT\\\\rtcw_demo_analyzer' #for executable we need a direct path"
   ]
  },
  {
   "cell_type": "code",
   "execution_count": 2,
   "metadata": {},
   "outputs": [
    {
     "name": "stdout",
     "output_type": "stream",
     "text": [
      "parsed 100 matches\n",
      "parsed 200 matches\n",
      "parsed 300 matches\n",
      "parsed 400 matches\n",
      "finished parsing all matches!\n"
     ]
    }
   ],
   "source": [
    "#get demos_dct\n",
    "demos_dct = RTCW.make_dictionary(demos_path)"
   ]
  },
  {
   "cell_type": "code",
   "execution_count": 3,
   "metadata": {},
   "outputs": [],
   "source": [
    "#load obituaries in a df\n",
    "import sqlite3_connector\n",
    "db = sqlite3_connector.sqlite3_connector(os.path.join(root_path, db_name))"
   ]
  },
  {
   "cell_type": "code",
   "execution_count": 4,
   "metadata": {},
   "outputs": [
    {
     "name": "stdout",
     "output_type": "stream",
     "text": [
      "obituary table fetched in 0.41 seconds\n",
      "demo table fetched in 0.02 seconds\n",
      "player table fetched in 0.04 seconds\n",
      "chatmessage table fetched in 0.64 seconds\n"
     ]
    }
   ],
   "source": [
    "obituary_df = db.get_table_as_df(table_name= 'obituary')\n",
    "demo_df = db.get_table_as_df(table_name= 'demo')\n",
    "player_df = db.get_table_as_df(table_name= 'player')\n",
    "obituary_df = RTCW.add_match_data(obituary_df, player_df, demos_dct)\n",
    "chatmessages_df = db.get_table_as_df(table_name= 'chatmessage')\n",
    "chatmessages_df = RTCW.add_match_data(chatmessages_df, player_df, demos_dct, what_df = 'chatmessages_df')\n",
    "chatmessages_df = RTCW.feature_extraction_chat(chatmessages_df)"
   ]
  },
  {
   "cell_type": "code",
   "execution_count": 5,
   "metadata": {},
   "outputs": [],
   "source": [
    "chatmessages_df = chatmessages_df[chatmessages_df['matchName'] == 'rtcw_2003.05.04_cb-ec7_4kings_vs_snaps_quarter-finals_sc']"
   ]
  },
  {
   "cell_type": "code",
   "execution_count": 6,
   "metadata": {},
   "outputs": [],
   "source": [
    "def get_wtvmoments(chatmessages_df, z = 5, window = 10, verbose=True):\n",
    "    pd_md5 = []\n",
    "    pd_start_wtv = []\n",
    "    pd_end_wtv = []\n",
    "    pd_demo_name = []\n",
    "    pd_match_name = []\n",
    "    \n",
    "    #helper variables for verbose\n",
    "    counter = 0\n",
    "    total_demos = chatmessages_df.szMd5.nunique()\n",
    "\n",
    "    for demo in chatmessages_df.szMd5.unique():\n",
    "        df_demo = chatmessages_df.loc[(chatmessages_df['szMd5'] == demo) & (chatmessages_df['WTV'] == 1)]\n",
    "        if len(df_demo) > 0:\n",
    "            demo_name = df_demo.demoName.unique()\n",
    "            match_name = df_demo.matchName.unique()\n",
    "            counter += 1\n",
    "\n",
    "            df_demo['sec'] = df_demo['dwTime'] / 1000\n",
    "            df_demo['sec'] = df_demo['sec'].astype(int)\n",
    "            df_demo.sort_values('sec', inplace=True)\n",
    "            cnt = df_demo.groupby('sec').count()['szMessage'].reset_index()\n",
    "            cnt.rename(columns = {'szMessage': 'count'}, inplace=True)\n",
    "\n",
    "            # extrapolate and put zeros for seconds where there is no wtv chat\n",
    "            base = pd.DataFrame(range(cnt['sec'].min(), cnt['sec'].max() + 1))\n",
    "            base.rename(columns = {0:'sec'}, inplace=True)\n",
    "            base['count'] = 0\n",
    "            cnt = base.merge(cnt, how = 'left', on = 'sec')\n",
    "            cnt['count'] = cnt['count_y'].fillna(0)\n",
    "            cnt = cnt[['sec', 'count']]\n",
    "\n",
    "            # find z-scores\n",
    "            cnt['z'] = np.abs(stats.zscore(cnt['count']))\n",
    "\n",
    "            # subset z-scores above certain threshold\n",
    "            cnt = cnt[cnt['z']> z]\n",
    "\n",
    "            # keep observations that fall in certain time window\n",
    "            prev = 0\n",
    "            lst = []\n",
    "            for i in cnt['sec']:\n",
    "                if i - prev > window:\n",
    "                    lst.append(i)\n",
    "                prev = i\n",
    "                \n",
    "            for i in lst:     \n",
    "                pd_md5.append(demo)\n",
    "                pd_start_wtv.append(i * 1000)\n",
    "                pd_end_wtv.append(i * 1000)\n",
    "                pd_demo_name.append(demo_name[0])\n",
    "                pd_match_name.append(match_name[0])\n",
    "                \n",
    "            #verbose shizzle\n",
    "        if counter % 100 == 0:\n",
    "            if verbose:\n",
    "                print 'scanned ' + str(counter) + ' demos of ' + str(total_demos) + ' demos in total' \n",
    "\n",
    "    print 'all done!'\n",
    "\n",
    "\n",
    "    #make final dataframe where 1 row is a spree with all the necessary info\n",
    "    df_wtv = pd.DataFrame(\n",
    "    {'md5': pd_md5,\n",
    "     'start': pd_start_wtv,\n",
    "     'end': pd_end_wtv,\n",
    "     'demo': pd_demo_name,\n",
    "     'match': pd_match_name,\n",
    "    })     \n",
    "    \n",
    "    return df_wtv       "
   ]
  },
  {
   "cell_type": "code",
   "execution_count": 7,
   "metadata": {},
   "outputs": [
    {
     "name": "stdout",
     "output_type": "stream",
     "text": [
      "all done!\n"
     ]
    },
    {
     "data": {
      "text/html": [
       "<div>\n",
       "<style scoped>\n",
       "    .dataframe tbody tr th:only-of-type {\n",
       "        vertical-align: middle;\n",
       "    }\n",
       "\n",
       "    .dataframe tbody tr th {\n",
       "        vertical-align: top;\n",
       "    }\n",
       "\n",
       "    .dataframe thead th {\n",
       "        text-align: right;\n",
       "    }\n",
       "</style>\n",
       "<table border=\"1\" class=\"dataframe\">\n",
       "  <thead>\n",
       "    <tr style=\"text-align: right;\">\n",
       "      <th></th>\n",
       "      <th>demo</th>\n",
       "      <th>end</th>\n",
       "      <th>match</th>\n",
       "      <th>md5</th>\n",
       "      <th>start</th>\n",
       "    </tr>\n",
       "  </thead>\n",
       "  <tbody>\n",
       "    <tr>\n",
       "      <th>0</th>\n",
       "      <td>220727-4K7Zommy-mp_village.dm_60</td>\n",
       "      <td>22673000</td>\n",
       "      <td>rtcw_2003.05.04_cb-ec7_4kings_vs_snaps_quarter...</td>\n",
       "      <td>652052764a3ceaec54af67f790ec6d84</td>\n",
       "      <td>22673000</td>\n",
       "    </tr>\n",
       "    <tr>\n",
       "      <th>1</th>\n",
       "      <td>221827-4K7Creamy-mp_village.dm_60</td>\n",
       "      <td>23003000</td>\n",
       "      <td>rtcw_2003.05.04_cb-ec7_4kings_vs_snaps_quarter...</td>\n",
       "      <td>2dbbcdd720ac9d3132b4ff002a373960</td>\n",
       "      <td>23003000</td>\n",
       "    </tr>\n",
       "    <tr>\n",
       "      <th>2</th>\n",
       "      <td>221827-4K7Creamy-mp_village.dm_60</td>\n",
       "      <td>23283000</td>\n",
       "      <td>rtcw_2003.05.04_cb-ec7_4kings_vs_snaps_quarter...</td>\n",
       "      <td>2dbbcdd720ac9d3132b4ff002a373960</td>\n",
       "      <td>23283000</td>\n",
       "    </tr>\n",
       "    <tr>\n",
       "      <th>3</th>\n",
       "      <td>221827-4K7Creamy-mp_village.dm_60</td>\n",
       "      <td>23978000</td>\n",
       "      <td>rtcw_2003.05.04_cb-ec7_4kings_vs_snaps_quarter...</td>\n",
       "      <td>2dbbcdd720ac9d3132b4ff002a373960</td>\n",
       "      <td>23978000</td>\n",
       "    </tr>\n",
       "    <tr>\n",
       "      <th>4</th>\n",
       "      <td>224530-4K7Explicit-mp_beach.dm_60</td>\n",
       "      <td>25130000</td>\n",
       "      <td>rtcw_2003.05.04_cb-ec7_4kings_vs_snaps_quarter...</td>\n",
       "      <td>0d53107668f4de637ca437cea32a36fe</td>\n",
       "      <td>25130000</td>\n",
       "    </tr>\n",
       "    <tr>\n",
       "      <th>5</th>\n",
       "      <td>224530-4K7Explicit-mp_beach.dm_60</td>\n",
       "      <td>25167000</td>\n",
       "      <td>rtcw_2003.05.04_cb-ec7_4kings_vs_snaps_quarter...</td>\n",
       "      <td>0d53107668f4de637ca437cea32a36fe</td>\n",
       "      <td>25167000</td>\n",
       "    </tr>\n",
       "    <tr>\n",
       "      <th>6</th>\n",
       "      <td>230228-4K7Ogdoad-mp_beach.dm_60</td>\n",
       "      <td>25536000</td>\n",
       "      <td>rtcw_2003.05.04_cb-ec7_4kings_vs_snaps_quarter...</td>\n",
       "      <td>0c27ed78db0f17e453c500cdffb34b4d</td>\n",
       "      <td>25536000</td>\n",
       "    </tr>\n",
       "    <tr>\n",
       "      <th>7</th>\n",
       "      <td>230228-4K7Ogdoad-mp_beach.dm_60</td>\n",
       "      <td>25571000</td>\n",
       "      <td>rtcw_2003.05.04_cb-ec7_4kings_vs_snaps_quarter...</td>\n",
       "      <td>0c27ed78db0f17e453c500cdffb34b4d</td>\n",
       "      <td>25571000</td>\n",
       "    </tr>\n",
       "    <tr>\n",
       "      <th>8</th>\n",
       "      <td>230228-4K7Ogdoad-mp_beach.dm_60</td>\n",
       "      <td>25602000</td>\n",
       "      <td>rtcw_2003.05.04_cb-ec7_4kings_vs_snaps_quarter...</td>\n",
       "      <td>0c27ed78db0f17e453c500cdffb34b4d</td>\n",
       "      <td>25602000</td>\n",
       "    </tr>\n",
       "    <tr>\n",
       "      <th>9</th>\n",
       "      <td>230228-4K7Ogdoad-mp_beach.dm_60</td>\n",
       "      <td>25617000</td>\n",
       "      <td>rtcw_2003.05.04_cb-ec7_4kings_vs_snaps_quarter...</td>\n",
       "      <td>0c27ed78db0f17e453c500cdffb34b4d</td>\n",
       "      <td>25617000</td>\n",
       "    </tr>\n",
       "  </tbody>\n",
       "</table>\n",
       "</div>"
      ],
      "text/plain": [
       "                                demo       end  \\\n",
       "0   220727-4K7Zommy-mp_village.dm_60  22673000   \n",
       "1  221827-4K7Creamy-mp_village.dm_60  23003000   \n",
       "2  221827-4K7Creamy-mp_village.dm_60  23283000   \n",
       "3  221827-4K7Creamy-mp_village.dm_60  23978000   \n",
       "4  224530-4K7Explicit-mp_beach.dm_60  25130000   \n",
       "5  224530-4K7Explicit-mp_beach.dm_60  25167000   \n",
       "6    230228-4K7Ogdoad-mp_beach.dm_60  25536000   \n",
       "7    230228-4K7Ogdoad-mp_beach.dm_60  25571000   \n",
       "8    230228-4K7Ogdoad-mp_beach.dm_60  25602000   \n",
       "9    230228-4K7Ogdoad-mp_beach.dm_60  25617000   \n",
       "\n",
       "                                               match  \\\n",
       "0  rtcw_2003.05.04_cb-ec7_4kings_vs_snaps_quarter...   \n",
       "1  rtcw_2003.05.04_cb-ec7_4kings_vs_snaps_quarter...   \n",
       "2  rtcw_2003.05.04_cb-ec7_4kings_vs_snaps_quarter...   \n",
       "3  rtcw_2003.05.04_cb-ec7_4kings_vs_snaps_quarter...   \n",
       "4  rtcw_2003.05.04_cb-ec7_4kings_vs_snaps_quarter...   \n",
       "5  rtcw_2003.05.04_cb-ec7_4kings_vs_snaps_quarter...   \n",
       "6  rtcw_2003.05.04_cb-ec7_4kings_vs_snaps_quarter...   \n",
       "7  rtcw_2003.05.04_cb-ec7_4kings_vs_snaps_quarter...   \n",
       "8  rtcw_2003.05.04_cb-ec7_4kings_vs_snaps_quarter...   \n",
       "9  rtcw_2003.05.04_cb-ec7_4kings_vs_snaps_quarter...   \n",
       "\n",
       "                                md5     start  \n",
       "0  652052764a3ceaec54af67f790ec6d84  22673000  \n",
       "1  2dbbcdd720ac9d3132b4ff002a373960  23003000  \n",
       "2  2dbbcdd720ac9d3132b4ff002a373960  23283000  \n",
       "3  2dbbcdd720ac9d3132b4ff002a373960  23978000  \n",
       "4  0d53107668f4de637ca437cea32a36fe  25130000  \n",
       "5  0d53107668f4de637ca437cea32a36fe  25167000  \n",
       "6  0c27ed78db0f17e453c500cdffb34b4d  25536000  \n",
       "7  0c27ed78db0f17e453c500cdffb34b4d  25571000  \n",
       "8  0c27ed78db0f17e453c500cdffb34b4d  25602000  \n",
       "9  0c27ed78db0f17e453c500cdffb34b4d  25617000  "
      ]
     },
     "execution_count": 7,
     "metadata": {},
     "output_type": "execute_result"
    }
   ],
   "source": [
    "df_wtv = get_wtvmoments(chatmessages_df, z = 5, window = 10, verbose=True)\n",
    "df_wtv"
   ]
  },
  {
   "cell_type": "code",
   "execution_count": 8,
   "metadata": {},
   "outputs": [],
   "source": [
    "RTCW.cut_demos(root_path, demos_dct, df_wtv, demo_type='wtv', offset_start = 8, offset_end = 8, transform_to_dm_60 = True)"
   ]
  },
  {
   "cell_type": "code",
   "execution_count": 10,
   "metadata": {},
   "outputs": [],
   "source": [
    "RTCW.generate_capture_list(df_wtv, demo_type='wtv', transform_to_dm_60 = True)"
   ]
  },
  {
   "cell_type": "code",
   "execution_count": null,
   "metadata": {},
   "outputs": [],
   "source": [
    "df_spree = RTCW.get_kill_sprees(obituary_df, \n",
    "                                demo_df,\n",
    "                                maxtime_secs = 4, \n",
    "                                include_weapon_filter = ['panzerfaust'],\n",
    "                                exclude_weapon_filter = None, \n",
    "                                minspree = 4,\n",
    "                                pov_sprees_only = False,\n",
    "                                verbose = True)"
   ]
  },
  {
   "cell_type": "code",
   "execution_count": null,
   "metadata": {},
   "outputs": [],
   "source": [
    "df_spree[['match', 'demo', 'player', 'spreecount', 'weapons']]"
   ]
  },
  {
   "cell_type": "code",
   "execution_count": null,
   "metadata": {},
   "outputs": [],
   "source": [
    "RTCW.cut_demos(root_path, demos_dct, df_spree, offset_start = 8, offset_end = 8, transform_to_dm_60 = True)\n",
    "RTCW.generate_capture_list(df_spree, transform_to_dm_60 = True)"
   ]
  },
  {
   "cell_type": "code",
   "execution_count": null,
   "metadata": {},
   "outputs": [],
   "source": [
    "res = RTCW.get_docruns(chatmessages_df, \n",
    "                       min_docrun_length = 10, \n",
    "                       max_timeleft = 30, \n",
    "                       docs_succesful = None, \n",
    "                       min_docs_lost = 2, \n",
    "                       verbose = True)\n",
    "res[['start', 'end', 'start_secsleft', 'end_secsleft', 'duration', 'times_lost_docs', 'won_round', 'md5']]"
   ]
  },
  {
   "cell_type": "code",
   "execution_count": null,
   "metadata": {},
   "outputs": [],
   "source": [
    "RTCW.cut_demos(root_path, demos_dct, res, demo_type = 'docs', offset_start = 8, offset_end = 8, transform_to_dm_60 = True, demo_folder_name= 'demos')\n"
   ]
  },
  {
   "cell_type": "code",
   "execution_count": null,
   "metadata": {},
   "outputs": [],
   "source": []
  }
 ],
 "metadata": {
  "kernelspec": {
   "display_name": "Python 2",
   "language": "python",
   "name": "python2"
  },
  "language_info": {
   "codemirror_mode": {
    "name": "ipython",
    "version": 2
   },
   "file_extension": ".py",
   "mimetype": "text/x-python",
   "name": "python",
   "nbconvert_exporter": "python",
   "pygments_lexer": "ipython2",
   "version": "2.7.15"
  }
 },
 "nbformat": 4,
 "nbformat_minor": 2
}
