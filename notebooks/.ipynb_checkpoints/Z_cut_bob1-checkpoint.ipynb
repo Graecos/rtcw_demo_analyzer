{
 "cells": [
  {
   "cell_type": "code",
   "execution_count": 12,
   "metadata": {},
   "outputs": [],
   "source": [
    "import os, sys\n",
    "import pandas as pd\n",
    "\n",
    "#import the functions\n",
    "module_path = os.path.abspath(os.path.join('../src/'))\n",
    "if module_path not in sys.path:\n",
    "    sys.path.append(module_path)\n",
    "    \n",
    "import rtcw_functions as RTCW\n",
    "reload(RTCW)\n",
    "\n",
    "db_name = 'rtcw_db.db'\n",
    "demos_folder = 'demos'\n",
    "cwd = os.getcwd()\n",
    "demos_path = os.path.join(cwd, '../', demos_folder)\n",
    "\n",
    "exe_name = 'Anders.Gaming.LibTech3.exe'\n",
    "root_path = 'C:\\\\Users\\\\Jelle\\\\Documents\\\\GIT\\\\rtcw_demo_analyzer' #for executable we need a direct path"
   ]
  },
  {
   "cell_type": "code",
   "execution_count": 13,
   "metadata": {},
   "outputs": [
    {
     "name": "stdout",
     "output_type": "stream",
     "text": [
      "parsed 100 matches\n",
      "parsed 200 matches\n",
      "parsed 300 matches\n",
      "parsed 400 matches\n",
      "finished parsing all matches!\n"
     ]
    }
   ],
   "source": [
    "#get demos_dct\n",
    "demos_dct = RTCW.make_dictionary(demos_path)"
   ]
  },
  {
   "cell_type": "code",
   "execution_count": 14,
   "metadata": {},
   "outputs": [],
   "source": [
    "#load obituaries in a df\n",
    "import sqlite3_connector\n",
    "reload(sqlite3_connector)\n",
    "db = sqlite3_connector.sqlite3_connector(os.path.join(root_path, db_name))"
   ]
  },
  {
   "cell_type": "code",
   "execution_count": 15,
   "metadata": {},
   "outputs": [
    {
     "name": "stdout",
     "output_type": "stream",
     "text": [
      "obituary table fetched in 0.53 seconds\n",
      "demo table fetched in 0.04 seconds\n",
      "player table fetched in 0.1 seconds\n",
      "roundstats table fetched in 0.11 seconds\n",
      "bulletevent table fetched in 1.14 seconds\n",
      "chatmessage table fetched in 0.82 seconds\n"
     ]
    }
   ],
   "source": [
    "obituary_df = db.get_table_as_df(table_name= 'obituary')\n",
    "demo_df = db.get_table_as_df(table_name= 'demo')\n",
    "player_df = db.get_table_as_df(table_name= 'player')\n",
    "roundstats_df = db.get_table_as_df(table_name='roundstats')\n",
    "bulletevent_df = db.get_table_as_df(table_name='bulletevent')\n",
    "obituary_df = RTCW.add_match_data(obituary_df, player_df, demos_dct)\n",
    "obituary_df = obituary_df.loc[obituary_df['League'] == 'bob1']\n",
    "#obituary_df = obituary_df.loc[obituary_df['Importance'].isin(['lb-round3', 'wb-semi-finals', 'lb-round4'])]\n",
    "\n",
    "bulletevent_df = RTCW.add_match_data(bulletevent_df, player_df, demos_dct)\n",
    "chatmessages_df = db.get_table_as_df(table_name= 'chatmessage')\n",
    "chatmessages_df = RTCW.add_match_data(chatmessages_df, player_df, demos_dct, what_df = 'chatmessages_df')\n",
    "chatmessages_df = RTCW.feature_extraction_chat(chatmessages_df)"
   ]
  },
  {
   "cell_type": "code",
   "execution_count": 35,
   "metadata": {},
   "outputs": [
    {
     "name": "stdout",
     "output_type": "stream",
     "text": [
      "all done!\n"
     ]
    }
   ],
   "source": [
    "df_spree = RTCW.get_kill_sprees(obituary_df, \n",
    "                                demo_df,\n",
    "                                maxtime_secs = 3, \n",
    "                                include_weapon_filter = ['smg','pistol'],\n",
    "                                exclude_weapon_filter = None, \n",
    "                                minspree = 3,\n",
    "                                pov_sprees_only = False,\n",
    "                                verbose = True)"
   ]
  },
  {
   "cell_type": "code",
   "execution_count": 36,
   "metadata": {},
   "outputs": [
    {
     "data": {
      "text/html": [
       "<div>\n",
       "<style scoped>\n",
       "    .dataframe tbody tr th:only-of-type {\n",
       "        vertical-align: middle;\n",
       "    }\n",
       "\n",
       "    .dataframe tbody tr th {\n",
       "        vertical-align: top;\n",
       "    }\n",
       "\n",
       "    .dataframe thead th {\n",
       "        text-align: right;\n",
       "    }\n",
       "</style>\n",
       "<table border=\"1\" class=\"dataframe\">\n",
       "  <thead>\n",
       "    <tr style=\"text-align: right;\">\n",
       "      <th></th>\n",
       "      <th>match</th>\n",
       "      <th>demo</th>\n",
       "      <th>player</th>\n",
       "      <th>spreecount</th>\n",
       "      <th>weapons</th>\n",
       "      <th>attacker</th>\n",
       "      <th>pov_id</th>\n",
       "    </tr>\n",
       "  </thead>\n",
       "  <tbody>\n",
       "    <tr>\n",
       "      <th>0</th>\n",
       "      <td>rtcw_2002.01.29_bob1_dropscape_vs_ep_round1</td>\n",
       "      <td>[DS-P]Pat.dm_57</td>\n",
       "      <td>[ds-p]fubar</td>\n",
       "      <td>3</td>\n",
       "      <td>17-17-17-</td>\n",
       "      <td>14</td>\n",
       "      <td>10</td>\n",
       "    </tr>\n",
       "    <tr>\n",
       "      <th>1</th>\n",
       "      <td>rtcw_2002.01.29_bob1_dropscape_vs_ep_round1</td>\n",
       "      <td>[DS-P]Pat.dm_57</td>\n",
       "      <td>[ep]novage</td>\n",
       "      <td>3</td>\n",
       "      <td>18-18-18-</td>\n",
       "      <td>3</td>\n",
       "      <td>10</td>\n",
       "    </tr>\n",
       "    <tr>\n",
       "      <th>2</th>\n",
       "      <td>rtcw_2002.01.29_bob1_dropscape_vs_ep_round1</td>\n",
       "      <td>[DS-P]Pat.dm_57</td>\n",
       "      <td>[ds-p]gfunk</td>\n",
       "      <td>3</td>\n",
       "      <td>17-17-17-</td>\n",
       "      <td>4</td>\n",
       "      <td>10</td>\n",
       "    </tr>\n",
       "    <tr>\n",
       "      <th>3</th>\n",
       "      <td>rtcw_2002.01.31_bob1_empire_vs_4ku_round1</td>\n",
       "      <td>1012542198demo0001.dm_57</td>\n",
       "      <td>Iii-busta</td>\n",
       "      <td>3</td>\n",
       "      <td>17-17-17-</td>\n",
       "      <td>9</td>\n",
       "      <td>5</td>\n",
       "    </tr>\n",
       "    <tr>\n",
       "      <th>4</th>\n",
       "      <td>rtcw_2002.01.29_bob1_abuse_vs_twp_round1</td>\n",
       "      <td>r1msh0t.dm_57</td>\n",
       "      <td>Amethod</td>\n",
       "      <td>3</td>\n",
       "      <td>18-18-18-</td>\n",
       "      <td>14</td>\n",
       "      <td>15</td>\n",
       "    </tr>\n",
       "    <tr>\n",
       "      <th>5</th>\n",
       "      <td>rtcw_2002.01.31_bob1_flying-hellfish_vs_bone_r...</td>\n",
       "      <td>04_1012619346round8.dm_57</td>\n",
       "      <td>(bone)-bong</td>\n",
       "      <td>3</td>\n",
       "      <td>18-18-18-</td>\n",
       "      <td>8</td>\n",
       "      <td>9</td>\n",
       "    </tr>\n",
       "    <tr>\n",
       "      <th>6</th>\n",
       "      <td>rtcw_2002.01.29_bob1_boc_vs_otc_round1</td>\n",
       "      <td>SigEpWi.dm_57</td>\n",
       "      <td>Boc-el_pimpo</td>\n",
       "      <td>3</td>\n",
       "      <td>17-17-17-</td>\n",
       "      <td>11</td>\n",
       "      <td>8</td>\n",
       "    </tr>\n",
       "  </tbody>\n",
       "</table>\n",
       "</div>"
      ],
      "text/plain": [
       "                                               match  \\\n",
       "0        rtcw_2002.01.29_bob1_dropscape_vs_ep_round1   \n",
       "1        rtcw_2002.01.29_bob1_dropscape_vs_ep_round1   \n",
       "2        rtcw_2002.01.29_bob1_dropscape_vs_ep_round1   \n",
       "3          rtcw_2002.01.31_bob1_empire_vs_4ku_round1   \n",
       "4           rtcw_2002.01.29_bob1_abuse_vs_twp_round1   \n",
       "5  rtcw_2002.01.31_bob1_flying-hellfish_vs_bone_r...   \n",
       "6             rtcw_2002.01.29_bob1_boc_vs_otc_round1   \n",
       "\n",
       "                        demo        player  spreecount    weapons  attacker  \\\n",
       "0            [DS-P]Pat.dm_57   [ds-p]fubar           3  17-17-17-        14   \n",
       "1            [DS-P]Pat.dm_57    [ep]novage           3  18-18-18-         3   \n",
       "2            [DS-P]Pat.dm_57   [ds-p]gfunk           3  17-17-17-         4   \n",
       "3   1012542198demo0001.dm_57     Iii-busta           3  17-17-17-         9   \n",
       "4              r1msh0t.dm_57       Amethod           3  18-18-18-        14   \n",
       "5  04_1012619346round8.dm_57   (bone)-bong           3  18-18-18-         8   \n",
       "6              SigEpWi.dm_57  Boc-el_pimpo           3  17-17-17-        11   \n",
       "\n",
       "   pov_id  \n",
       "0      10  \n",
       "1      10  \n",
       "2      10  \n",
       "3       5  \n",
       "4      15  \n",
       "5       9  \n",
       "6       8  "
      ]
     },
     "execution_count": 36,
     "metadata": {},
     "output_type": "execute_result"
    }
   ],
   "source": [
    "df_spree[['match', 'demo', 'player', 'spreecount', 'weapons', 'attacker', 'pov_id']].sort_values('spreecount', ascending=False)"
   ]
  },
  {
   "cell_type": "code",
   "execution_count": 37,
   "metadata": {},
   "outputs": [],
   "source": [
    "RTCW.cut_demos(root_path, demos_dct, df_spree, offset_start = 8, offset_end = 8, transform_to_dm_60 = True, demo_folder_name= 'demos')\n",
    "RTCW.generate_capture_list(df_spree,  transform_to_dm_60 = True)"
   ]
  },
  {
   "cell_type": "code",
   "execution_count": null,
   "metadata": {},
   "outputs": [],
   "source": [
    "for demo in df_spree.md5:\n",
    "    for k in demos_dct:\n",
    "        if demo in demos_dct[k][0]:\n",
    "            print k"
   ]
  },
  {
   "cell_type": "code",
   "execution_count": 23,
   "metadata": {},
   "outputs": [
    {
     "name": "stderr",
     "output_type": "stream",
     "text": [
      "C:\\Users\\Jelle\\Documents\\GIT\\rtcw_demo_analyzer\\src\\rtcw_functions.py:733: FutureWarning: Method .as_matrix will be removed in a future version. Use .values instead.\n",
      "  arr = df_demo.as_matrix(columns = ['DocsEvents', 'TimelimitHit', 'dwTime', 'SecondsLeftInRound'])\n"
     ]
    },
    {
     "name": "stdout",
     "output_type": "stream",
     "text": [
      "scanned 100 demos of 731 demos in total\n",
      "scanned 200 demos of 731 demos in total\n",
      "scanned 300 demos of 731 demos in total\n",
      "scanned 400 demos of 731 demos in total\n",
      "scanned 500 demos of 731 demos in total\n",
      "scanned 600 demos of 731 demos in total\n",
      "scanned 700 demos of 731 demos in total\n",
      "all done!\n"
     ]
    }
   ],
   "source": [
    "docs_df = RTCW.get_docruns(chatmessages_df, min_docrun_length = 10, max_timeleft = 30, docs_succesful = True, min_docs_lost = 0, verbose = True)"
   ]
  },
  {
   "cell_type": "code",
   "execution_count": 24,
   "metadata": {},
   "outputs": [],
   "source": [
    "save_index = docs_df[['start', 'end', 'start_secsleft', 'end_secsleft', 'duration', 'times_lost_docs', 'won_round']].drop_duplicates().index\n",
    "docs_df = docs_df[docs_df.index.isin(save_index)]"
   ]
  },
  {
   "cell_type": "code",
   "execution_count": 25,
   "metadata": {},
   "outputs": [
    {
     "data": {
      "text/html": [
       "<div>\n",
       "<style scoped>\n",
       "    .dataframe tbody tr th:only-of-type {\n",
       "        vertical-align: middle;\n",
       "    }\n",
       "\n",
       "    .dataframe tbody tr th {\n",
       "        vertical-align: top;\n",
       "    }\n",
       "\n",
       "    .dataframe thead th {\n",
       "        text-align: right;\n",
       "    }\n",
       "</style>\n",
       "<table border=\"1\" class=\"dataframe\">\n",
       "  <thead>\n",
       "    <tr style=\"text-align: right;\">\n",
       "      <th></th>\n",
       "      <th>match</th>\n",
       "      <th>start</th>\n",
       "      <th>end</th>\n",
       "      <th>start_secsleft</th>\n",
       "      <th>end_secsleft</th>\n",
       "      <th>duration</th>\n",
       "      <th>times_lost_docs</th>\n",
       "      <th>won_round</th>\n",
       "    </tr>\n",
       "  </thead>\n",
       "  <tbody>\n",
       "    <tr>\n",
       "      <th>88</th>\n",
       "      <td>rtcw_2003.08.15_qcon03_amish_vs_ck_lb-round1</td>\n",
       "      <td>18881250</td>\n",
       "      <td>18897500</td>\n",
       "      <td>28</td>\n",
       "      <td>12</td>\n",
       "      <td>16</td>\n",
       "      <td>1</td>\n",
       "      <td>True</td>\n",
       "    </tr>\n",
       "    <tr>\n",
       "      <th>405</th>\n",
       "      <td>rtcw_2003.08.15_qcon03_narf_vs_ck_lb-round2</td>\n",
       "      <td>8022900</td>\n",
       "      <td>8036500</td>\n",
       "      <td>30</td>\n",
       "      <td>17</td>\n",
       "      <td>13</td>\n",
       "      <td>0</td>\n",
       "      <td>True</td>\n",
       "    </tr>\n",
       "    <tr>\n",
       "      <th>609</th>\n",
       "      <td>rtcw_2003.08.15_qcon03_narf_vs_wsw_wb-round2</td>\n",
       "      <td>25200500</td>\n",
       "      <td>25234700</td>\n",
       "      <td>45</td>\n",
       "      <td>10</td>\n",
       "      <td>35</td>\n",
       "      <td>0</td>\n",
       "      <td>True</td>\n",
       "    </tr>\n",
       "    <tr>\n",
       "      <th>940</th>\n",
       "      <td>rtcw_2003.08.14_qcon03_dh-eu_vs_icf_wb-round1</td>\n",
       "      <td>9851000</td>\n",
       "      <td>9884250</td>\n",
       "      <td>61</td>\n",
       "      <td>27</td>\n",
       "      <td>34</td>\n",
       "      <td>0</td>\n",
       "      <td>True</td>\n",
       "    </tr>\n",
       "    <tr>\n",
       "      <th>1003</th>\n",
       "      <td>rtcw_2003.08.14_qcon03_4kings_vs_wsw_wb-round1</td>\n",
       "      <td>7009900</td>\n",
       "      <td>7044650</td>\n",
       "      <td>50</td>\n",
       "      <td>15</td>\n",
       "      <td>35</td>\n",
       "      <td>0</td>\n",
       "      <td>True</td>\n",
       "    </tr>\n",
       "    <tr>\n",
       "      <th>1225</th>\n",
       "      <td>rtcw_2003.08.15_qcon03_infensus_vs_wsw_wb-semi...</td>\n",
       "      <td>60138550</td>\n",
       "      <td>60211500</td>\n",
       "      <td>77</td>\n",
       "      <td>4</td>\n",
       "      <td>73</td>\n",
       "      <td>1</td>\n",
       "      <td>True</td>\n",
       "    </tr>\n",
       "    <tr>\n",
       "      <th>1267</th>\n",
       "      <td>rtcw_2003.08.15_qcon03_gmpo_vs_hv_lb-round1</td>\n",
       "      <td>17555100</td>\n",
       "      <td>17613100</td>\n",
       "      <td>77</td>\n",
       "      <td>19</td>\n",
       "      <td>58</td>\n",
       "      <td>1</td>\n",
       "      <td>True</td>\n",
       "    </tr>\n",
       "  </tbody>\n",
       "</table>\n",
       "</div>"
      ],
      "text/plain": [
       "                                                  match     start       end  \\\n",
       "88         rtcw_2003.08.15_qcon03_amish_vs_ck_lb-round1  18881250  18897500   \n",
       "405         rtcw_2003.08.15_qcon03_narf_vs_ck_lb-round2   8022900   8036500   \n",
       "609        rtcw_2003.08.15_qcon03_narf_vs_wsw_wb-round2  25200500  25234700   \n",
       "940       rtcw_2003.08.14_qcon03_dh-eu_vs_icf_wb-round1   9851000   9884250   \n",
       "1003     rtcw_2003.08.14_qcon03_4kings_vs_wsw_wb-round1   7009900   7044650   \n",
       "1225  rtcw_2003.08.15_qcon03_infensus_vs_wsw_wb-semi...  60138550  60211500   \n",
       "1267        rtcw_2003.08.15_qcon03_gmpo_vs_hv_lb-round1  17555100  17613100   \n",
       "\n",
       "      start_secsleft  end_secsleft  duration  times_lost_docs  won_round  \n",
       "88                28            12        16                1       True  \n",
       "405               30            17        13                0       True  \n",
       "609               45            10        35                0       True  \n",
       "940               61            27        34                0       True  \n",
       "1003              50            15        35                0       True  \n",
       "1225              77             4        73                1       True  \n",
       "1267              77            19        58                1       True  "
      ]
     },
     "execution_count": 25,
     "metadata": {},
     "output_type": "execute_result"
    }
   ],
   "source": [
    "docs_df[['match','start', 'end', 'start_secsleft', 'end_secsleft', 'duration', 'times_lost_docs', 'won_round']]"
   ]
  },
  {
   "cell_type": "code",
   "execution_count": 26,
   "metadata": {},
   "outputs": [],
   "source": [
    "reload(RTCW)\n",
    "RTCW.cut_demos(root_path, demos_dct, docs_df, demo_type = 'docs', offset_start = 8, offset_end = 8, transform_to_dm_60 = True, demo_folder_name= 'demos')"
   ]
  },
  {
   "cell_type": "code",
   "execution_count": null,
   "metadata": {},
   "outputs": [],
   "source": [
    "RTCW.generate_capture_list(docs_df, demo_type='docs', transform_to_dm_60 = True)"
   ]
  },
  {
   "cell_type": "code",
   "execution_count": null,
   "metadata": {},
   "outputs": [],
   "source": []
  }
 ],
 "metadata": {
  "kernelspec": {
   "display_name": "Python 2",
   "language": "python",
   "name": "python2"
  },
  "language_info": {
   "codemirror_mode": {
    "name": "ipython",
    "version": 2
   },
   "file_extension": ".py",
   "mimetype": "text/x-python",
   "name": "python",
   "nbconvert_exporter": "python",
   "pygments_lexer": "ipython2",
   "version": "2.7.15"
  }
 },
 "nbformat": 4,
 "nbformat_minor": 2
}
