{
 "cells": [
  {
   "cell_type": "code",
   "execution_count": 1,
   "metadata": {
    "collapsed": true
   },
   "outputs": [],
   "source": [
    "import os, sys\n",
    "import pandas as pd\n",
    "import re\n",
    "\n",
    "#import the functions\n",
    "module_path = os.path.abspath(os.path.join('../src/'))\n",
    "if module_path not in sys.path:\n",
    "    sys.path.append(module_path)\n",
    "    \n",
    "import rtcw_functions as RTCW\n",
    "reload(RTCW)\n",
    "\n",
    "db_name = 'qcon03.db'\n",
    "demos_folder = 'demosqcon03'\n",
    "cwd = os.getcwd()\n",
    "demos_path = os.path.join(cwd, '../', demos_folder)\n",
    "\n",
    "exe_name = 'Anders.Gaming.LibTech3.exe'\n",
    "root_path = 'C:\\\\Users\\\\Jelle\\\\Documents\\\\GIT\\\\rtcw_demo_analyzer' #for executable we need a direct path"
   ]
  },
  {
   "cell_type": "code",
   "execution_count": 2,
   "metadata": {
    "collapsed": true
   },
   "outputs": [],
   "source": [
    "#load obituaries in a df\n",
    "import sqlite3_connector\n",
    "reload(sqlite3_connector)\n",
    "db = sqlite3_connector.sqlite3_connector(os.path.join(root_path, db_name))"
   ]
  },
  {
   "cell_type": "code",
   "execution_count": 3,
   "metadata": {},
   "outputs": [
    {
     "name": "stdout",
     "output_type": "stream",
     "text": [
      "obituary table fetched in 0.93 seconds\n",
      "demo table fetched in 0.02 seconds\n",
      "player table fetched in 0.08 seconds\n",
      "chatmessage table fetched in 0.85 seconds\n"
     ]
    }
   ],
   "source": [
    "obituary_df = db.get_table_as_df(table_name= 'obituary')\n",
    "demo_df = db.get_table_as_df(table_name= 'demo')\n",
    "player_df = db.get_table_as_df(table_name= 'player')\n",
    "chatmessages_df = db.get_table_as_df(table_name= 'chatmessage')"
   ]
  },
  {
   "cell_type": "code",
   "execution_count": 4,
   "metadata": {},
   "outputs": [],
   "source": [
    "def wtv_chat_classifier(x):\n",
    "    if bool(re.search('\\([0-9]+\\):', x)):\n",
    "        return 'WTV'\n",
    "    else:\n",
    "        return '0'"
   ]
  },
  {
   "cell_type": "code",
   "execution_count": 5,
   "metadata": {},
   "outputs": [],
   "source": [
    "chatmessages_df['MessageClass'] = chatmessages_df.szMessage.apply(lambda x: wtv_chat_classifier(x))"
   ]
  },
  {
   "cell_type": "code",
   "execution_count": 13,
   "metadata": {},
   "outputs": [
    {
     "data": {
      "text/plain": [
       "Arming dynamite...                                                11029\n",
       "Defusing dynamite...                                               2503\n",
       "Allies capture the Forward Bunker!                                 1967\n",
       "Allies have stolen the War Documents!                              1680\n",
       "The Sea Wall has been breached!                                    1478\n",
       "Axis reclaims the Forward Bunker!                                  1300\n",
       "(4K^Zommy) (Upper Base): [take this health]                        1032\n",
       "Axis have returned the War Documents!                               996\n",
       "Fire Mission: Firing for effect!                                    968\n",
       "Dynamite planted near the Sea Wall door!                            860\n",
       "Allies capture the Northwest Courtyard!                             758\n",
       "Dynamite planted near the Sea Wall breach!                          746\n",
       "(4K^Zommy) (War Room): [take this health]                           636\n",
       "Allies have stolen the Gold!                                        591\n",
       "(-a-nail): --> spawn times [ :11 / :41 ]                            582\n",
       "Timelimit hit.                                                      562\n",
       "(4K^Zommy) (Basement): [take this health]                           540\n",
       "Axis reclaims the Northwest Courtyard!                              500\n",
       "Axis captures the Shipping Halls!                                   489\n",
       "Dynamite is set, but NOT armed!                                     436\n",
       "(cK inmojo*) (Upper Base): Enemy Spawn 34 => 04                     414\n",
       "(4K^Zommy) (Cemetary): [take this health]                           408\n",
       "(4K^Zommy) (Trenches): [take this health]                           360\n",
       "Allies reclaim the Shipping Halls!                                  358\n",
       "(4K^Zommy) (West Courtyard): [take this health]                     336\n",
       "Allies transmitted the documents!                                   335\n",
       "The Axis team is ready!                                             323\n",
       "The Allies team is ready!                                           319\n",
       "Axis have stolen Allied Documents!                                  317\n",
       "Dynamite is now armed with a 30 second timer!                       298\n",
       "                                                                  ...  \n",
       "Qcon-JaSTeR: gl hf                                                  166\n",
       "4K^Yilider is ready!                                                165\n",
       "4K^Explicit is ready!                                               165\n",
       "4K^Creamy is ready!                                                 165\n",
       "GMPOZEMME  AMDis ready!                                             163\n",
       "Axis engineer disarmed the Dynamite!                                163\n",
       "(4K^Zommy) (Forward Bunker Door): [cover me - arming/defusing]      162\n",
       "(4K^Zommy) (Trenches): [take this ammo]                             162\n",
       "GMPOZAF'   AMDis ready!                                             161\n",
       "(iN-Spear?): Enemy Spawn 30 => 00                                   159\n",
       "4K^Yilider: gl hf                                                   158\n",
       "Allied team has disabled the North Radar!                           156\n",
       "(iN-Spear?): Enemy Spawn 54 => 14 => 34                             156\n",
       "GMPOBLAZE  AMDis ready!                                             155\n",
       "GMPOREFUSE AMDis ready!                                             152\n",
       "(-a-nail): --> spawn times [ :31 / :01 ]                            151\n",
       "The Allies have escaped with the Gold!                              149\n",
       "Dynamite planted near the Service Door!                             145\n",
       "(-a-nail): --> spawn times [ :29 / :59 ]                            144\n",
       "(iN-Spear?): sPawn-Timer initiated                                  143\n",
       "GMPOVERAC  AMD is ready!                                            142\n",
       "(iN-Spear?): Enemy Spawn 01 => 31                                   142\n",
       ">>> Clock set to: 8:00                                              141\n",
       "Fire Mission: Aborting, can't see target.                           141\n",
       "GMPORAMZI  AMD is ready!                                            141\n",
       "Server: timelimit changed to 8.000000                               141\n",
       "(f|leethal) (Upper Bunker): -- Enemy Respawn[41/11] --              138\n",
       "(GMPOVERAC  AMD): Enemy Spawn 30 => 00                              137\n",
       "GMPOZEMME  AMD is ready!                                            136\n",
       "(-a-nail): --> next spawn [ :28 ]                                   135\n",
       "Name: szMessage, Length: 100, dtype: int64"
      ]
     },
     "execution_count": 13,
     "metadata": {},
     "output_type": "execute_result"
    }
   ],
   "source": [
    "chatmessages_df.loc[chatmessages_df['MessageClass'] != 'WTV'].szMessage.value_counts()[0:100]"
   ]
  },
  {
   "cell_type": "code",
   "execution_count": null,
   "metadata": {
    "collapsed": true
   },
   "outputs": [],
   "source": [
    "chatmessages_df.loc[(chatmessages_df['bPlayer'] == -1) & (chatmessages_df['szChatIdent'] == 'print') & (chatmessages_df['MessageClass'] != 'WTV') & (chatmessages_df)].szMessage.value_counts()"
   ]
  },
  {
   "cell_type": "code",
   "execution_count": 10,
   "metadata": {},
   "outputs": [
    {
     "data": {
      "text/plain": [
       "Timelimit hit.                                                             562\n",
       "4K^Zommy is ready!                                                         191\n",
       "You are already ready!                                                     183\n",
       "4K^HaRdNuT is ready!                                                       169\n",
       "4K^Ogdoad is ready!                                                        169\n",
       "4K^Yilider is ready!                                                       165\n",
       "4K^Explicit is ready!                                                      165\n",
       "4K^Creamy is ready!                                                        165\n",
       "The Axis team is ready!                                                    143\n",
       "The Allies team is ready!                                                  143\n",
       "GMPOVERAC  AMD is ready!                                                   142\n",
       ">>> Clock set to: 8:00                                                     141\n",
       "GMPORAMZI  AMD is ready!                                                   141\n",
       "Server: timelimit changed to 8.000000                                      141\n",
       "GMPOZEMME  AMD is ready!                                                   136\n",
       "GMPOZAF'   AMD is ready!                                                   133\n",
       "Status   : ID : Player                    Nudge  Rate  MaxPkts  Snaps      130\n",
       "---------------------------------------------------------------------      130\n",
       "GMPOBLAZE  AMD is ready!                                                   129\n",
       "GMPOREFUSE AMD is ready!                                                   127\n",
       "14 total players                                                           113\n",
       "-a-decka) is ready!                                                        101\n",
       "Server: timelimit changed to 10                                            101\n",
       "-a-brian is ready!                                                         101\n",
       "-------- :  6 : wtv-speakeasy.net             0 25000        0     20       98\n",
       "ocr*deep  D-Link is ready!                                                  92\n",
       "ocr*vAd>> D-Link is ready!                                                  92\n",
       "ocr*chn   D-Link is ready!                                                  92\n",
       "ocr*kuE   D-Link is ready!                                                  92\n",
       "ocr*caes  D-Link is ready!                                                  92\n",
       "                                                                          ... \n",
       "NOTREADY :L13 : -!cf-k!lla s!n                0 25000      100     20        1\n",
       "(READY)  :X11 : wsw|laws_69                   0 25000      100     20        1\n",
       "NOTREADY :L 7 : -!cf-de_x_rules               0 25000      100     20        1\n",
       "X 2 : 4k7explicit                   0 25000      100     40                  1\n",
       "GMPOZEMME dddddd renamed to UnnamedPlayer                                    1\n",
       "NOTREADY :L12 : .jifster                      0 25000      100     20        1\n",
       "Wait another 0.7s to issue ready                                             1\n",
       "X13 : ocr*kas   d-link              0 25000      100     40                  1\n",
       "NOTREADY :L11 : gmpozaf'   amd                0 25000      100     40        1\n",
       "NOTREADY :L 2 : ck se7en                      0 25000      100     40        1\n",
       "NOTREADY :L 4 : gmporamzi  amd                0 25000      100     40        1\n",
       "NOTREADY :L 5 : -a-hollywood                  0 25000      100     20        1\n",
       "NOTREADY :L 7 : ck animeman                   0 25000      100     40        1\n",
       "Hitch warning: 135 msec frame time                                           1\n",
       "NOTREADY :L 8 : 4k7yilider                    0 25000      100     40        1\n",
       "Use the players command to find a valid player ID.                           1\n",
       "NOTREADY :L 1 : -!cf-xp!re                    0 25000      100     20        1\n",
       "unknown cmd readyf                                                           1\n",
       "(READY)  :L11 : gmpozaf'   amd                0 25000      100     40        1\n",
       "cK animeman Invalid password                                                 1\n",
       "(READY)  :L 9 : 4k7creamy                     0 25000      100     40        1\n",
       "NOTREADY :X 7 : wsw|elusion                   0 25000      100     30        1\n",
       "NOTREADY :L13 : warkrime]narf[                0 25000      100     40        1\n",
       "(READY)  :X 3 : -!cf-tekoda                   0 25000      100     20        1\n",
       "(READY)  :X12 : lc-|taz                       0 25000      100     40        1\n",
       "L12 : lc-|taz                       0 25000      100     40                  1\n",
       "unknown cmd playersx                                                         1\n",
       "(READY)  :X 1 : -!cf-kappa                    0 25000      100     20        1\n",
       "NOTREADY :X 5 : wsw|slag                      0 25000      100     40        1\n",
       "NOTREADY :X 4 : ocr*deep  d-link              0 25000      100     40        1\n",
       "Name: szMessage, Length: 1027, dtype: int64"
      ]
     },
     "execution_count": 10,
     "metadata": {},
     "output_type": "execute_result"
    }
   ],
   "source": [
    "chatmessages_df.loc[(chatmessages_df['bPlayer'] == -1) & (chatmessages_df['szChatIdent'] == 'print') & (chatmessages_df['MessageClass'] != 'WTV') & (chatmessages_df)].szMessage.value_counts()"
   ]
  },
  {
   "cell_type": "code",
   "execution_count": 19,
   "metadata": {},
   "outputs": [
    {
     "data": {
      "text/plain": [
       "Warmup          32994\n",
       "Countdown        7523\n",
       "Intermission     2611\n",
       "7:36              926\n",
       "0:00              702\n",
       "4:44              453\n",
       "7:11              449\n",
       "7:12              442\n",
       "7:44              410\n",
       "7:14              408\n",
       "7:13              383\n",
       "6:34              374\n",
       "7:15              359\n",
       "7:30              354\n",
       "7:25              350\n",
       "7:34              344\n",
       "7:45              341\n",
       "7:42              337\n",
       "7:22              335\n",
       "2:42              334\n",
       "7:01              330\n",
       "4:08              328\n",
       "6:45              327\n",
       "6:51              317\n",
       "7:17              317\n",
       "7:10              315\n",
       "7:16              315\n",
       "6:58              310\n",
       "6:10              308\n",
       "7:24              304\n",
       "                ...  \n",
       "11:53               2\n",
       "10:38               2\n",
       "13:17               2\n",
       "14:46               2\n",
       "12:21               2\n",
       "10:35               2\n",
       "10:44               2\n",
       "10:49               2\n",
       "11:42               2\n",
       "12:49               2\n",
       "10:27               1\n",
       "10:23               1\n",
       "14:58               1\n",
       "10:11               1\n",
       "10:24               1\n",
       "11:11               1\n",
       "11:25               1\n",
       "11:44               1\n",
       "11:54               1\n",
       "11:56               1\n",
       "10:39               1\n",
       "12:24               1\n",
       "10:00               1\n",
       "10:03               1\n",
       "14:15               1\n",
       "10:41               1\n",
       "10:42               1\n",
       "10:09               1\n",
       "13:37               1\n",
       "10:28               1\n",
       "Name: szTimeString, Length: 895, dtype: int64"
      ]
     },
     "execution_count": 19,
     "metadata": {},
     "output_type": "execute_result"
    }
   ],
   "source": [
    "chatmessages_df.szTimeString.value_counts()"
   ]
  },
  {
   "cell_type": "code",
   "execution_count": null,
   "metadata": {
    "collapsed": true
   },
   "outputs": [],
   "source": []
  },
  {
   "cell_type": "code",
   "execution_count": 25,
   "metadata": {},
   "outputs": [],
   "source": [
    "chatmessages_df.loc[(chatmessages_df['szChatIdent'] == 'cp') & (~chatmessages_df['szTimeString'].isin(['Warmup', 'Intermission', 'Countdown']))].szMessage.value_counts().to_csv('test.csv')"
   ]
  },
  {
   "cell_type": "code",
   "execution_count": 28,
   "metadata": {},
   "outputs": [
    {
     "data": {
      "text/plain": [
       "21609     GMPO-Fan|B3ret (76): wsw lost against IN and g...\n",
       "25539     iN-Xpaz? (65): iN will own this tournament eve...\n",
       "25571     GMPO-Fan|B3ret (103): yeah first round in whol...\n",
       "25578     Dopey (173): yeah first round theve lost in th...\n",
       "25854     JED (196): first round that iN lost during QCON ?\n",
       "26860       =UDS=Insanity (139): gmpo 3 - 2 4k - 4k lost!!!\n",
       "27450                           BoNE!'RaGE! (147): and lost\n",
       "27459                           BoNE!'RaGE! (147): and lost\n",
       "28861     The Gambler (30): rewind lost to 15th place qc...\n",
       "29203                   in-Ner (117): they haven't lost yet\n",
       "29427               iN-fanTheAbyss (49): that's why iN lost\n",
       "29683                             linker (28): no game lost\n",
       "67675                                     wiz4rd (65): lost\n",
       "67676           Warpath)x( (43): So they lost after 2 dies?\n",
       "67688                             wtv-odin)x( (16): im lost\n",
       "74612         Phobos -dTd- (61): pf lost the round for them\n",
       "75142                           Sluttie (118): nothing lost\n",
       "75172     StraightHead! (114): and the finder of lost ch...\n",
       "88639                        // ZviX> (48): narf lost to ck\n",
       "89064                              // ZviX> (48): lost flag\n",
       "89944     G-Thugg (27): you think frontline would have lost\n",
       "110877                       #ROISTOT@MYRKKY (167): a lost \n",
       "111281                        Columbine* (200): -a- is lost\n",
       "Name: szMessage, dtype: object"
      ]
     },
     "execution_count": 28,
     "metadata": {},
     "output_type": "execute_result"
    }
   ],
   "source": [
    "chatmessages_df.loc[chatmessages_df['szMessage'].str.contains('lost')].szMessage"
   ]
  },
  {
   "cell_type": "code",
   "execution_count": null,
   "metadata": {
    "collapsed": true
   },
   "outputs": [],
   "source": []
  }
 ],
 "metadata": {
  "kernelspec": {
   "display_name": "Python 2",
   "language": "python",
   "name": "python2"
  },
  "language_info": {
   "codemirror_mode": {
    "name": "ipython",
    "version": 2
   },
   "file_extension": ".py",
   "mimetype": "text/x-python",
   "name": "python",
   "nbconvert_exporter": "python",
   "pygments_lexer": "ipython2",
   "version": "2.7.14"
  }
 },
 "nbformat": 4,
 "nbformat_minor": 2
}
