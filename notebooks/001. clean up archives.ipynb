{
 "cells": [
  {
   "cell_type": "markdown",
   "metadata": {},
   "source": [
    "Scrip that tries to make sure:\n",
    "- all the matches are zipped and not rarred\n",
    "- all folders and files have no spaces -> replaced with underscores\n",
    "- if you extract the zip, all files will be in a directory named as the zip\n"
   ]
  },
  {
   "cell_type": "code",
   "execution_count": null,
   "metadata": {
    "collapsed": true
   },
   "outputs": [],
   "source": [
    "#get all matches that are a .zip file or a .rar file\n",
    "import os\n",
    "from os import listdir\n",
    "from os.path import isfile, join\n",
    "cwd = 'C:\\Users\\JelleGrammens\\Documents\\TOFIX'\n",
    "onlyfiles = [f for f in listdir(cwd) if isfile(join(cwd, f))]"
   ]
  },
  {
   "cell_type": "code",
   "execution_count": null,
   "metadata": {
    "collapsed": true
   },
   "outputs": [],
   "source": [
    "#make a directory for each match which we will rar in the end\n",
    "directory_names = []\n",
    "for file in onlyfiles:\n",
    "    dirname = file[:-4] #remove .rar / .zip from filename\n",
    "    directory_names.append(dirname)"
   ]
  },
  {
   "cell_type": "code",
   "execution_count": null,
   "metadata": {
    "collapsed": true
   },
   "outputs": [],
   "source": [
    "for dir in directory_names:\n",
    "    directory = cwd + '\\\\clean\\\\' + dir\n",
    "    if not os.path.exists(directory):\n",
    "        os.makedirs(directory)"
   ]
  },
  {
   "cell_type": "code",
   "execution_count": null,
   "metadata": {
    "collapsed": true
   },
   "outputs": [],
   "source": [
    "#split zipfiles and rarfiles seperate to process\n",
    "zipfiles = []\n",
    "rarfiles = []\n",
    "\n",
    "for file in onlyfiles:\n",
    "    \n",
    "    if file.endswith(\".zip\"):\n",
    "        zipfiles.append(file)\n",
    "        \n",
    "    elif file.endswith(\".rar\"):\n",
    "        rarfiles.append(file)\n",
    "        \n",
    "    else:\n",
    "        print file"
   ]
  },
  {
   "cell_type": "code",
   "execution_count": null,
   "metadata": {
    "collapsed": true
   },
   "outputs": [],
   "source": [
    "#extract all zipfiles and put them in the newly created directories\n",
    "from os import path, utime\n",
    "from sys import exit\n",
    "from time import mktime\n",
    "from zipfile import ZipFile\n",
    "\n",
    "def unzip(zipfile, outDirectory):\n",
    "    dirs = {}\n",
    "\n",
    "    with ZipFile(zipfile, 'r') as z:\n",
    "        for f in z.infolist():\n",
    "            name, date_time = f.filename, f.date_time\n",
    "            name = path.join(outDirectory, name)\n",
    "            z.extract(f, outDirectory)\n",
    "\n",
    "            # still need to adjust the dt o/w item will have the current dt\n",
    "            date_time = mktime(f.date_time + (0, 0, -1))\n",
    "\n",
    "            if (path.isdir(name)):\n",
    "                # changes to dir dt will have no effect right now since files are\n",
    "                # being created inside of it; hold the dt and apply it later\n",
    "                dirs[name] = date_time\n",
    "            else:\n",
    "                utime(name, (date_time, date_time))\n",
    "\n",
    "    # done creating files, now update dir dt\n",
    "    for name in dirs:\n",
    "       date_time = dirs[name]\n",
    "       utime(name, (date_time, date_time))\n",
    "        \n",
    "for zip in zipfiles:\n",
    "    zipFileName = cwd + '\\\\' + zip\n",
    "    output_dir = cwd + '\\\\clean\\\\' + zip[:-4]\n",
    "    \n",
    "    unzip(zipFileName, output_dir)"
   ]
  },
  {
   "cell_type": "code",
   "execution_count": null,
   "metadata": {},
   "outputs": [],
   "source": [
    "#unrar every rar file in the right directory\n",
    "def unrar(dpath, xpath):\n",
    "    for rar in os.listdir(dpath):\n",
    "        if rar.endswith(\".rar\"):\n",
    "            print rar\n",
    "            filepath = os.path.join(dpath, rar)\n",
    "            with rarfile.RarFile(filepath) as opened_rar:\n",
    "                #for f in opened_rar.infolist():\n",
    "                    #print (f.filename, f.file_size)\n",
    "                opened_rar.extractall(xpath + rar[:-4])\n",
    "                \n",
    "import rarfile\n",
    "rarfile.UNRAR_TOOL = 'C:\\Program Files\\WinRAR\\UnRAR.exe'\n",
    "dpath = cwd\n",
    "xpath = cwd + '\\\\clean\\\\'\n",
    "unrar(dpath, xpath)"
   ]
  },
  {
   "cell_type": "code",
   "execution_count": null,
   "metadata": {
    "collapsed": true
   },
   "outputs": [],
   "source": [
    "#replace spaces with underscores for all folders and files\n",
    "\n",
    "import os\n",
    "\n",
    "def replace_spaces_with_underscores(parent):\n",
    "    for path, folders, files in os.walk(parent):\n",
    "        for f in files:\n",
    "            os.rename(os.path.join(path, f), os.path.join(path, f.replace(' ', '_')))\n",
    "        for i in range(len(folders)):\n",
    "            new_name = folders[i].replace(' ', '_')\n",
    "            os.rename(os.path.join(path, folders[i]), os.path.join(path, new_name))\n",
    "            folders[i] = new_name\n",
    "            \n",
    "#be sure to not be in one of the directories or you will get permission error\n",
    "replace_spaces_with_underscores(cwd + '\\\\clean') "
   ]
  },
  {
   "cell_type": "code",
   "execution_count": null,
   "metadata": {
    "collapsed": true
   },
   "outputs": [],
   "source": [
    "#find all matches with a subfolder to check later if code worked\n",
    "all_match_folders = os.listdir(cwd + '\\\\clean')\n",
    "\n",
    "#move all files to the root folder if there is a subfolder with the same name and remove that subfolder\n",
    "import shutil\n",
    "for folder in all_match_folders:\n",
    "    subfolder = os.listdir(cwd + '\\\\clean\\\\' + folder)\n",
    "    if len(subfolder) == 1:\n",
    "        if subfolder[0] == folder:\n",
    "            print subfolder[0]"
   ]
  },
  {
   "cell_type": "code",
   "execution_count": null,
   "metadata": {},
   "outputs": [],
   "source": [
    "#check if a there is only 1 subfolder, but i named it incorrectly before\n",
    "all_match_folders = os.listdir(cwd + '\\\\clean')\n",
    "\n",
    "#move all files to the root folder if there is a subfolder with the same name and remove that subfolder\n",
    "#note: manually made backup folders already, before executing this cmd a backup was made at desktop\n",
    "import shutil\n",
    "for folder in all_match_folders:\n",
    "    subfolder = os.listdir(cwd + '\\\\clean\\\\' + folder)\n",
    "    if len(subfolder) == 1:\n",
    "        if subfolder[0].startswith(\"rtcw_\"):\n",
    "            print folder"
   ]
  },
  {
   "cell_type": "code",
   "execution_count": null,
   "metadata": {
    "collapsed": true
   },
   "outputs": [],
   "source": [
    "all_match_folders = os.listdir(cwd + '\\\\clean')\n",
    "\n",
    "#move all files to the root folder if there is a subfolder with the same name and remove that subfolder\n",
    "#note: manually made backup folders already, before executing this cmd a backup was made at desktop\n",
    "import shutil\n",
    "for folder in all_match_folders:\n",
    "    subfolder = os.listdir(cwd + '\\\\clean\\\\' + folder)\n",
    "    if len(subfolder) == 1:\n",
    "        if os.path.isdir(subfolder):\n",
    "            if subfolder[0] == folder:\n",
    "                sfiles = os.listdir(cwd + '\\\\clean\\\\' + folder + '\\\\' + subfolder[0])\n",
    "                for sfile in sfiles:\n",
    "                    shutil.move(cwd + '\\\\clean\\\\' + folder + '\\\\' + subfolder[0] + '\\\\' + sfile, cwd + '\\\\clean\\\\' + folder)\n",
    "\n",
    "                shutil.rmtree(cwd + '\\\\clean\\\\' + folder + '\\\\' + subfolder[0])"
   ]
  },
  {
   "cell_type": "code",
   "execution_count": null,
   "metadata": {
    "collapsed": true
   },
   "outputs": [],
   "source": []
  },
  {
   "cell_type": "code",
   "execution_count": null,
   "metadata": {
    "collapsed": true
   },
   "outputs": [],
   "source": [
    "all_match_folders = os.listdir(cwd + '\\\\clean')\n",
    "\n",
    "import shutil\n",
    "for folder in all_match_folders:\n",
    "    subfolder = os.listdir(cwd + '\\\\clean\\\\' + folder)\n",
    "    boolean = False\n",
    "    for subf in subfolder:\n",
    "        if os.path.isdir(subf):\n",
    "            boolean = True\n",
    "    \n",
    "    if boolean == True:\n",
    "        print folder"
   ]
  },
  {
   "cell_type": "code",
   "execution_count": null,
   "metadata": {
    "collapsed": true
   },
   "outputs": [],
   "source": [
    "all_match_folders = os.listdir(cwd + '\\\\clean')\n",
    "\n",
    "import shutil\n",
    "for folder in all_match_folders:\n",
    "    subfolder = os.listdir(cwd + '\\\\clean\\\\' + folder)\n",
    "    boolean = False\n",
    "    for subf in subfolder:\n",
    "        if os.path.isdir(cwd + '\\\\clean\\\\' + folder + '\\\\' + subf):\n",
    "            if subf != 'backup':\n",
    "                boolean = True\n",
    "    \n",
    "    if boolean == True:\n",
    "        print folder"
   ]
  },
  {
   "cell_type": "code",
   "execution_count": null,
   "metadata": {},
   "outputs": [],
   "source": [
    "all_match_folders"
   ]
  },
  {
   "cell_type": "code",
   "execution_count": null,
   "metadata": {
    "collapsed": true
   },
   "outputs": [],
   "source": [
    "all_match_folders = os.listdir(cwd + '\\\\clean')\n",
    "\n",
    "import shutil\n",
    "for folder in all_match_folders:\n",
    "    subfolder = os.listdir(cwd + '\\\\clean\\\\' + folder)\n",
    "    boolean = False\n",
    "    for subf in subfolder:\n",
    "        if os.path.isdir(cwd + '\\\\clean\\\\' + folder + '\\\\' + subf):\n",
    "            if subf != 'backup':\n",
    "                boolean = True\n",
    "    \n",
    "    if boolean == True:\n",
    "        print folder"
   ]
  },
  {
   "cell_type": "markdown",
   "metadata": {},
   "source": [
    "# FINAL THING TO DO: extract zip/rar files so there are no rar archives left"
   ]
  },
  {
   "cell_type": "markdown",
   "metadata": {},
   "source": [
    "# CHECK MANUALLY IF THERE ARE DUPLICATE GAMES IN EACH SUBFOLDER AND MOVE THEM TO BACKUP"
   ]
  },
  {
   "cell_type": "code",
   "execution_count": null,
   "metadata": {},
   "outputs": [],
   "source": [
    "all_match_folders = os.listdir(cwd + '\\\\clean')\n",
    "\n",
    "import shutil\n",
    "for folder in all_match_folders:\n",
    "    subfolder = os.listdir(cwd + '\\\\clean\\\\' + folder)\n",
    "    boolean = False\n",
    "    counter = 0\n",
    "    for subf in subfolder:\n",
    "        if not os.path.isdir(cwd + '\\\\clean\\\\' + folder + '\\\\' + subf):\n",
    "            counter += 1\n",
    "    \n",
    "    if counter > 1:\n",
    "        print folder\n",
    "        print '-------------------------------------'\n",
    "        for subf in subfolder:\n",
    "            if not os.path.isdir(cwd + '\\\\clean\\\\' + folder + '\\\\' + subf):\n",
    "                print subf\n",
    "        print ''\n",
    "        "
   ]
  },
  {
   "cell_type": "code",
   "execution_count": null,
   "metadata": {
    "collapsed": true
   },
   "outputs": [],
   "source": [
    "#remove ^ and [ ] in demo_names, because demoparser cant handle those characters\n",
    "\n"
   ]
  },
  {
   "cell_type": "code",
   "execution_count": null,
   "metadata": {
    "collapsed": true
   },
   "outputs": [],
   "source": []
  },
  {
   "cell_type": "code",
   "execution_count": null,
   "metadata": {
    "collapsed": true
   },
   "outputs": [],
   "source": [
    "# CHECK IF THERE ARE DEMOS IN THE SUBFOLDERS OR NOT\n",
    "\n",
    "\n",
    "all_match_folders = os.listdir(cwd + '\\\\clean')\n",
    "\n",
    "import shutil\n",
    "for folder in all_match_folders:\n",
    "    subfolder = os.listdir(cwd + '\\\\clean\\\\' + folder)\n",
    "    boolean = False\n",
    "    counter = 0\n",
    "    for subf in subfolder:\n",
    "        if not os.path.isdir(cwd + '\\\\clean\\\\' + folder + '\\\\' + subf):\n",
    "            if subf.endswith('.pk3'):\n",
    "                print folder\n",
    "        "
   ]
  },
  {
   "cell_type": "code",
   "execution_count": null,
   "metadata": {
    "collapsed": true
   },
   "outputs": [],
   "source": [
    "import zipfile\n",
    "def zip_dir(directory, zipname):\n",
    "    \"\"\"\n",
    "    Compress a directory (ZIP file).\n",
    "    \"\"\"\n",
    "    if os.path.exists(directory):\n",
    "        outZipFile = zipfile.ZipFile(zipname, 'w', zipfile.ZIP_DEFLATED)\n",
    "\n",
    "        # The root directory within the ZIP file.\n",
    "        rootdir = os.path.basename(directory)\n",
    "\n",
    "        for dirpath, dirnames, filenames in os.walk(directory):\n",
    "            for filename in filenames:\n",
    "\n",
    "                # Write the file named filename to the archive,\n",
    "                # giving it the archive name 'arcname'.\n",
    "                filepath   = os.path.join(dirpath, filename)\n",
    "                parentpath = os.path.relpath(filepath, directory)\n",
    "                arcname    = os.path.join(rootdir, parentpath)\n",
    "\n",
    "                outZipFile.write(filepath, arcname)\n",
    "\n",
    "    outZipFile.close()"
   ]
  },
  {
   "cell_type": "code",
   "execution_count": null,
   "metadata": {},
   "outputs": [],
   "source": [
    "# NOW REZIP THEM! INCLUDE SUBFOLDER IN THE ZIP\n",
    "os.chdir('C:\\Users\\JelleGrammens\\Documents\\clean')\n",
    "path = 'C:\\Users\\JelleGrammens\\Documents\\TOFIX\\clean'\n",
    "for folder in os.listdir(path):\n",
    "    directory = os.path.join(path,folder)\n",
    "    zipname = folder + '.zip'\n",
    "    print 'zipping ' + zipname\n",
    "    zip_dir(directory, zipname)"
   ]
  }
 ],
 "metadata": {
  "kernelspec": {
   "display_name": "Python 2",
   "language": "python",
   "name": "python2"
  },
  "language_info": {
   "codemirror_mode": {
    "name": "ipython",
    "version": 2
   },
   "file_extension": ".py",
   "mimetype": "text/x-python",
   "name": "python",
   "nbconvert_exporter": "python",
   "pygments_lexer": "ipython2",
   "version": "2.7.14"
  }
 },
 "nbformat": 4,
 "nbformat_minor": 2
}
