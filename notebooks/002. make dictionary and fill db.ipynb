{
 "cells": [
  {
   "cell_type": "code",
   "execution_count": 1,
   "metadata": {},
   "outputs": [
    {
     "data": {
      "text/plain": [
       "<module 'rtcw_functions' from 'C:\\Users\\Jelle\\Documents\\GIT\\rtcw_demo_analyzer\\src\\rtcw_functions.pyc'>"
      ]
     },
     "execution_count": 1,
     "metadata": {},
     "output_type": "execute_result"
    }
   ],
   "source": [
    "#make path strings needed for script to run\n",
    "import os, sys\n",
    "import numpy as np\n",
    "import pandas as pd\n",
    "import hashlib\n",
    "path = os.getcwd()\n",
    "exe_name = 'Anders.Gaming.LibTech3.exe'\n",
    "demos_folder = 'demos'\n",
    "root_path = 'C:\\\\Users\\\\Jelle\\\\Documents\\\\GIT\\\\rtcw_demo_analyzer' #for executable we need a direct path\n",
    "exe_path = os.path.join(path, '../', exe_name)\n",
    "demos_path = os.path.join(path, '../', demos_folder)\n",
    "\n",
    "#import the functions\n",
    "module_path = os.path.abspath(os.path.join('../src/'))\n",
    "if module_path not in sys.path:\n",
    "    sys.path.append(module_path)\n",
    "    \n",
    "import rtcw_functions as RTCW\n",
    "reload(RTCW)"
   ]
  },
  {
   "cell_type": "code",
   "execution_count": 2,
   "metadata": {},
   "outputs": [
    {
     "name": "stdout",
     "output_type": "stream",
     "text": [
      "parsed 100 matches\n",
      "parsed 200 matches\n",
      "parsed 300 matches\n",
      "parsed 400 matches\n",
      "finished parsing all matches!\n"
     ]
    }
   ],
   "source": [
    "# make dictionary with:\n",
    "# key = 1 match folder\n",
    "# value = list with md5 checksum + list with demo names (ordered by play time)\n",
    "demos_dct = RTCW.make_dictionary(demos_path)"
   ]
  },
  {
   "cell_type": "code",
   "execution_count": 3,
   "metadata": {},
   "outputs": [],
   "source": [
    "#dct with string parameters for anders lib tech3 api indexer parameters\n",
    "parameters_dct = {}\n",
    "parameters_dct['exportPaths'] = root_path\n",
    "parameters_dct['exportBulletEvents'] = '1'\n",
    "parameters_dct['exportPlayers'] = '1'\n",
    "parameters_dct['exportDemo'] = '1'\n",
    "parameters_dct['exportObituaries'] = '1'\n",
    "parameters_dct['exportChatMessages'] = '1'\n",
    "parameters_dct['exportJson'] = '0'\n",
    "parameters_dct['exportSQL'] = '1'\n",
    "parameters_dct['eportJsonFile'] = 'out.json'\n",
    "parameters_dct['exportSQLFile'] = 'demo_db.db'"
   ]
  },
  {
   "cell_type": "code",
   "execution_count": 4,
   "metadata": {},
   "outputs": [
    {
     "name": "stdout",
     "output_type": "stream",
     "text": [
      "indexer indexTarget/C:\\Users\\Jelle\\Documents\\GIT\\rtcw_demo_analyzer\\demos\\rtcw_2003.06.16_qcon03-qual_frontline_vs_dsb_round1\\1055818784d@n!el-mp_ice.dm_60/exportBulletEvents/1/exportPlayers/1/exportDemo/1/exportObituaries/1/exportChatMessages/1/exportJson/0/exportSQL/1/exportSQLFile/demo_db.db\n",
      "1055818784d@n!el-mp_ice.dm_60\n",
      "indexer indexTarget/C:\\Users\\Jelle\\Documents\\GIT\\rtcw_demo_analyzer\\demos\\rtcw_2003.04.02_sml-s3-div2_merge_vs_swf\\SM-Ligan_Merge-SWF_POV_s3VVi_Beach.dm_60/exportBulletEvents/1/exportPlayers/1/exportDemo/1/exportObituaries/1/exportChatMessages/1/exportJson/0/exportSQL/1/exportSQLFile/demo_db.db\n",
      "SM-Ligan_Merge-SWF_POV_s3VVi_Beach.dm_60\n",
      "indexer indexTarget/C:\\Users\\Jelle\\Documents\\GIT\\rtcw_demo_analyzer\\demos\\rtcw_2002.08.13_liga-sw-s1_the-fearless-pigs_vs_circle-of-haste\\cohvstfp.dm_59/exportBulletEvents/1/exportPlayers/1/exportDemo/1/exportObituaries/1/exportChatMessages/1/exportJson/0/exportSQL/1/exportSQLFile/demo_db.db\n",
      "cohvstfp.dm_59\n",
      "indexer indexTarget/C:\\Users\\Jelle\\Documents\\GIT\\rtcw_demo_analyzer\\demos\\rtcw_2003.08.14_qcon03_affliction_vs_hv_wb-round1\\043942-grimdeathHV-mp_ice.dm_60/exportBulletEvents/1/exportPlayers/1/exportDemo/1/exportObituaries/1/exportChatMessages/1/exportJson/0/exportSQL/1/exportSQLFile/demo_db.db\n",
      "043942-grimdeathHV-mp_ice.dm_60\n",
      "indexer indexTarget/C:\\Users\\Jelle\\Documents\\GIT\\rtcw_demo_analyzer\\demos\\rtcw_2003.08.14_qcon03_affliction_vs_hv_wb-round1\\045124-silenceHV-mp_ice.dm_60/exportBulletEvents/1/exportPlayers/1/exportDemo/1/exportObituaries/1/exportChatMessages/1/exportJson/0/exportSQL/1/exportSQLFile/demo_db.db\n",
      "045124-silenceHV-mp_ice.dm_60\n",
      "indexer indexTarget/C:\\Users\\Jelle\\Documents\\GIT\\rtcw_demo_analyzer\\demos\\rtcw_2003.08.14_qcon03_affliction_vs_hv_wb-round1\\050920-silentstormHV-mp_ice.dm_60/exportBulletEvents/1/exportPlayers/1/exportDemo/1/exportObituaries/1/exportChatMessages/1/exportJson/0/exportSQL/1/exportSQLFile/demo_db.db\n",
      "050920-silentstormHV-mp_ice.dm_60\n",
      "indexer indexTarget/C:\\Users\\Jelle\\Documents\\GIT\\rtcw_demo_analyzer\\demos\\rtcw_2003.08.07_liga-sw-s4_knights-of-death_vs_geh-ab-clan\\210638-WTV-@rtcw-ligade-mp_assault.dm_60/exportBulletEvents/1/exportPlayers/1/exportDemo/1/exportObituaries/1/exportChatMessages/1/exportJson/0/exportSQL/1/exportSQLFile/demo_db.db\n",
      "210638-WTV-@rtcw-ligade-mp_assault.dm_60\n",
      "indexer indexTarget/C:\\Users\\Jelle\\Documents\\GIT\\rtcw_demo_analyzer\\demos\\rtcw_2003.08.07_liga-sw-s4_knights-of-death_vs_geh-ab-clan\\211803-KoDAndi-mp_assault.dm_60/exportBulletEvents/1/exportPlayers/1/exportDemo/1/exportObituaries/1/exportChatMessages/1/exportJson/0/exportSQL/1/exportSQLFile/demo_db.db\n",
      "211803-KoDAndi-mp_assault.dm_60\n",
      "indexer indexTarget/C:\\Users\\Jelle\\Documents\\GIT\\rtcw_demo_analyzer\\demos\\rtcw_2003.08.07_liga-sw-s4_knights-of-death_vs_geh-ab-clan\\212535-WTV-@rtcw-ligade-mp_assault.dm_60/exportBulletEvents/1/exportPlayers/1/exportDemo/1/exportObituaries/1/exportChatMessages/1/exportJson/0/exportSQL/1/exportSQLFile/demo_db.db\n",
      "212535-WTV-@rtcw-ligade-mp_assault.dm_60\n",
      "indexer indexTarget/C:\\Users\\Jelle\\Documents\\GIT\\rtcw_demo_analyzer\\demos\\rtcw_2003.08.07_liga-sw-s4_knights-of-death_vs_geh-ab-clan\\213215-]GaB-aSSa[-mp_assault.dm_60/exportBulletEvents/1/exportPlayers/1/exportDemo/1/exportObituaries/1/exportChatMessages/1/exportJson/0/exportSQL/1/exportSQLFile/demo_db.db\n",
      "213215-]GaB-aSSa[-mp_assault.dm_60\n",
      "indexer indexTarget/C:\\Users\\Jelle\\Documents\\GIT\\rtcw_demo_analyzer\\demos\\rtcw_2003.08.07_liga-sw-s4_knights-of-death_vs_geh-ab-clan\\213853-KoDg1zzY-mp_assault.dm_60/exportBulletEvents/1/exportPlayers/1/exportDemo/1/exportObituaries/1/exportChatMessages/1/exportJson/0/exportSQL/1/exportSQLFile/demo_db.db\n",
      "213853-KoDg1zzY-mp_assault.dm_60\n",
      "indexer indexTarget/C:\\Users\\Jelle\\Documents\\GIT\\rtcw_demo_analyzer\\demos\\rtcw_2003.08.07_liga-sw-s4_knights-of-death_vs_geh-ab-clan\\214629-WTV-@rtcw-ligade-mp_assault.dm_60/exportBulletEvents/1/exportPlayers/1/exportDemo/1/exportObituaries/1/exportChatMessages/1/exportJson/0/exportSQL/1/exportSQLFile/demo_db.db\n",
      "214629-WTV-@rtcw-ligade-mp_assault.dm_60\n",
      "indexer indexTarget/C:\\Users\\Jelle\\Documents\\GIT\\rtcw_demo_analyzer\\demos\\rtcw_2003.08.07_liga-sw-s4_knights-of-death_vs_geh-ab-clan\\215435-WTV-@rtcw-ligade-mp_assault.dm_60/exportBulletEvents/1/exportPlayers/1/exportDemo/1/exportObituaries/1/exportChatMessages/1/exportJson/0/exportSQL/1/exportSQLFile/demo_db.db\n",
      "215435-WTV-@rtcw-ligade-mp_assault.dm_60\n",
      "indexer indexTarget/C:\\Users\\Jelle\\Documents\\GIT\\rtcw_demo_analyzer\\demos\\rtcw_2003.08.07_liga-sw-s4_knights-of-death_vs_geh-ab-clan\\220429-KoDJanCiper-mp_assault.dm_60/exportBulletEvents/1/exportPlayers/1/exportDemo/1/exportObituaries/1/exportChatMessages/1/exportJson/0/exportSQL/1/exportSQLFile/demo_db.db\n",
      "220429-KoDJanCiper-mp_assault.dm_60\n",
      "indexer indexTarget/C:\\Users\\Jelle\\Documents\\GIT\\rtcw_demo_analyzer\\demos\\rtcw_2003.08.07_liga-sw-s4_knights-of-death_vs_geh-ab-clan\\221421-WTV-@rtcw-ligade-mp_assault.dm_60/exportBulletEvents/1/exportPlayers/1/exportDemo/1/exportObituaries/1/exportChatMessages/1/exportJson/0/exportSQL/1/exportSQLFile/demo_db.db\n",
      "221421-WTV-@rtcw-ligade-mp_assault.dm_60\n",
      "indexer indexTarget/C:\\Users\\Jelle\\Documents\\GIT\\rtcw_demo_analyzer\\demos\\rtcw_2003.08.07_liga-sw-s4_knights-of-death_vs_geh-ab-clan\\222334-WTV-@rtcw-ligade-mp_assault.dm_60/exportBulletEvents/1/exportPlayers/1/exportDemo/1/exportObituaries/1/exportChatMessages/1/exportJson/0/exportSQL/1/exportSQLFile/demo_db.db\n",
      "222334-WTV-@rtcw-ligade-mp_assault.dm_60\n",
      "indexer indexTarget/C:\\Users\\Jelle\\Documents\\GIT\\rtcw_demo_analyzer\\demos\\rtcw_2002.11.20_esports_ocrana_vs_euphoria_round2\\OcrvEuph_eSports_Cup_Beach1.dm_60/exportBulletEvents/1/exportPlayers/1/exportDemo/1/exportObituaries/1/exportChatMessages/1/exportJson/0/exportSQL/1/exportSQLFile/demo_db.db\n",
      "OcrvEuph_eSports_Cup_Beach1.dm_60\n",
      "indexer indexTarget/C:\\Users\\Jelle\\Documents\\GIT\\rtcw_demo_analyzer\\demos\\rtcw_2002.11.20_esports_ocrana_vs_euphoria_round2\\OcrvEuph_eSports_Cup_Beach2.dm_60/exportBulletEvents/1/exportPlayers/1/exportDemo/1/exportObituaries/1/exportChatMessages/1/exportJson/0/exportSQL/1/exportSQLFile/demo_db.db\n",
      "OcrvEuph_eSports_Cup_Beach2.dm_60\n",
      "indexer indexTarget/C:\\Users\\Jelle\\Documents\\GIT\\rtcw_demo_analyzer\\demos\\rtcw_2002.11.20_esports_ocrana_vs_euphoria_round2\\OcrvEuph_eSports_Cup_Ice.dm_60/exportBulletEvents/1/exportPlayers/1/exportDemo/1/exportObituaries/1/exportChatMessages/1/exportJson/0/exportSQL/1/exportSQLFile/demo_db.db\n",
      "OcrvEuph_eSports_Cup_Ice.dm_60\n",
      "indexer indexTarget/C:\\Users\\Jelle\\Documents\\GIT\\rtcw_demo_analyzer\\demos\\rtcw_2002.06.20_qcon02-qual_qgirlz_vs_wsf_round1\\1024629537gamedemo1.dm_59/exportBulletEvents/1/exportPlayers/1/exportDemo/1/exportObituaries/1/exportChatMessages/1/exportJson/0/exportSQL/1/exportSQLFile/demo_db.db\n",
      "1024629537gamedemo1.dm_59\n",
      "indexer indexTarget/C:\\Users\\Jelle\\Documents\\GIT\\rtcw_demo_analyzer\\demos\\rtcw_2003.06.14_swertcwcup_amish_vs_newproyect_wb-round1\\230748-AmishmadE-mp_base.dm_60/exportBulletEvents/1/exportPlayers/1/exportDemo/1/exportObituaries/1/exportChatMessages/1/exportJson/0/exportSQL/1/exportSQLFile/demo_db.db\n",
      "230748-AmishmadE-mp_base.dm_60\n",
      "indexer indexTarget/C:\\Users\\Jelle\\Documents\\GIT\\rtcw_demo_analyzer\\demos\\rtcw_2003.06.14_swertcwcup_amish_vs_newproyect_wb-round1\\231319-AmishmadE-mp_base.dm_60/exportBulletEvents/1/exportPlayers/1/exportDemo/1/exportObituaries/1/exportChatMessages/1/exportJson/0/exportSQL/1/exportSQLFile/demo_db.db\n",
      "231319-AmishmadE-mp_base.dm_60\n",
      "indexer indexTarget/C:\\Users\\Jelle\\Documents\\GIT\\rtcw_demo_analyzer\\demos\\rtcw_2003.06.14_swertcwcup_amish_vs_newproyect_wb-round1\\231835-AmishmadE-mp_base.dm_60/exportBulletEvents/1/exportPlayers/1/exportDemo/1/exportObituaries/1/exportChatMessages/1/exportJson/0/exportSQL/1/exportSQLFile/demo_db.db\n",
      "231835-AmishmadE-mp_base.dm_60\n",
      "indexer indexTarget/C:\\Users\\Jelle\\Documents\\GIT\\rtcw_demo_analyzer\\demos\\rtcw_2003.06.14_swertcwcup_amish_vs_newproyect_wb-round1\\232710-AmishmadE-mp_base.dm_60/exportBulletEvents/1/exportPlayers/1/exportDemo/1/exportObituaries/1/exportChatMessages/1/exportJson/0/exportSQL/1/exportSQLFile/demo_db.db\n",
      "232710-AmishmadE-mp_base.dm_60\n",
      "indexer indexTarget/C:\\Users\\Jelle\\Documents\\GIT\\rtcw_demo_analyzer\\demos\\rtcw_2003.06.14_swertcwcup_amish_vs_newproyect_wb-round1\\233104-AmishmadE-mp_base.dm_60/exportBulletEvents/1/exportPlayers/1/exportDemo/1/exportObituaries/1/exportChatMessages/1/exportJson/0/exportSQL/1/exportSQLFile/demo_db.db\n",
      "233104-AmishmadE-mp_base.dm_60\n"
     ]
    },
    {
     "name": "stdout",
     "output_type": "stream",
     "text": [
      "indexer indexTarget/C:\\Users\\Jelle\\Documents\\GIT\\rtcw_demo_analyzer\\demos\\rtcw_2003.06.14_swertcwcup_amish_vs_newproyect_wb-round1\\233914-AmishmadE-mp_base.dm_60/exportBulletEvents/1/exportPlayers/1/exportDemo/1/exportObituaries/1/exportChatMessages/1/exportJson/0/exportSQL/1/exportSQLFile/demo_db.db\n",
      "233914-AmishmadE-mp_base.dm_60\n",
      "indexer indexTarget/C:\\Users\\Jelle\\Documents\\GIT\\rtcw_demo_analyzer\\demos\\rtcw_2003.06.14_swertcwcup_amish_vs_newproyect_wb-round1\\234315-AmishmadE-mp_base.dm_60/exportBulletEvents/1/exportPlayers/1/exportDemo/1/exportObituaries/1/exportChatMessages/1/exportJson/0/exportSQL/1/exportSQLFile/demo_db.db\n",
      "234315-AmishmadE-mp_base.dm_60\n",
      "indexer indexTarget/C:\\Users\\Jelle\\Documents\\GIT\\rtcw_demo_analyzer\\demos\\rtcw_2003.06.14_swertcwcup_amish_vs_newproyect_wb-round1\\234640-AmishmadE-mp_base.dm_60/exportBulletEvents/1/exportPlayers/1/exportDemo/1/exportObituaries/1/exportChatMessages/1/exportJson/0/exportSQL/1/exportSQLFile/demo_db.db\n",
      "234640-AmishmadE-mp_base.dm_60\n",
      "indexer indexTarget/C:\\Users\\Jelle\\Documents\\GIT\\rtcw_demo_analyzer\\demos\\rtcw_2003.07.29_squad3k_infensus_vs_a-losers_groupstage\\210447-a-L'kuraiguMSI-mp_base.dm_60/exportBulletEvents/1/exportPlayers/1/exportDemo/1/exportObituaries/1/exportChatMessages/1/exportJson/0/exportSQL/1/exportSQLFile/demo_db.db\n",
      "210447-a-L'kuraiguMSI-mp_base.dm_60\n",
      "indexer indexTarget/C:\\Users\\Jelle\\Documents\\GIT\\rtcw_demo_analyzer\\demos\\rtcw_2003.07.29_squad3k_infensus_vs_a-losers_groupstage\\210929-iN-zerom-mp_base.dm_60/exportBulletEvents/1/exportPlayers/1/exportDemo/1/exportObituaries/1/exportChatMessages/1/exportJson/0/exportSQL/1/exportSQLFile/demo_db.db\n",
      "210929-iN-zerom-mp_base.dm_60\n",
      "indexer indexTarget/C:\\Users\\Jelle\\Documents\\GIT\\rtcw_demo_analyzer\\demos\\rtcw_2003.07.29_squad3k_infensus_vs_a-losers_groupstage\\211320-a-L'kuraiguMSI-mp_base.dm_60/exportBulletEvents/1/exportPlayers/1/exportDemo/1/exportObituaries/1/exportChatMessages/1/exportJson/0/exportSQL/1/exportSQLFile/demo_db.db\n",
      "211320-a-L'kuraiguMSI-mp_base.dm_60\n",
      "indexer indexTarget/C:\\Users\\Jelle\\Documents\\GIT\\rtcw_demo_analyzer\\demos\\rtcw_2003.01.30_liga-sw-s2_rr_vs_cyberdyne-systems-corporation\\cscvsrr.dm_60/exportBulletEvents/1/exportPlayers/1/exportDemo/1/exportObituaries/1/exportChatMessages/1/exportJson/0/exportSQL/1/exportSQLFile/demo_db.db\n",
      "cscvsrr.dm_60\n",
      "indexer indexTarget/C:\\Users\\Jelle\\Documents\\GIT\\rtcw_demo_analyzer\\demos\\rtcw_2003.01.26_wfl-wolfcup_gods-incorporated_vs_rm\\221740-WFL'Admin'Sengo-mp_base.dm_60/exportBulletEvents/1/exportPlayers/1/exportDemo/1/exportObituaries/1/exportChatMessages/1/exportJson/0/exportSQL/1/exportSQLFile/demo_db.db\n",
      "221740-WFL'Admin'Sengo-mp_base.dm_60\n",
      "indexer indexTarget/C:\\Users\\Jelle\\Documents\\GIT\\rtcw_demo_analyzer\\demos\\rtcw_2003.01.26_wfl-wolfcup_gods-incorporated_vs_rm\\223530-WFL'Admin'Sengo-mp_base.dm_60/exportBulletEvents/1/exportPlayers/1/exportDemo/1/exportObituaries/1/exportChatMessages/1/exportJson/0/exportSQL/1/exportSQLFile/demo_db.db\n",
      "223530-WFL'Admin'Sengo-mp_base.dm_60\n",
      "indexer indexTarget/C:\\Users\\Jelle\\Documents\\GIT\\rtcw_demo_analyzer\\demos\\rtcw_2003.01.26_wfl-wolfcup_gods-incorporated_vs_rm\\223922-WFL'Admin'Sengo-mp_base.dm_60/exportBulletEvents/1/exportPlayers/1/exportDemo/1/exportObituaries/1/exportChatMessages/1/exportJson/0/exportSQL/1/exportSQLFile/demo_db.db\n",
      "223922-WFL'Admin'Sengo-mp_base.dm_60\n",
      "indexer indexTarget/C:\\Users\\Jelle\\Documents\\GIT\\rtcw_demo_analyzer\\demos\\rtcw_2003.01.26_wfl-wolfcup_gods-incorporated_vs_rm\\224211-WFL'Admin'Sengo-mp_base.dm_60/exportBulletEvents/1/exportPlayers/1/exportDemo/1/exportObituaries/1/exportChatMessages/1/exportJson/0/exportSQL/1/exportSQLFile/demo_db.db\n",
      "224211-WFL'Admin'Sengo-mp_base.dm_60\n",
      "indexer indexTarget/C:\\Users\\Jelle\\Documents\\GIT\\rtcw_demo_analyzer\\demos\\rtcw_2003.04.01_cb-ec7_infensus-(former-gol)_vs_plan-b_groupstage_sc\\222046-iN-civ-mp_ice.dm_60/exportBulletEvents/1/exportPlayers/1/exportDemo/1/exportObituaries/1/exportChatMessages/1/exportJson/0/exportSQL/1/exportSQLFile/demo_db.db\n",
      "222046-iN-civ-mp_ice.dm_60\n",
      "indexer indexTarget/C:\\Users\\Jelle\\Documents\\GIT\\rtcw_demo_analyzer\\demos\\rtcw_2003.04.01_cb-ec7_infensus-(former-gol)_vs_plan-b_groupstage_sc\\225237-iN-civ-mp_village.dm_60/exportBulletEvents/1/exportPlayers/1/exportDemo/1/exportObituaries/1/exportChatMessages/1/exportJson/0/exportSQL/1/exportSQLFile/demo_db.db\n",
      "225237-iN-civ-mp_village.dm_60\n",
      "indexer indexTarget/C:\\Users\\Jelle\\Documents\\GIT\\rtcw_demo_analyzer\\demos\\rtcw_2003.04.07_bob2_narf_vs_wsw_round1\\180257-Da_G]NARF[-mp_sub.dm_60/exportBulletEvents/1/exportPlayers/1/exportDemo/1/exportObituaries/1/exportChatMessages/1/exportJson/0/exportSQL/1/exportSQLFile/demo_db.db\n",
      "180257-Da_G]NARF[-mp_sub.dm_60\n",
      "indexer indexTarget/C:\\Users\\Jelle\\Documents\\GIT\\rtcw_demo_analyzer\\demos\\rtcw_2003.04.07_bob2_narf_vs_wsw_round1\\180711-Da_G]NARF[-mp_sub.dm_60/exportBulletEvents/1/exportPlayers/1/exportDemo/1/exportObituaries/1/exportChatMessages/1/exportJson/0/exportSQL/1/exportSQLFile/demo_db.db\n",
      "180711-Da_G]NARF[-mp_sub.dm_60\n",
      "indexer indexTarget/C:\\Users\\Jelle\\Documents\\GIT\\rtcw_demo_analyzer\\demos\\rtcw_2003.04.07_bob2_narf_vs_wsw_round1\\181238-Da_G]NARF[-mp_sub.dm_60/exportBulletEvents/1/exportPlayers/1/exportDemo/1/exportObituaries/1/exportChatMessages/1/exportJson/0/exportSQL/1/exportSQLFile/demo_db.db\n",
      "181238-Da_G]NARF[-mp_sub.dm_60\n",
      "indexer indexTarget/C:\\Users\\Jelle\\Documents\\GIT\\rtcw_demo_analyzer\\demos\\rtcw_2003.04.07_bob2_narf_vs_wsw_round1\\181848-Da_G]NARF[-mp_sub.dm_60/exportBulletEvents/1/exportPlayers/1/exportDemo/1/exportObituaries/1/exportChatMessages/1/exportJson/0/exportSQL/1/exportSQLFile/demo_db.db\n",
      "181848-Da_G]NARF[-mp_sub.dm_60\n",
      "indexer indexTarget/C:\\Users\\Jelle\\Documents\\GIT\\rtcw_demo_analyzer\\demos\\rtcw_2003.04.07_bob2_narf_vs_wsw_round1\\182606-Da_G]NARF[-mp_sub.dm_60/exportBulletEvents/1/exportPlayers/1/exportDemo/1/exportObituaries/1/exportChatMessages/1/exportJson/0/exportSQL/1/exportSQLFile/demo_db.db\n",
      "182606-Da_G]NARF[-mp_sub.dm_60\n",
      "indexer indexTarget/C:\\Users\\Jelle\\Documents\\GIT\\rtcw_demo_analyzer\\demos\\rtcw_2003.07.18_cb-nc4_swe_vs_ita_finals\\Nationscup-Final-Italy-vs-Sweden.dm_60/exportBulletEvents/1/exportPlayers/1/exportDemo/1/exportObituaries/1/exportChatMessages/1/exportJson/0/exportSQL/1/exportSQLFile/demo_db.db\n",
      "Nationscup-Final-Italy-vs-Sweden.dm_60\n",
      "indexer indexTarget/C:\\Users\\Jelle\\Documents\\GIT\\rtcw_demo_analyzer\\demos\\rtcw_2002.08.17_qcon02_infensus_vs_abuse_lb-round3\\iN_vs_Abuse_beach.dm_59/exportBulletEvents/1/exportPlayers/1/exportDemo/1/exportObituaries/1/exportChatMessages/1/exportJson/0/exportSQL/1/exportSQLFile/demo_db.db\n",
      "iN_vs_Abuse_beach.dm_59\n",
      "indexer indexTarget/C:\\Users\\Jelle\\Documents\\GIT\\rtcw_demo_analyzer\\demos\\rtcw_2002.08.16_qcon02_diy_vs_paradigm-shift_lb-round1\\mp_sub-2002-08-16-174742-DiYToolboy.dm_59/exportBulletEvents/1/exportPlayers/1/exportDemo/1/exportObituaries/1/exportChatMessages/1/exportJson/0/exportSQL/1/exportSQLFile/demo_db.db\n",
      "mp_sub-2002-08-16-174742-DiYToolboy.dm_59\n",
      "indexer indexTarget/C:\\Users\\Jelle\\Documents\\GIT\\rtcw_demo_analyzer\\demos\\rtcw_2002.08.16_qcon02_diy_vs_paradigm-shift_lb-round1\\mp_sub-2002-08-16-175421-DiYToolboy.dm_59/exportBulletEvents/1/exportPlayers/1/exportDemo/1/exportObituaries/1/exportChatMessages/1/exportJson/0/exportSQL/1/exportSQLFile/demo_db.db\n",
      "mp_sub-2002-08-16-175421-DiYToolboy.dm_59\n",
      "indexer indexTarget/C:\\Users\\Jelle\\Documents\\GIT\\rtcw_demo_analyzer\\demos\\rtcw_2003.07.12_neverlan2003_rtg_vs_helix\\184424-rTghOOlig@n-mp_village.dm_60/exportBulletEvents/1/exportPlayers/1/exportDemo/1/exportObituaries/1/exportChatMessages/1/exportJson/0/exportSQL/1/exportSQLFile/demo_db.db\n",
      "184424-rTghOOlig@n-mp_village.dm_60\n",
      "indexer indexTarget/C:\\Users\\Jelle\\Documents\\GIT\\rtcw_demo_analyzer\\demos\\rtcw_2003.07.12_neverlan2003_rtg_vs_helix\\193316-rTghOOlig@n-mp_village.dm_60/exportBulletEvents/1/exportPlayers/1/exportDemo/1/exportObituaries/1/exportChatMessages/1/exportJson/0/exportSQL/1/exportSQLFile/demo_db.db\n",
      "193316-rTghOOlig@n-mp_village.dm_60\n",
      "indexer indexTarget/C:\\Users\\Jelle\\Documents\\GIT\\rtcw_demo_analyzer\\demos\\rtcw_2003.07.12_neverlan2003_rtg_vs_helix\\193915-rTghOOlig@n-mp_village.dm_60/exportBulletEvents/1/exportPlayers/1/exportDemo/1/exportObituaries/1/exportChatMessages/1/exportJson/0/exportSQL/1/exportSQLFile/demo_db.db\n",
      "193915-rTghOOlig@n-mp_village.dm_60\n",
      "indexer indexTarget/C:\\Users\\Jelle\\Documents\\GIT\\rtcw_demo_analyzer\\demos\\rtcw_2003.07.12_neverlan2003_rtg_vs_helix\\194827-rTghOOlig@n-mp_village.dm_60/exportBulletEvents/1/exportPlayers/1/exportDemo/1/exportObituaries/1/exportChatMessages/1/exportJson/0/exportSQL/1/exportSQLFile/demo_db.db\n",
      "194827-rTghOOlig@n-mp_village.dm_60\n",
      "indexer indexTarget/C:\\Users\\Jelle\\Documents\\GIT\\rtcw_demo_analyzer\\demos\\rtcw_2003.07.12_neverlan2003_rtg_vs_helix\\203536-rTghOOlig@n-mp_beach.dm_60/exportBulletEvents/1/exportPlayers/1/exportDemo/1/exportObituaries/1/exportChatMessages/1/exportJson/0/exportSQL/1/exportSQLFile/demo_db.db\n",
      "203536-rTghOOlig@n-mp_beach.dm_60\n",
      "indexer indexTarget/C:\\Users\\Jelle\\Documents\\GIT\\rtcw_demo_analyzer\\demos\\rtcw_2003.07.12_neverlan2003_rtg_vs_helix\\205127-rTghOOlig@n-mp_beach.dm_60/exportBulletEvents/1/exportPlayers/1/exportDemo/1/exportObituaries/1/exportChatMessages/1/exportJson/0/exportSQL/1/exportSQLFile/demo_db.db\n",
      "205127-rTghOOlig@n-mp_beach.dm_60\n"
     ]
    },
    {
     "name": "stdout",
     "output_type": "stream",
     "text": [
      "indexer indexTarget/C:\\Users\\Jelle\\Documents\\GIT\\rtcw_demo_analyzer\\demos\\rtcw_2002.06.17_qcon02-qual_paradigm-shift_vs_otc_round1\\demo0001.dm_59/exportBulletEvents/1/exportPlayers/1/exportDemo/1/exportObituaries/1/exportChatMessages/1/exportJson/0/exportSQL/1/exportSQLFile/demo_db.db\n",
      "demo0001.dm_59\n",
      "indexer indexTarget/C:\\Users\\Jelle\\Documents\\GIT\\rtcw_demo_analyzer\\demos\\rtcw_2002.01.31_bob1_ewe_vs_asn_round1\\1012539750Demo_00.dm_57/exportBulletEvents/1/exportPlayers/1/exportDemo/1/exportObituaries/1/exportChatMessages/1/exportJson/0/exportSQL/1/exportSQLFile/demo_db.db\n",
      "1012539750Demo_00.dm_57\n",
      "indexer indexTarget/C:\\Users\\Jelle\\Documents\\GIT\\rtcw_demo_analyzer\\demos\\rtcw_2002.06.02_cal-i-s2_darkside_vs_clan-kapitol_groupstage\\darkside-cK_calrtcwi-mp_assault_povjones.dm_58/exportBulletEvents/1/exportPlayers/1/exportDemo/1/exportObituaries/1/exportChatMessages/1/exportJson/0/exportSQL/1/exportSQLFile/demo_db.db\n",
      "darkside-cK_calrtcwi-mp_assault_povjones.dm_58\n",
      "indexer indexTarget/C:\\Users\\Jelle\\Documents\\GIT\\rtcw_demo_analyzer\\demos\\rtcw_2003.10.07_bob2uk_4kings_vs_dh_finals\\213458-4K7ZaF-mp_ice.dm_60/exportBulletEvents/1/exportPlayers/1/exportDemo/1/exportObituaries/1/exportChatMessages/1/exportJson/0/exportSQL/1/exportSQLFile/demo_db.db\n",
      "213458-4K7ZaF-mp_ice.dm_60\n",
      "indexer indexTarget/C:\\Users\\Jelle\\Documents\\GIT\\rtcw_demo_analyzer\\demos\\rtcw_2003.10.07_bob2uk_4kings_vs_dh_finals\\214736-4K7HaRdNuT-mp_ice.dm_60/exportBulletEvents/1/exportPlayers/1/exportDemo/1/exportObituaries/1/exportChatMessages/1/exportJson/0/exportSQL/1/exportSQLFile/demo_db.db\n",
      "214736-4K7HaRdNuT-mp_ice.dm_60\n",
      "indexer indexTarget/C:\\Users\\Jelle\\Documents\\GIT\\rtcw_demo_analyzer\\demos\\rtcw_2002.02.14_bob1_empire_vs_da_round3\\02-14-2002-bob-empire-vs-da-village-214021-round3.dm_57/exportBulletEvents/1/exportPlayers/1/exportDemo/1/exportObituaries/1/exportChatMessages/1/exportJson/0/exportSQL/1/exportSQLFile/demo_db.db\n",
      "02-14-2002-bob-empire-vs-da-village-214021-round3.dm_57\n",
      "indexer indexTarget/C:\\Users\\Jelle\\Documents\\GIT\\rtcw_demo_analyzer\\demos\\rtcw_2003.09.14_swertcwcup_rewind_vs_kih_superfinals\\215524-[]RaZiel-mp_ice.dm_60/exportBulletEvents/1/exportPlayers/1/exportDemo/1/exportObituaries/1/exportChatMessages/1/exportJson/0/exportSQL/1/exportSQLFile/demo_db.db\n",
      "215524-[]RaZiel-mp_ice.dm_60\n",
      "indexer indexTarget/C:\\Users\\Jelle\\Documents\\GIT\\rtcw_demo_analyzer\\demos\\rtcw_2003.09.14_swertcwcup_rewind_vs_kih_superfinals\\221254-KiHWoLFF-mp_ice.dm_60/exportBulletEvents/1/exportPlayers/1/exportDemo/1/exportObituaries/1/exportChatMessages/1/exportJson/0/exportSQL/1/exportSQLFile/demo_db.db\n",
      "221254-KiHWoLFF-mp_ice.dm_60\n",
      "indexer indexTarget/C:\\Users\\Jelle\\Documents\\GIT\\rtcw_demo_analyzer\\demos\\rtcw_2003.09.14_swertcwcup_rewind_vs_kih_superfinals\\222745-[]Darkie-mp_ice.dm_60/exportBulletEvents/1/exportPlayers/1/exportDemo/1/exportObituaries/1/exportChatMessages/1/exportJson/0/exportSQL/1/exportSQLFile/demo_db.db\n",
      "222745-[]Darkie-mp_ice.dm_60\n",
      "indexer indexTarget/C:\\Users\\Jelle\\Documents\\GIT\\rtcw_demo_analyzer\\demos\\rtcw_2002.02.06_cb-ladder_pm_vs_don\\pM-DON-assault_cb.dm_57/exportBulletEvents/1/exportPlayers/1/exportDemo/1/exportObituaries/1/exportChatMessages/1/exportJson/0/exportSQL/1/exportSQLFile/demo_db.db\n",
      "pM-DON-assault_cb.dm_57\n",
      "indexer indexTarget/C:\\Users\\Jelle\\Documents\\GIT\\rtcw_demo_analyzer\\demos\\rtcw_2002.02.06_cb-ladder_pm_vs_don\\pM-DON-communique_cb.dm_57/exportBulletEvents/1/exportPlayers/1/exportDemo/1/exportObituaries/1/exportChatMessages/1/exportJson/0/exportSQL/1/exportSQLFile/demo_db.db\n",
      "pM-DON-communique_cb.dm_57\n",
      "indexer indexTarget/C:\\Users\\Jelle\\Documents\\GIT\\rtcw_demo_analyzer\\demos\\rtcw_2003.01.16_ga-ladder-s2_dot_vs_se_finals\\rtcw_2003.01.16_ga-ladder-s2_dot_vs_se_finals.dm_60/exportBulletEvents/1/exportPlayers/1/exportDemo/1/exportObituaries/1/exportChatMessages/1/exportJson/0/exportSQL/1/exportSQLFile/demo_db.db\n",
      "rtcw_2003.01.16_ga-ladder-s2_dot_vs_se_finals.dm_60\n",
      "indexer indexTarget/C:\\Users\\Jelle\\Documents\\GIT\\rtcw_demo_analyzer\\demos\\rtcw_2003.10.13_rtcw.no-premier-s6_rewind_vs_team-unknown\\tU-rew1.dm_60/exportBulletEvents/1/exportPlayers/1/exportDemo/1/exportObituaries/1/exportChatMessages/1/exportJson/0/exportSQL/1/exportSQLFile/demo_db.db\n",
      "tU-rew1.dm_60\n",
      "indexer indexTarget/C:\\Users\\Jelle\\Documents\\GIT\\rtcw_demo_analyzer\\demos\\rtcw_2003.10.13_rtcw.no-premier-s6_rewind_vs_team-unknown\\tU-rew2.dm_60/exportBulletEvents/1/exportPlayers/1/exportDemo/1/exportObituaries/1/exportChatMessages/1/exportJson/0/exportSQL/1/exportSQLFile/demo_db.db\n",
      "tU-rew2.dm_60\n",
      "indexer indexTarget/C:\\Users\\Jelle\\Documents\\GIT\\rtcw_demo_analyzer\\demos\\rtcw_2003.10.13_rtcw.no-premier-s6_rewind_vs_team-unknown\\tU-rew3.dm_60/exportBulletEvents/1/exportPlayers/1/exportDemo/1/exportObituaries/1/exportChatMessages/1/exportJson/0/exportSQL/1/exportSQLFile/demo_db.db\n",
      "tU-rew3.dm_60\n",
      "indexer indexTarget/C:\\Users\\Jelle\\Documents\\GIT\\rtcw_demo_analyzer\\demos\\rtcw_2003.10.13_rtcw.no-premier-s6_rewind_vs_team-unknown\\tU-rew4.dm_60/exportBulletEvents/1/exportPlayers/1/exportDemo/1/exportObituaries/1/exportChatMessages/1/exportJson/0/exportSQL/1/exportSQLFile/demo_db.db\n",
      "tU-rew4.dm_60\n",
      "indexer indexTarget/C:\\Users\\Jelle\\Documents\\GIT\\rtcw_demo_analyzer\\demos\\rtcw_2003.10.13_rtcw.no-premier-s6_rewind_vs_team-unknown\\tU-rew5.dm_60/exportBulletEvents/1/exportPlayers/1/exportDemo/1/exportObituaries/1/exportChatMessages/1/exportJson/0/exportSQL/1/exportSQLFile/demo_db.db\n",
      "tU-rew5.dm_60\n",
      "indexer indexTarget/C:\\Users\\Jelle\\Documents\\GIT\\rtcw_demo_analyzer\\demos\\rtcw_2003.10.13_rtcw.no-premier-s6_rewind_vs_team-unknown\\tU-rew6.dm_60/exportBulletEvents/1/exportPlayers/1/exportDemo/1/exportObituaries/1/exportChatMessages/1/exportJson/0/exportSQL/1/exportSQLFile/demo_db.db\n",
      "tU-rew6.dm_60\n",
      "indexer indexTarget/C:\\Users\\Jelle\\Documents\\GIT\\rtcw_demo_analyzer\\demos\\rtcw_2003.10.13_rtcw.no-premier-s6_rewind_vs_team-unknown\\tU-rew7.dm_60/exportBulletEvents/1/exportPlayers/1/exportDemo/1/exportObituaries/1/exportChatMessages/1/exportJson/0/exportSQL/1/exportSQLFile/demo_db.db\n",
      "tU-rew7.dm_60\n",
      "indexer indexTarget/C:\\Users\\Jelle\\Documents\\GIT\\rtcw_demo_analyzer\\demos\\rtcw_2003.10.13_rtcw.no-premier-s6_rewind_vs_team-unknown\\tU-rew8.dm_60/exportBulletEvents/1/exportPlayers/1/exportDemo/1/exportObituaries/1/exportChatMessages/1/exportJson/0/exportSQL/1/exportSQLFile/demo_db.db\n",
      "tU-rew8.dm_60\n",
      "indexer indexTarget/C:\\Users\\Jelle\\Documents\\GIT\\rtcw_demo_analyzer\\demos\\rtcw_2003.03.18_liga-sw-s3_rtg_vs_headhunters\\203603-rTgSp!k3-mp_village.dm_60/exportBulletEvents/1/exportPlayers/1/exportDemo/1/exportObituaries/1/exportChatMessages/1/exportJson/0/exportSQL/1/exportSQLFile/demo_db.db\n",
      "203603-rTgSp!k3-mp_village.dm_60\n",
      "indexer indexTarget/C:\\Users\\Jelle\\Documents\\GIT\\rtcw_demo_analyzer\\demos\\rtcw_2003.03.18_liga-sw-s3_rtg_vs_headhunters\\205829-rTgSp!k3-mp_village.dm_60/exportBulletEvents/1/exportPlayers/1/exportDemo/1/exportObituaries/1/exportChatMessages/1/exportJson/0/exportSQL/1/exportSQLFile/demo_db.db\n",
      "205829-rTgSp!k3-mp_village.dm_60\n",
      "indexer indexTarget/C:\\Users\\Jelle\\Documents\\GIT\\rtcw_demo_analyzer\\demos\\rtcw_2003.03.18_liga-sw-s3_rtg_vs_headhunters\\210651-rTgSp!k3-mp_village.dm_60/exportBulletEvents/1/exportPlayers/1/exportDemo/1/exportObituaries/1/exportChatMessages/1/exportJson/0/exportSQL/1/exportSQLFile/demo_db.db\n",
      "210651-rTgSp!k3-mp_village.dm_60\n",
      "indexer indexTarget/C:\\Users\\Jelle\\Documents\\GIT\\rtcw_demo_analyzer\\demos\\rtcw_2003.03.18_liga-sw-s3_rtg_vs_headhunters\\212026-rTgSp!k3-mp_village.dm_60/exportBulletEvents/1/exportPlayers/1/exportDemo/1/exportObituaries/1/exportChatMessages/1/exportJson/0/exportSQL/1/exportSQLFile/demo_db.db\n",
      "212026-rTgSp!k3-mp_village.dm_60\n",
      "indexer indexTarget/C:\\Users\\Jelle\\Documents\\GIT\\rtcw_demo_analyzer\\demos\\rtcw_2003.03.18_liga-sw-s3_rtg_vs_headhunters\\215031-rTgSp!k3-mp_village.dm_60/exportBulletEvents/1/exportPlayers/1/exportDemo/1/exportObituaries/1/exportChatMessages/1/exportJson/0/exportSQL/1/exportSQLFile/demo_db.db\n",
      "215031-rTgSp!k3-mp_village.dm_60\n",
      "indexer indexTarget/C:\\Users\\Jelle\\Documents\\GIT\\rtcw_demo_analyzer\\demos\\rtcw_2002.11.28_cb-nc3_ned_vs_aut_groupstage\\200752-NeonKnightjenl-mp_base.dm_60/exportBulletEvents/1/exportPlayers/1/exportDemo/1/exportObituaries/1/exportChatMessages/1/exportJson/0/exportSQL/1/exportSQLFile/demo_db.db\n",
      "200752-NeonKnightjenl-mp_base.dm_60\n",
      "indexer indexTarget/C:\\Users\\Jelle\\Documents\\GIT\\rtcw_demo_analyzer\\demos\\rtcw_2002.11.28_cb-nc3_ned_vs_aut_groupstage\\202410-NeonKnightjenl-mp_base.dm_60/exportBulletEvents/1/exportPlayers/1/exportDemo/1/exportObituaries/1/exportChatMessages/1/exportJson/0/exportSQL/1/exportSQLFile/demo_db.db\n",
      "202410-NeonKnightjenl-mp_base.dm_60\n",
      "indexer indexTarget/C:\\Users\\Jelle\\Documents\\GIT\\rtcw_demo_analyzer\\demos\\rtcw_2002.11.28_cb-nc3_ned_vs_aut_groupstage\\203123-NeonKnightjenl-mp_base.dm_60/exportBulletEvents/1/exportPlayers/1/exportDemo/1/exportObituaries/1/exportChatMessages/1/exportJson/0/exportSQL/1/exportSQLFile/demo_db.db\n",
      "203123-NeonKnightjenl-mp_base.dm_60\n",
      "indexer indexTarget/C:\\Users\\Jelle\\Documents\\GIT\\rtcw_demo_analyzer\\demos\\rtcw_2002.11.28_cb-nc3_ned_vs_aut_groupstage\\203857-NeonKnightjenl-mp_base.dm_60/exportBulletEvents/1/exportPlayers/1/exportDemo/1/exportObituaries/1/exportChatMessages/1/exportJson/0/exportSQL/1/exportSQLFile/demo_db.db\n",
      "203857-NeonKnightjenl-mp_base.dm_60\n",
      "indexer indexTarget/C:\\Users\\Jelle\\Documents\\GIT\\rtcw_demo_analyzer\\demos\\rtcw_2002.11.28_cb-nc3_ned_vs_aut_groupstage\\205312-NeonKnightjenl-mp_assault.dm_60/exportBulletEvents/1/exportPlayers/1/exportDemo/1/exportObituaries/1/exportChatMessages/1/exportJson/0/exportSQL/1/exportSQLFile/demo_db.db\n",
      "205312-NeonKnightjenl-mp_assault.dm_60\n",
      "indexer indexTarget/C:\\Users\\Jelle\\Documents\\GIT\\rtcw_demo_analyzer\\demos\\rtcw_2002.11.28_cb-nc3_ned_vs_aut_groupstage\\205650-NeonKnightjenl-mp_assault.dm_60/exportBulletEvents/1/exportPlayers/1/exportDemo/1/exportObituaries/1/exportChatMessages/1/exportJson/0/exportSQL/1/exportSQLFile/demo_db.db\n",
      "205650-NeonKnightjenl-mp_assault.dm_60\n"
     ]
    },
    {
     "name": "stdout",
     "output_type": "stream",
     "text": [
      "indexer indexTarget/C:\\Users\\Jelle\\Documents\\GIT\\rtcw_demo_analyzer\\demos\\rtcw_2002.11.28_cb-nc3_ned_vs_aut_groupstage\\210031-NeonKnightjenl-mp_assault.dm_60/exportBulletEvents/1/exportPlayers/1/exportDemo/1/exportObituaries/1/exportChatMessages/1/exportJson/0/exportSQL/1/exportSQLFile/demo_db.db\n",
      "210031-NeonKnightjenl-mp_assault.dm_60\n",
      "indexer indexTarget/C:\\Users\\Jelle\\Documents\\GIT\\rtcw_demo_analyzer\\demos\\rtcw_2003.04.26_cb-nc4_fra_vs_fin_groupstage\\220928-finIJuhan-mp_assault(3putkeen).dm_60/exportBulletEvents/1/exportPlayers/1/exportDemo/1/exportObituaries/1/exportChatMessages/1/exportJson/0/exportSQL/1/exportSQLFile/demo_db.db\n",
      "220928-finIJuhan-mp_assault(3putkeen).dm_60\n",
      "indexer indexTarget/C:\\Users\\Jelle\\Documents\\GIT\\rtcw_demo_analyzer\\demos\\rtcw_2003.04.26_cb-nc4_fra_vs_fin_groupstage\\223458-finIJuhan-mp_base-(4pf.lla).dm_60/exportBulletEvents/1/exportPlayers/1/exportDemo/1/exportObituaries/1/exportChatMessages/1/exportJson/0/exportSQL/1/exportSQLFile/demo_db.db\n",
      "223458-finIJuhan-mp_base-(4pf.lla).dm_60\n",
      "indexer indexTarget/C:\\Users\\Jelle\\Documents\\GIT\\rtcw_demo_analyzer\\demos\\rtcw_2002.02.17_cal-s1_empire_vs_cult-of-hands_groupstage\\02-17-2002-CAL_7_Empire_Handof_HandofDooM_MP_BASE.dm_57/exportBulletEvents/1/exportPlayers/1/exportDemo/1/exportObituaries/1/exportChatMessages/1/exportJson/0/exportSQL/1/exportSQLFile/demo_db.db\n",
      "02-17-2002-CAL_7_Empire_Handof_HandofDooM_MP_BASE.dm_57\n",
      "indexer indexTarget/C:\\Users\\Jelle\\Documents\\GIT\\rtcw_demo_analyzer\\demos\\rtcw_2003.09.18_rtcw.no-premier-s6_ardent_vs_eyeballers\\200914-WTV-rtcwno-mp_beach.dm_60/exportBulletEvents/1/exportPlayers/1/exportDemo/1/exportObituaries/1/exportChatMessages/1/exportJson/0/exportSQL/1/exportSQLFile/demo_db.db\n",
      "200914-WTV-rtcwno-mp_beach.dm_60\n"
     ]
    },
    {
     "ename": "KeyboardInterrupt",
     "evalue": "",
     "output_type": "error",
     "traceback": [
      "\u001b[1;31m---------------------------------------------------------------------------\u001b[0m",
      "\u001b[1;31mKeyboardInterrupt\u001b[0m                         Traceback (most recent call last)",
      "\u001b[1;32m<ipython-input-4-63c15d7afb17>\u001b[0m in \u001b[0;36m<module>\u001b[1;34m()\u001b[0m\n\u001b[0;32m      1\u001b[0m \u001b[1;31m#input all demos from demos folders\u001b[0m\u001b[1;33m\u001b[0m\u001b[1;33m\u001b[0m\u001b[0m\n\u001b[1;32m----> 2\u001b[1;33m \u001b[0mRTCW\u001b[0m\u001b[1;33m.\u001b[0m\u001b[0mfill_db\u001b[0m\u001b[1;33m(\u001b[0m\u001b[0mroot_path\u001b[0m\u001b[1;33m,\u001b[0m \u001b[0mparameters_dct\u001b[0m\u001b[1;33m,\u001b[0m \u001b[0mdemos_dct\u001b[0m\u001b[1;33m)\u001b[0m\u001b[1;33m\u001b[0m\u001b[0m\n\u001b[0m",
      "\u001b[1;32mC:\\Users\\Jelle\\Documents\\GIT\\rtcw_demo_analyzer\\src\\rtcw_functions.pyc\u001b[0m in \u001b[0;36mfill_db\u001b[1;34m(root_path, parameters_dct, demos_dct, demo_folder_name, exe_name, verbose)\u001b[0m\n\u001b[0;32m    159\u001b[0m                         \u001b[1;32mif\u001b[0m \u001b[0mverbose\u001b[0m\u001b[1;33m:\u001b[0m\u001b[1;33m\u001b[0m\u001b[0m\n\u001b[0;32m    160\u001b[0m                                 \u001b[1;32mprint\u001b[0m \u001b[0mdemo\u001b[0m\u001b[1;33m\u001b[0m\u001b[0m\n\u001b[1;32m--> 161\u001b[1;33m                         \u001b[0mos\u001b[0m\u001b[1;33m.\u001b[0m\u001b[0msystem\u001b[0m\u001b[1;33m(\u001b[0m\u001b[0mexe_path\u001b[0m \u001b[1;33m+\u001b[0m \u001b[1;34m' '\u001b[0m \u001b[1;33m+\u001b[0m \u001b[0mparameters\u001b[0m\u001b[1;33m)\u001b[0m\u001b[1;33m\u001b[0m\u001b[0m\n\u001b[0m\u001b[0;32m    162\u001b[0m                 \u001b[1;32mif\u001b[0m \u001b[0mcounter\u001b[0m \u001b[1;33m%\u001b[0m \u001b[1;36m50\u001b[0m \u001b[1;33m==\u001b[0m \u001b[1;36m0\u001b[0m\u001b[1;33m:\u001b[0m\u001b[1;33m\u001b[0m\u001b[0m\n\u001b[0;32m    163\u001b[0m                         \u001b[1;32mprint\u001b[0m \u001b[1;34m'filled '\u001b[0m \u001b[1;33m+\u001b[0m \u001b[0mstr\u001b[0m\u001b[1;33m(\u001b[0m\u001b[0mcounter\u001b[0m\u001b[1;33m)\u001b[0m \u001b[1;33m+\u001b[0m \u001b[1;34m' matches in the database'\u001b[0m\u001b[1;33m\u001b[0m\u001b[0m\n",
      "\u001b[1;31mKeyboardInterrupt\u001b[0m: "
     ]
    }
   ],
   "source": [
    "#input all demos from demos folders \n",
    "RTCW.fill_db(root_path, parameters_dct, demos_dct)"
   ]
  },
  {
   "cell_type": "code",
   "execution_count": null,
   "metadata": {},
   "outputs": [],
   "source": []
  }
 ],
 "metadata": {
  "kernelspec": {
   "display_name": "Python 2",
   "language": "python",
   "name": "python2"
  },
  "language_info": {
   "codemirror_mode": {
    "name": "ipython",
    "version": 2
   },
   "file_extension": ".py",
   "mimetype": "text/x-python",
   "name": "python",
   "nbconvert_exporter": "python",
   "pygments_lexer": "ipython2",
   "version": "2.7.15"
  }
 },
 "nbformat": 4,
 "nbformat_minor": 2
}
