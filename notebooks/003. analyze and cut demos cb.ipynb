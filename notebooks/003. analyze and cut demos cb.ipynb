{
 "cells": [
  {
   "cell_type": "code",
   "execution_count": 1,
   "metadata": {},
   "outputs": [],
   "source": [
    "import os, sys\n",
    "import pandas as pd\n",
    "import warnings\n",
    "warnings.filterwarnings('ignore')\n",
    "\n",
    "#import the functions\n",
    "module_path = os.path.abspath(os.path.join('../src/'))\n",
    "if module_path not in sys.path:\n",
    "    sys.path.append(module_path)\n",
    "    \n",
    "import rtcw_functions as RTCW\n",
    "reload(RTCW)\n",
    "\n",
    "db_name = 'cb.db'\n",
    "demos_folder = 'demoscb'\n",
    "\n",
    "cwd = os.getcwd()\n",
    "demos_path = os.path.join(cwd, '../', demos_folder)\n",
    "\n",
    "exe_name = 'Anders.Gaming.LibTech3.exe'\n",
    "root_path = 'C:\\\\Users\\\\Jelle\\\\Documents\\\\GIT\\\\rtcw_demo_analyzer' #for executable we need a direct path"
   ]
  },
  {
   "cell_type": "code",
   "execution_count": 2,
   "metadata": {},
   "outputs": [
    {
     "name": "stdout",
     "output_type": "stream",
     "text": [
      "parsed 100 matches\n",
      "finished parsing all matches!\n"
     ]
    }
   ],
   "source": [
    "#get demos_dct\n",
    "demos_dct = RTCW.make_dictionary(demos_path)"
   ]
  },
  {
   "cell_type": "code",
   "execution_count": 3,
   "metadata": {},
   "outputs": [
    {
     "name": "stdout",
     "output_type": "stream",
     "text": [
      "obituary table fetched in 0.2 seconds\n",
      "demo table fetched in 0.01 seconds\n",
      "player table fetched in 0.02 seconds\n",
      "bulletevent table fetched in 0.42 seconds\n",
      "chatmessage table fetched in 0.27 seconds\n"
     ]
    }
   ],
   "source": [
    "#load obituaries in a df\n",
    "import sqlite3_connector\n",
    "db = sqlite3_connector.sqlite3_connector(os.path.join(root_path, db_name))\n",
    "\n",
    "obituary_df = db.get_table_as_df(table_name= 'obituary')\n",
    "demo_df = db.get_table_as_df(table_name= 'demo')\n",
    "player_df = db.get_table_as_df(table_name= 'player')\n",
    "obituary_df = RTCW.add_match_data(obituary_df, player_df, demos_dct)\n",
    "bulletevent_df = db.get_table_as_df(table_name= 'bulletevent')\n",
    "bulletevent_df = RTCW.add_match_data(bulletevent_df, player_df, demos_dct)\n",
    "chatmessages_df = db.get_table_as_df(table_name= 'chatmessage')\n",
    "chatmessages_df = RTCW.add_match_data(chatmessages_df, player_df, demos_dct, what_df = 'chatmessages_df')\n",
    "chatmessages_df = RTCW.feature_extraction_chat(chatmessages_df)"
   ]
  },
  {
   "cell_type": "code",
   "execution_count": 12,
   "metadata": {},
   "outputs": [],
   "source": [
    "bulletevent_df = bulletevent_df[bulletevent_df['szMd5'] == 'b9d0918f6ec71fcb5e3756363c75a569']\n",
    "bulletevent_df_backup = bulletevent_df.copy()"
   ]
  },
  {
   "cell_type": "code",
   "execution_count": null,
   "metadata": {},
   "outputs": [],
   "source": [
    "# obituary_df = obituary_df[obituary_df['matchName'] == 'rtcw_2005.05.02_cb-nc8_uk_vs_nl_groupstage']\n",
    "# obituary_df = obituary_df[obituary_df['szCleanName'] == 'NL-lus3D^^']\n",
    "# obits = obituary_df.iloc[[5]]"
   ]
  },
  {
   "cell_type": "code",
   "execution_count": null,
   "metadata": {},
   "outputs": [],
   "source": [
    "df_spree = RTCW.get_kill_sprees(obits, \n",
    "                                demo_df,\n",
    "                                maxtime_secs = 1, \n",
    "                                include_weapon_filter = None,\n",
    "                                exclude_weapon_filter = None, \n",
    "                                minspree = 1,\n",
    "                                pov_sprees_only = False,\n",
    "                                verbose = True)\n",
    "\n",
    "df_spree[['match', 'demo', 'player', 'spreecount', 'weapons']]"
   ]
  },
  {
   "cell_type": "code",
   "execution_count": null,
   "metadata": {},
   "outputs": [],
   "source": [
    "RTCW.cut_demos(root_path, demos_dct, df_spree, offset_start = 8, offset_end = 40, transform_to_dm_60 = True, demo_folder_name = demos_folder)\n",
    "RTCW.generate_capture_list(df_spree, transform_to_dm_60 = True)"
   ]
  },
  {
   "cell_type": "code",
   "execution_count": null,
   "metadata": {},
   "outputs": [],
   "source": [
    "res = RTCW.get_docruns(chatmessages_df, \n",
    "                       min_docrun_length = 10, \n",
    "                       max_timeleft = 30, \n",
    "                       docs_succesful = None, \n",
    "                       min_docs_lost = 2, \n",
    "                       verbose = True)\n",
    "res[['start', 'end', 'start_secsleft', 'end_secsleft', 'duration', 'times_lost_docs', 'won_round', 'md5']]"
   ]
  },
  {
   "cell_type": "code",
   "execution_count": null,
   "metadata": {},
   "outputs": [],
   "source": [
    "RTCW.cut_demos(root_path, demos_dct, res, demo_type = 'docs', offset_start = 8, offset_end = 8, transform_to_dm_60 = True, demo_folder_name = demos_folder)\n",
    "RTCW.generate_capture_list(res, demo_type='docs', transform_to_dm_60 = True)"
   ]
  },
  {
   "cell_type": "code",
   "execution_count": null,
   "metadata": {},
   "outputs": [],
   "source": [
    "df_wtv = RTCW.get_wtvmoments(chatmessages_df, z = 7, window = 10, verbose=True)\n",
    "df_wtv"
   ]
  },
  {
   "cell_type": "code",
   "execution_count": null,
   "metadata": {},
   "outputs": [],
   "source": [
    "RTCW.cut_demos(root_path, demos_dct, df_wtv, demo_type = 'wtv', offset_start = 15, offset_end = 8, transform_to_dm_60 = True, demo_folder_name= 'demos')\n",
    "RTCW.generate_capture_list(df_wtv, demo_type='wtv', transform_to_dm_60 = True)"
   ]
  },
  {
   "cell_type": "code",
   "execution_count": 13,
   "metadata": {},
   "outputs": [
    {
     "name": "stdout",
     "output_type": "stream",
     "text": [
      "all done!\n"
     ]
    },
    {
     "data": {
      "text/html": [
       "<div>\n",
       "<style scoped>\n",
       "    .dataframe tbody tr th:only-of-type {\n",
       "        vertical-align: middle;\n",
       "    }\n",
       "\n",
       "    .dataframe tbody tr th {\n",
       "        vertical-align: top;\n",
       "    }\n",
       "\n",
       "    .dataframe thead th {\n",
       "        text-align: right;\n",
       "    }\n",
       "</style>\n",
       "<table border=\"1\" class=\"dataframe\">\n",
       "  <thead>\n",
       "    <tr style=\"text-align: right;\">\n",
       "      <th></th>\n",
       "      <th>attacker</th>\n",
       "      <th>demo</th>\n",
       "      <th>end</th>\n",
       "      <th>match</th>\n",
       "      <th>md5</th>\n",
       "      <th>player</th>\n",
       "      <th>pov_id</th>\n",
       "      <th>spreecount</th>\n",
       "      <th>start</th>\n",
       "    </tr>\n",
       "  </thead>\n",
       "  <tbody>\n",
       "    <tr>\n",
       "      <th>0</th>\n",
       "      <td>4</td>\n",
       "      <td>221055-Fro$t-de_frostbite.dm_60</td>\n",
       "      <td>405200</td>\n",
       "      <td>rtcw_2004.12.07_cb-nc7_bel_vs_fra_groupstage</td>\n",
       "      <td>b9d0918f6ec71fcb5e3756363c75a569</td>\n",
       "      <td>Dav1d_O</td>\n",
       "      <td>12</td>\n",
       "      <td>5</td>\n",
       "      <td>404700</td>\n",
       "    </tr>\n",
       "  </tbody>\n",
       "</table>\n",
       "</div>"
      ],
      "text/plain": [
       "   attacker                             demo     end  \\\n",
       "0         4  221055-Fro$t-de_frostbite.dm_60  405200   \n",
       "\n",
       "                                          match  \\\n",
       "0  rtcw_2004.12.07_cb-nc7_bel_vs_fra_groupstage   \n",
       "\n",
       "                                md5   player  pov_id  spreecount   start  \n",
       "0  b9d0918f6ec71fcb5e3756363c75a569  Dav1d_O      12           5  404700  "
      ]
     },
     "execution_count": 13,
     "metadata": {},
     "output_type": "execute_result"
    }
   ],
   "source": [
    "df_hs = RTCW.get_headshot_sprees(bulletevent_df, demo_df, maxtime_secs = 1, minspree = 5)\n",
    "df_hs"
   ]
  },
  {
   "cell_type": "code",
   "execution_count": 14,
   "metadata": {},
   "outputs": [],
   "source": [
    "reload(RTCW)\n",
    "RTCW.cut_demos(root_path, demos_dct, df_hs, demo_type = 'hs', offset_start = 8, offset_end = 2, transform_to_dm_60 = True, demo_folder_name = demos_folder)\n",
    "RTCW.generate_capture_list(df_hs, demo_type='hs', transform_to_dm_60 = True)"
   ]
  },
  {
   "cell_type": "code",
   "execution_count": null,
   "metadata": {},
   "outputs": [],
   "source": []
  }
 ],
 "metadata": {
  "kernelspec": {
   "display_name": "Python 2",
   "language": "python",
   "name": "python2"
  },
  "language_info": {
   "codemirror_mode": {
    "name": "ipython",
    "version": 2
   },
   "file_extension": ".py",
   "mimetype": "text/x-python",
   "name": "python",
   "nbconvert_exporter": "python",
   "pygments_lexer": "ipython2",
   "version": "2.7.15"
  }
 },
 "nbformat": 4,
 "nbformat_minor": 2
}
