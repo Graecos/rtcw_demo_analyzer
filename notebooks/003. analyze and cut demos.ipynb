{
 "cells": [
  {
   "cell_type": "code",
   "execution_count": 1,
   "metadata": {},
   "outputs": [],
   "source": [
    "import os, sys\n",
    "import pandas as pd\n",
    "import warnings\n",
    "warnings.filterwarnings('ignore')\n",
    "\n",
    "#import the functions\n",
    "module_path = os.path.abspath(os.path.join('../src/'))\n",
    "if module_path not in sys.path:\n",
    "    sys.path.append(module_path)\n",
    "    \n",
    "import rtcw_functions as RTCW\n",
    "reload(RTCW)\n",
    "\n",
    "db_name = 'rtcw_db.db'\n",
    "demos_folder = 'demos'\n",
    "\n",
    "cwd = os.getcwd()\n",
    "demos_path = os.path.join(cwd, '../', demos_folder)\n",
    "\n",
    "exe_name = 'Anders.Gaming.LibTech3.exe'\n",
    "demos_folder = 'demos'\n",
    "root_path = 'C:\\\\Users\\\\Jelle\\\\Documents\\\\GIT\\\\rtcw_demo_analyzer' #for executable we need a direct path"
   ]
  },
  {
   "cell_type": "code",
   "execution_count": 2,
   "metadata": {},
   "outputs": [
    {
     "name": "stdout",
     "output_type": "stream",
     "text": [
      "parsed 100 matches\n",
      "parsed 200 matches\n",
      "parsed 300 matches\n",
      "parsed 400 matches\n",
      "finished parsing all matches!\n"
     ]
    }
   ],
   "source": [
    "#get demos_dct\n",
    "demos_dct = RTCW.make_dictionary(demos_path)"
   ]
  },
  {
   "cell_type": "code",
   "execution_count": 3,
   "metadata": {},
   "outputs": [],
   "source": [
    "#load obituaries in a df\n",
    "import sqlite3_connector\n",
    "reload(sqlite3_connector)\n",
    "db = sqlite3_connector.sqlite3_connector(os.path.join(root_path, db_name))"
   ]
  },
  {
   "cell_type": "code",
   "execution_count": 4,
   "metadata": {},
   "outputs": [
    {
     "name": "stdout",
     "output_type": "stream",
     "text": [
      "obituary table fetched in 0.49 seconds\n",
      "demo table fetched in 0.02 seconds\n",
      "player table fetched in 0.05 seconds\n"
     ]
    }
   ],
   "source": [
    "obituary_df = db.get_table_as_df(table_name= 'obituary')\n",
    "demo_df = db.get_table_as_df(table_name= 'demo')\n",
    "player_df = db.get_table_as_df(table_name= 'player')\n",
    "obituary_df = RTCW.add_match_data(obituary_df, player_df, demos_dct)\n",
    "#obituary_df = obituary_df.loc[obituary_df['League'] == 'qcon02']\n",
    "#obituary_df = obituary_df.loc[obituary_df['Importance'] == 'wb-round1']"
   ]
  },
  {
   "cell_type": "code",
   "execution_count": 5,
   "metadata": {},
   "outputs": [],
   "source": [
    "obituary_df = obituary_df.loc[obituary_df['League'] == 'cb-nc3']"
   ]
  },
  {
   "cell_type": "code",
   "execution_count": 10,
   "metadata": {},
   "outputs": [
    {
     "name": "stdout",
     "output_type": "stream",
     "text": [
      "all done!\n"
     ]
    }
   ],
   "source": [
    "df_spree = RTCW.get_kill_sprees(obituary_df, \n",
    "                                demo_df,\n",
    "                                maxtime_secs = 30, \n",
    "                                include_weapon_filter = None,\n",
    "                                exclude_weapon_filter = None, \n",
    "                                minspree = 6,\n",
    "                                pov_sprees_only = False,\n",
    "                                verbose = True)"
   ]
  },
  {
   "cell_type": "code",
   "execution_count": 11,
   "metadata": {},
   "outputs": [
    {
     "data": {
      "text/html": [
       "<div>\n",
       "<style scoped>\n",
       "    .dataframe tbody tr th:only-of-type {\n",
       "        vertical-align: middle;\n",
       "    }\n",
       "\n",
       "    .dataframe tbody tr th {\n",
       "        vertical-align: top;\n",
       "    }\n",
       "\n",
       "    .dataframe thead th {\n",
       "        text-align: right;\n",
       "    }\n",
       "</style>\n",
       "<table border=\"1\" class=\"dataframe\">\n",
       "  <thead>\n",
       "    <tr style=\"text-align: right;\">\n",
       "      <th></th>\n",
       "      <th>match</th>\n",
       "      <th>demo</th>\n",
       "      <th>player</th>\n",
       "      <th>spreecount</th>\n",
       "      <th>weapons</th>\n",
       "    </tr>\n",
       "  </thead>\n",
       "  <tbody>\n",
       "    <tr>\n",
       "      <th>0</th>\n",
       "      <td>rtcw_2002.11.28_cb-nc3_ned_vs_aut_groupstage</td>\n",
       "      <td>203857-NeonKnightjenl-mp_base.dm_60</td>\n",
       "      <td>Ramzi.nl</td>\n",
       "      <td>6</td>\n",
       "      <td>17-17-5-5-5-17-</td>\n",
       "    </tr>\n",
       "    <tr>\n",
       "      <th>1</th>\n",
       "      <td>rtcw_2002.11.10_cb-nc3_ita_vs_por_qualifiers</td>\n",
       "      <td>demo_04.dm_59</td>\n",
       "      <td>[_Ita-baz_]</td>\n",
       "      <td>6</td>\n",
       "      <td>15-7-7-7-7-5-</td>\n",
       "    </tr>\n",
       "    <tr>\n",
       "      <th>2</th>\n",
       "      <td>rtcw_2002.12.02_cb-nc3_swe_vs_rus_groupstage</td>\n",
       "      <td>demo0023-ape.dm_60</td>\n",
       "      <td>Wtv-clanbase_Ii</td>\n",
       "      <td>6</td>\n",
       "      <td>17-17-17-17-17-17-</td>\n",
       "    </tr>\n",
       "    <tr>\n",
       "      <th>3</th>\n",
       "      <td>rtcw_2003.01.09_cb-nc3_swe_vs_nor_quarter-finals</td>\n",
       "      <td>213228-absolutSw33t!8-mp_beach.dm_60</td>\n",
       "      <td>Pr4eferox.nor</td>\n",
       "      <td>6</td>\n",
       "      <td>17-17-17-17-17-17-</td>\n",
       "    </tr>\n",
       "  </tbody>\n",
       "</table>\n",
       "</div>"
      ],
      "text/plain": [
       "                                              match  \\\n",
       "0      rtcw_2002.11.28_cb-nc3_ned_vs_aut_groupstage   \n",
       "1      rtcw_2002.11.10_cb-nc3_ita_vs_por_qualifiers   \n",
       "2      rtcw_2002.12.02_cb-nc3_swe_vs_rus_groupstage   \n",
       "3  rtcw_2003.01.09_cb-nc3_swe_vs_nor_quarter-finals   \n",
       "\n",
       "                                   demo           player  spreecount  \\\n",
       "0   203857-NeonKnightjenl-mp_base.dm_60         Ramzi.nl           6   \n",
       "1                         demo_04.dm_59      [_Ita-baz_]           6   \n",
       "2                    demo0023-ape.dm_60  Wtv-clanbase_Ii           6   \n",
       "3  213228-absolutSw33t!8-mp_beach.dm_60    Pr4eferox.nor           6   \n",
       "\n",
       "              weapons  \n",
       "0     17-17-5-5-5-17-  \n",
       "1       15-7-7-7-7-5-  \n",
       "2  17-17-17-17-17-17-  \n",
       "3  17-17-17-17-17-17-  "
      ]
     },
     "execution_count": 11,
     "metadata": {},
     "output_type": "execute_result"
    }
   ],
   "source": [
    "df_spree[['match', 'demo', 'player', 'spreecount', 'weapons']]"
   ]
  },
  {
   "cell_type": "code",
   "execution_count": 12,
   "metadata": {},
   "outputs": [],
   "source": [
    "RTCW.cut_demos(root_path, demos_dct, df_spree, offset_start = 8, offset_end = 8, transform_to_dm_60 = True)\n",
    "RTCW.generate_capture_list(df_spree, transform_to_dm_60 = True)"
   ]
  },
  {
   "cell_type": "code",
   "execution_count": null,
   "metadata": {},
   "outputs": [],
   "source": [
    "for demo in df_spree.md5:\n",
    "    for k in demos_dct:\n",
    "        if demo in demos_dct[k][0]:\n",
    "            print k"
   ]
  }
 ],
 "metadata": {
  "kernelspec": {
   "display_name": "Python 2",
   "language": "python",
   "name": "python2"
  },
  "language_info": {
   "codemirror_mode": {
    "name": "ipython",
    "version": 2
   },
   "file_extension": ".py",
   "mimetype": "text/x-python",
   "name": "python",
   "nbconvert_exporter": "python",
   "pygments_lexer": "ipython2",
   "version": "2.7.15"
  }
 },
 "nbformat": 4,
 "nbformat_minor": 2
}
