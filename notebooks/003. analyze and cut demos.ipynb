{
 "cells": [
  {
   "cell_type": "markdown",
   "metadata": {
    "collapsed": true
   },
   "source": [
    "# Part 1: analyze demos"
   ]
  },
  {
   "cell_type": "code",
   "execution_count": 1,
   "metadata": {
    "collapsed": true
   },
   "outputs": [],
   "source": [
    "import os, sys\n",
    "import pandas as pd\n",
    "\n",
    "#import the functions\n",
    "module_path = os.path.abspath(os.path.join('../src/'))\n",
    "if module_path not in sys.path:\n",
    "    sys.path.append(module_path)\n",
    "    \n",
    "import rtcw_functions as RTCW\n",
    "\n",
    "db_name = 'rtcw_db.db'\n",
    "demos_folder = 'demos'\n",
    "\n",
    "cwd = os.getcwd()\n",
    "demos_path = os.path.join(cwd, '../', demos_folder)\n",
    "\n",
    "exe_name = 'Anders.Gaming.LibTech3.exe'\n",
    "demos_folder = 'demos'\n",
    "root_path = 'C:\\\\Users\\\\JelleGrammens\\\\Documents\\\\GIT\\\\rtcw_demo_analyzer' #for executable we need a direct path"
   ]
  },
  {
   "cell_type": "code",
   "execution_count": 2,
   "metadata": {},
   "outputs": [
    {
     "name": "stdout",
     "output_type": "stream",
     "text": [
      "parsed 100 matches\n",
      "parsed 200 matches\n",
      "parsed 300 matches\n",
      "parsed 400 matches\n",
      "finished parsing all matches!\n"
     ]
    }
   ],
   "source": [
    "#get demos_dct\n",
    "demos_dct = RTCW.make_dictionary(demos_path)"
   ]
  },
  {
   "cell_type": "code",
   "execution_count": 3,
   "metadata": {
    "collapsed": true
   },
   "outputs": [],
   "source": [
    "#load obituaries in a df\n",
    "import sqlite3_connector\n",
    "reload(sqlite3_connector)\n",
    "db = sqlite3_connector.sqlite3_connector(os.path.join(root_path, db_name))"
   ]
  },
  {
   "cell_type": "code",
   "execution_count": 4,
   "metadata": {},
   "outputs": [
    {
     "name": "stdout",
     "output_type": "stream",
     "text": [
      "obituary table fetched in 0.38 seconds\n",
      "player table fetched in 0.03 seconds\n"
     ]
    }
   ],
   "source": [
    "obituary_df = db.get_table_as_df(table_name= 'obituary')\n",
    "player_df = db.get_table_as_df(table_name= 'player')\n",
    "obituary_df = RTCW.add_match_data(obituary_df, player_df, demos_dct)"
   ]
  },
  {
   "cell_type": "code",
   "execution_count": 5,
   "metadata": {
    "collapsed": true
   },
   "outputs": [],
   "source": [
    "obituary_df = obituary_df.loc[obituary_df['League'] == 'bob1']"
   ]
  },
  {
   "cell_type": "code",
   "execution_count": 25,
   "metadata": {},
   "outputs": [
    {
     "name": "stdout",
     "output_type": "stream",
     "text": [
      "all done!\n"
     ]
    }
   ],
   "source": [
    "#example, get all 5 man panzerfausts\n",
    "df_spree = RTCW.get_kill_sprees(obituary_df, \n",
    "                                maxtime_secs = 2, \n",
    "                                weapon_filter = ['grenade'], \n",
    "                                minspree = 3,\n",
    "                                verbose = True)"
   ]
  },
  {
   "cell_type": "code",
   "execution_count": 53,
   "metadata": {},
   "outputs": [
    {
     "data": {
      "text/html": [
       "<div>\n",
       "<style>\n",
       "    .dataframe thead tr:only-child th {\n",
       "        text-align: right;\n",
       "    }\n",
       "\n",
       "    .dataframe thead th {\n",
       "        text-align: left;\n",
       "    }\n",
       "\n",
       "    .dataframe tbody tr th {\n",
       "        vertical-align: top;\n",
       "    }\n",
       "</style>\n",
       "<table border=\"1\" class=\"dataframe\">\n",
       "  <thead>\n",
       "    <tr style=\"text-align: right;\">\n",
       "      <th></th>\n",
       "      <th>attacker</th>\n",
       "      <th>demo</th>\n",
       "      <th>end</th>\n",
       "      <th>md5</th>\n",
       "      <th>player</th>\n",
       "      <th>spreecount</th>\n",
       "      <th>start</th>\n",
       "    </tr>\n",
       "  </thead>\n",
       "  <tbody>\n",
       "    <tr>\n",
       "      <th>0</th>\n",
       "      <td>8</td>\n",
       "      <td>BOB_Empire_vs_Krieg_02_28_2002.dm_60</td>\n",
       "      <td>42084600</td>\n",
       "      <td>204e36f690b74c4d0c2d9ed4d6e10756</td>\n",
       "      <td>III-vort3x</td>\n",
       "      <td>3</td>\n",
       "      <td>42084600</td>\n",
       "    </tr>\n",
       "    <tr>\n",
       "      <th>1</th>\n",
       "      <td>3</td>\n",
       "      <td>Avenger.dm_60</td>\n",
       "      <td>48416600</td>\n",
       "      <td>1043519499f3d08ef9e10cfd11e9f3fe</td>\n",
       "      <td>-wm-IdiotSavant-</td>\n",
       "      <td>3</td>\n",
       "      <td>48416600</td>\n",
       "    </tr>\n",
       "    <tr>\n",
       "      <th>2</th>\n",
       "      <td>14</td>\n",
       "      <td>dsvsdrmatch.dm_60</td>\n",
       "      <td>14323450</td>\n",
       "      <td>edb8efea82067ecff1b07380b0fe1de2</td>\n",
       "      <td>D|S-sh4ms</td>\n",
       "      <td>3</td>\n",
       "      <td>14323450</td>\n",
       "    </tr>\n",
       "    <tr>\n",
       "      <th>3</th>\n",
       "      <td>4</td>\n",
       "      <td>1012528474Flipside79UVWvs86.dm_60</td>\n",
       "      <td>37655650</td>\n",
       "      <td>70878f3907cae6cfcc70c5d8cdd8c398</td>\n",
       "      <td>[Ars]Kaeto</td>\n",
       "      <td>3</td>\n",
       "      <td>37655650</td>\n",
       "    </tr>\n",
       "    <tr>\n",
       "      <th>4</th>\n",
       "      <td>9</td>\n",
       "      <td>BOB_Empire_vs_Doctors_03_07_2002.dm_60</td>\n",
       "      <td>42025300</td>\n",
       "      <td>92a5e15597eb8276b372f1276c757197</td>\n",
       "      <td>III-Fredo</td>\n",
       "      <td>3</td>\n",
       "      <td>42025300</td>\n",
       "    </tr>\n",
       "  </tbody>\n",
       "</table>\n",
       "</div>"
      ],
      "text/plain": [
       "   attacker                                    demo       end  \\\n",
       "0         8    BOB_Empire_vs_Krieg_02_28_2002.dm_60  42084600   \n",
       "1         3                           Avenger.dm_60  48416600   \n",
       "2        14                       dsvsdrmatch.dm_60  14323450   \n",
       "3         4       1012528474Flipside79UVWvs86.dm_60  37655650   \n",
       "4         9  BOB_Empire_vs_Doctors_03_07_2002.dm_60  42025300   \n",
       "\n",
       "                                md5            player  spreecount     start  \n",
       "0  204e36f690b74c4d0c2d9ed4d6e10756        III-vort3x           3  42084600  \n",
       "1  1043519499f3d08ef9e10cfd11e9f3fe  -wm-IdiotSavant-           3  48416600  \n",
       "2  edb8efea82067ecff1b07380b0fe1de2         D|S-sh4ms           3  14323450  \n",
       "3  70878f3907cae6cfcc70c5d8cdd8c398        [Ars]Kaeto           3  37655650  \n",
       "4  92a5e15597eb8276b372f1276c757197         III-Fredo           3  42025300  "
      ]
     },
     "execution_count": 53,
     "metadata": {},
     "output_type": "execute_result"
    }
   ],
   "source": [
    "df_spree"
   ]
  },
  {
   "cell_type": "code",
   "execution_count": 62,
   "metadata": {
    "collapsed": true
   },
   "outputs": [],
   "source": [
    "RTCW.cut_demos(root_path, demos_dct, df_spree, offset_start = 10, offset_end = 10)"
   ]
  },
  {
   "cell_type": "code",
   "execution_count": null,
   "metadata": {
    "scrolled": true
   },
   "outputs": [],
   "source": [
    "for demo in df_spree.md5:\n",
    "    for k in demos_dct:\n",
    "        if demo in demos_dct[k][0]:\n",
    "            print k"
   ]
  },
  {
   "cell_type": "markdown",
   "metadata": {},
   "source": [
    "# Part 2: cut demos"
   ]
  },
  {
   "cell_type": "code",
   "execution_count": null,
   "metadata": {
    "collapsed": true
   },
   "outputs": [],
   "source": []
  },
  {
   "cell_type": "code",
   "execution_count": null,
   "metadata": {
    "collapsed": true
   },
   "outputs": [],
   "source": [
    "RTCW.cut_demos(root_path, demos_dct, df_spree, offset_start = 5, offset_end = 5)"
   ]
  },
  {
   "cell_type": "code",
   "execution_count": null,
   "metadata": {
    "collapsed": true
   },
   "outputs": [],
   "source": [
    "def locate_demo_path(demos_dct, spree, root_path):\n",
    "    '''\n",
    "    helper function that outputs the path to the demo that we want to cut\n",
    "    '''\n",
    "    for k in demos_dct:\n",
    "        if spree.md5 in demos_dct[k][0]:\n",
    "            match_folder = k\n",
    "            demo_loc = [i for i in range(len(demos_dct[k][0])) if demos_dct[k][0][i]==spree.md5]\n",
    "            demo_name = demos_dct[k][1][demo_loc[0]]\n",
    "            \n",
    "            return match_folder, demo_name"
   ]
  },
  {
   "cell_type": "code",
   "execution_count": null,
   "metadata": {
    "collapsed": true
   },
   "outputs": [],
   "source": [
    "def cutter_exe_cmd(root_path, match_folder, demo_name, start_time, end_time, \n",
    "                   demo_folder_name = 'demos', output_folder = 'output_spree_demos', cut_type = 1):\n",
    "    '''\n",
    "    helper function to create string with demo_path and parameters to input in anders libtech 3 api\n",
    "    parameters: \n",
    "    - demo_path: full path to demo\n",
    "    - parameters_dct: a dictionary with all the parameters necessary\n",
    "    '''\n",
    "    demo_path = os.path.join(root_path, demo_folder_name, match_folder, demo_name)\n",
    "    output_path = os.path.join(root_path, output_folder, demo_name)\n",
    "    \n",
    "    s = 'cut ' + demo_path + ' '\n",
    "    s += output_path + ' '\n",
    "    s += str(start_time) + ' '\n",
    "    s += str(end_time) + ' '\n",
    "    s += str(cut_type) + ' 0' # plus the zero at the end or the api will crash\n",
    "\n",
    "    return s"
   ]
  },
  {
   "cell_type": "code",
   "execution_count": null,
   "metadata": {
    "collapsed": true
   },
   "outputs": [],
   "source": [
    "def cut_demos(root_path, demos_dct, df_spree, exe_name, offset_start = 5000, offset_end = 5000):\n",
    "\n",
    "    for row in range(len(df_spree)):\n",
    "\n",
    "        spree = df_spree.loc[row]\n",
    "        match_folder, demo_name = locate_demo_path(demos_dct, spree, root_path)\n",
    "\n",
    "        start_time = spree.start - offset_start\n",
    "        end_time = spree.end + offset_end\n",
    "\n",
    "        parameters = cutter_exe_cmd(root_path, match_folder, demo_name, start_time, end_time, \n",
    "                                    demo_folder_name = 'demos', output_folder = 'output_spree_demos', cut_type = 1)\n",
    "\n",
    "        os.system(exe_path + ' ' + parameters)"
   ]
  },
  {
   "cell_type": "markdown",
   "metadata": {},
   "source": [
    "# Part 3 Create capture list for DemoViewer"
   ]
  },
  {
   "cell_type": "raw",
   "metadata": {},
   "source": [
    "<?xml version=\"1.0\" encoding=\"UTF-8\" standalone=\"no\"?><captureList>\n",
    "<capture><id>-1</id><demoPath>220526-M'limtok!-mp_base.dm_60</demoPath><startFrame>110511750</startFrame><stopFrame>110511750</stopFrame><localOffset>0</localOffset><selected>Yes</selected><playerPov>8</playerPov></capture>\n",
    "<capture><id>-1</id><demoPath>165646-4K7Zommy-mp_beach.dm_60</demoPath><startFrame>5549350</startFrame><stopFrame>5549350</stopFrame><localOffset>0</localOffset><selected>Yes</selected><playerPov>9</playerPov></capture>\n",
    "</captureList>"
   ]
  },
  {
   "cell_type": "code",
   "execution_count": null,
   "metadata": {
    "collapsed": true
   },
   "outputs": [],
   "source": [
    "def temp_to_60(x):\n",
    "    x = x[:-2] + '60'\n",
    "    return x\n",
    "\n",
    "df_spree['demo'] = df_spree['demo'].apply(lambda x: temp_to_60(x))"
   ]
  },
  {
   "cell_type": "code",
   "execution_count": 46,
   "metadata": {},
   "outputs": [
    {
     "data": {
      "text/html": [
       "<div>\n",
       "<style>\n",
       "    .dataframe thead tr:only-child th {\n",
       "        text-align: right;\n",
       "    }\n",
       "\n",
       "    .dataframe thead th {\n",
       "        text-align: left;\n",
       "    }\n",
       "\n",
       "    .dataframe tbody tr th {\n",
       "        vertical-align: top;\n",
       "    }\n",
       "</style>\n",
       "<table border=\"1\" class=\"dataframe\">\n",
       "  <thead>\n",
       "    <tr style=\"text-align: right;\">\n",
       "      <th></th>\n",
       "      <th>attacker</th>\n",
       "      <th>demo</th>\n",
       "      <th>end</th>\n",
       "      <th>md5</th>\n",
       "      <th>player</th>\n",
       "      <th>spreecount</th>\n",
       "      <th>start</th>\n",
       "    </tr>\n",
       "  </thead>\n",
       "  <tbody>\n",
       "    <tr>\n",
       "      <th>0</th>\n",
       "      <td>8</td>\n",
       "      <td>BOB_Empire_vs_Krieg_02_28_2002.dm_60</td>\n",
       "      <td>42084600</td>\n",
       "      <td>204e36f690b74c4d0c2d9ed4d6e10756</td>\n",
       "      <td>III-vort3x</td>\n",
       "      <td>3</td>\n",
       "      <td>42084600</td>\n",
       "    </tr>\n",
       "    <tr>\n",
       "      <th>1</th>\n",
       "      <td>3</td>\n",
       "      <td>Avenger.dm_60</td>\n",
       "      <td>48416600</td>\n",
       "      <td>1043519499f3d08ef9e10cfd11e9f3fe</td>\n",
       "      <td>-wm-IdiotSavant-</td>\n",
       "      <td>3</td>\n",
       "      <td>48416600</td>\n",
       "    </tr>\n",
       "    <tr>\n",
       "      <th>2</th>\n",
       "      <td>14</td>\n",
       "      <td>dsvsdrmatch.dm_60</td>\n",
       "      <td>14323450</td>\n",
       "      <td>edb8efea82067ecff1b07380b0fe1de2</td>\n",
       "      <td>D|S-sh4ms</td>\n",
       "      <td>3</td>\n",
       "      <td>14323450</td>\n",
       "    </tr>\n",
       "    <tr>\n",
       "      <th>3</th>\n",
       "      <td>4</td>\n",
       "      <td>1012528474Flipside79UVWvs86.dm_60</td>\n",
       "      <td>37655650</td>\n",
       "      <td>70878f3907cae6cfcc70c5d8cdd8c398</td>\n",
       "      <td>[Ars]Kaeto</td>\n",
       "      <td>3</td>\n",
       "      <td>37655650</td>\n",
       "    </tr>\n",
       "    <tr>\n",
       "      <th>4</th>\n",
       "      <td>9</td>\n",
       "      <td>BOB_Empire_vs_Doctors_03_07_2002.dm_60</td>\n",
       "      <td>42025300</td>\n",
       "      <td>92a5e15597eb8276b372f1276c757197</td>\n",
       "      <td>III-Fredo</td>\n",
       "      <td>3</td>\n",
       "      <td>42025300</td>\n",
       "    </tr>\n",
       "  </tbody>\n",
       "</table>\n",
       "</div>"
      ],
      "text/plain": [
       "   attacker                                    demo       end  \\\n",
       "0         8    BOB_Empire_vs_Krieg_02_28_2002.dm_60  42084600   \n",
       "1         3                           Avenger.dm_60  48416600   \n",
       "2        14                       dsvsdrmatch.dm_60  14323450   \n",
       "3         4       1012528474Flipside79UVWvs86.dm_60  37655650   \n",
       "4         9  BOB_Empire_vs_Doctors_03_07_2002.dm_60  42025300   \n",
       "\n",
       "                                md5            player  spreecount     start  \n",
       "0  204e36f690b74c4d0c2d9ed4d6e10756        III-vort3x           3  42084600  \n",
       "1  1043519499f3d08ef9e10cfd11e9f3fe  -wm-IdiotSavant-           3  48416600  \n",
       "2  edb8efea82067ecff1b07380b0fe1de2         D|S-sh4ms           3  14323450  \n",
       "3  70878f3907cae6cfcc70c5d8cdd8c398        [Ars]Kaeto           3  37655650  \n",
       "4  92a5e15597eb8276b372f1276c757197         III-Fredo           3  42025300  "
      ]
     },
     "execution_count": 46,
     "metadata": {},
     "output_type": "execute_result"
    }
   ],
   "source": [
    "df_spree"
   ]
  },
  {
   "cell_type": "code",
   "execution_count": 67,
   "metadata": {},
   "outputs": [
    {
     "name": "stdout",
     "output_type": "stream",
     "text": [
      "<CaptureList>\n",
      "  <capture>\n",
      "    <id>-1</id>\n",
      "    <demoPath>BOB_Empire_vs_Krieg_02_28_2002.dm_60</demoPath>\n",
      "    <startFrame>42034600</startFrame>\n",
      "    <stopFrame>42134600</stopFrame>\n",
      "    <localOffset>0</localOffset>\n",
      "    <selected>Yes</selected>\n",
      "    <playerPov>8</playerPov>\n",
      "    <config>follow8.cfg</config>\n",
      "  </capture>\n",
      "  <capture>\n",
      "    <id>-1</id>\n",
      "    <demoPath>Avenger.dm_60</demoPath>\n",
      "    <startFrame>48366600</startFrame>\n",
      "    <stopFrame>48466600</stopFrame>\n",
      "    <localOffset>0</localOffset>\n",
      "    <selected>Yes</selected>\n",
      "    <playerPov>3</playerPov>\n",
      "    <config>follow3.cfg</config>\n",
      "  </capture>\n",
      "  <capture>\n",
      "    <id>-1</id>\n",
      "    <demoPath>dsvsdrmatch.dm_60</demoPath>\n",
      "    <startFrame>14273450</startFrame>\n",
      "    <stopFrame>14373450</stopFrame>\n",
      "    <localOffset>0</localOffset>\n",
      "    <selected>Yes</selected>\n",
      "    <playerPov>14</playerPov>\n",
      "    <config>follow14.cfg</config>\n",
      "  </capture>\n",
      "  <capture>\n",
      "    <id>-1</id>\n",
      "    <demoPath>1012528474Flipside79UVWvs86.dm_60</demoPath>\n",
      "    <startFrame>37605650</startFrame>\n",
      "    <stopFrame>37705650</stopFrame>\n",
      "    <localOffset>0</localOffset>\n",
      "    <selected>Yes</selected>\n",
      "    <playerPov>4</playerPov>\n",
      "    <config>follow4.cfg</config>\n",
      "  </capture>\n",
      "  <capture>\n",
      "    <id>-1</id>\n",
      "    <demoPath>BOB_Empire_vs_Doctors_03_07_2002.dm_60</demoPath>\n",
      "    <startFrame>41975300</startFrame>\n",
      "    <stopFrame>42075300</stopFrame>\n",
      "    <localOffset>0</localOffset>\n",
      "    <selected>Yes</selected>\n",
      "    <playerPov>9</playerPov>\n",
      "    <config>follow9.cfg</config>\n",
      "  </capture>\n",
      "</CaptureList>\n",
      "\n"
     ]
    }
   ],
   "source": [
    "from lxml import etree\n",
    "\n",
    "captureList = etree.Element('CaptureList')\n",
    "\n",
    "for row in range(len(df_spree)):\n",
    "    spree = df_spree.loc[row]\n",
    "    capture = etree.Element('capture')\n",
    "    id = etree.Element('id')\n",
    "    demoPath = etree.Element('demoPath')\n",
    "    startFrame = etree.Element('startFrame')\n",
    "    stopFrame = etree.Element('stopFrame')\n",
    "    localOffset = etree.Element('localOffset')\n",
    "    selected = etree.Element('selected')\n",
    "    playerPov = etree.Element('playerPov')\n",
    "    config = etree.Element('config')\n",
    "\n",
    "    id.text = '-1'\n",
    "    selected.text = 'Yes'\n",
    "    localOffset.text = '0'\n",
    "    demoPath.text = spree.demo\n",
    "    startFrame.text = str(spree.start - 50000)\n",
    "    stopFrame.text = str(spree.end + 50000)\n",
    "    playerPov.text = str(spree.attacker)\n",
    "    config.text = 'follow' + str(spree.attacker) + '.cfg'\n",
    "\n",
    "    capture.append(id)\n",
    "    capture.append(demoPath)\n",
    "    capture.append(startFrame)\n",
    "    capture.append(stopFrame)\n",
    "    capture.append(localOffset)\n",
    "    capture.append(selected)\n",
    "    capture.append(playerPov)\n",
    "    capture.append(config)\n",
    "\n",
    "    captureList.append(capture)\n",
    "\n",
    "# pretty string\n",
    "s = etree.tostring(captureList, pretty_print=True)\n",
    "print s"
   ]
  },
  {
   "cell_type": "code",
   "execution_count": 68,
   "metadata": {},
   "outputs": [],
   "source": [
    "tree = etree.ElementTree(captureList)\n",
    "tree.write('output.xml', pretty_print=True, xml_declaration=True,   encoding=\"utf-8\")"
   ]
  },
  {
   "cell_type": "code",
   "execution_count": null,
   "metadata": {
    "collapsed": true
   },
   "outputs": [],
   "source": []
  }
 ],
 "metadata": {
  "kernelspec": {
   "display_name": "Python 2",
   "language": "python",
   "name": "python2"
  },
  "language_info": {
   "codemirror_mode": {
    "name": "ipython",
    "version": 2
   },
   "file_extension": ".py",
   "mimetype": "text/x-python",
   "name": "python",
   "nbconvert_exporter": "python",
   "pygments_lexer": "ipython2",
   "version": "2.7.14"
  }
 },
 "nbformat": 4,
 "nbformat_minor": 2
}
