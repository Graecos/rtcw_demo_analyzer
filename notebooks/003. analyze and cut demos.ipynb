{
 "cells": [
  {
   "cell_type": "code",
   "execution_count": 23,
   "metadata": {
    "collapsed": true
   },
   "outputs": [],
   "source": [
    "import os, sys\n",
    "import sqlite3\n",
    "import pandas as pd\n",
    "\n",
    "#import the functions\n",
    "module_path = os.path.abspath(os.path.join('../src/'))\n",
    "if module_path not in sys.path:\n",
    "    sys.path.append(module_path)\n",
    "\n",
    "db_name = 'rtcw_db.db'\n",
    "demos_folder = 'demos'\n",
    "\n",
    "cwd = os.getcwd()\n",
    "root_path = os.path.join(cwd, '../')\n",
    "demos_path = os.path.join(cwd, '../', demos_folder)\n"
   ]
  },
  {
   "cell_type": "code",
   "execution_count": 24,
   "metadata": {},
   "outputs": [
    {
     "name": "stdout",
     "output_type": "stream",
     "text": [
      "parsed 100 demos\n",
      "parsed 200 demos\n",
      "parsed 300 demos\n",
      "parsed 400 demos\n",
      "finished parsing all demos!\n"
     ]
    }
   ],
   "source": [
    "#get demos_dct\n",
    "import rtcw_functions as RTCW\n",
    "demos_dct = RTCW.make_dictionary(demos_path)"
   ]
  },
  {
   "cell_type": "code",
   "execution_count": 10,
   "metadata": {},
   "outputs": [],
   "source": [
    "import sqlite3_connector\n",
    "reload(sqlite3_connector)\n",
    "db = sqlite3_connector.sqlite3_connector(os.path.join(root_path, db_name))"
   ]
  },
  {
   "cell_type": "code",
   "execution_count": 11,
   "metadata": {},
   "outputs": [
    {
     "data": {
      "text/plain": [
       "array([u'demo', u'sqlite_sequence', u'chatmessage', u'obituary',\n",
       "       u'bulletevent', u'player', u'roundstats'], dtype=object)"
      ]
     },
     "execution_count": 11,
     "metadata": {},
     "output_type": "execute_result"
    }
   ],
   "source": [
    "db.get_table_names()"
   ]
  },
  {
   "cell_type": "code",
   "execution_count": 14,
   "metadata": {},
   "outputs": [
    {
     "name": "stdout",
     "output_type": "stream",
     "text": [
      "obituary table fetched in 0.33 seconds\n"
     ]
    }
   ],
   "source": [
    "obituary_df = db.get_table_as_df(table_name= 'obituary')"
   ]
  },
  {
   "cell_type": "code",
   "execution_count": 22,
   "metadata": {},
   "outputs": [
    {
     "data": {
      "text/plain": [
       "array([u'[DSB]Swimding was killed by f|murasame',\n",
       "       u\"f|murasame was exploded by f|leethal's grenade\",\n",
       "       u'f|valdez was killed by f|z0rr0',\n",
       "       u'f|z0rr0 was killed by [DSB]SnipeTX',\n",
       "       u\"[DSB]SnotRag was exploded by f|d@n!el's grenade\"], dtype=object)"
      ]
     },
     "execution_count": 22,
     "metadata": {},
     "output_type": "execute_result"
    }
   ],
   "source": [
    "obituary_df.szMessage[0:5].values"
   ]
  },
  {
   "cell_type": "code",
   "execution_count": null,
   "metadata": {
    "collapsed": true
   },
   "outputs": [],
   "source": []
  }
 ],
 "metadata": {
  "kernelspec": {
   "display_name": "Python 2",
   "language": "python",
   "name": "python2"
  },
  "language_info": {
   "codemirror_mode": {
    "name": "ipython",
    "version": 2
   },
   "file_extension": ".py",
   "mimetype": "text/x-python",
   "name": "python",
   "nbconvert_exporter": "python",
   "pygments_lexer": "ipython2",
   "version": "2.7.14"
  }
 },
 "nbformat": 4,
 "nbformat_minor": 2
}
