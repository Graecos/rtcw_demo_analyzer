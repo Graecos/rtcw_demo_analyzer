{
 "cells": [
  {
   "cell_type": "code",
   "execution_count": 1,
   "metadata": {},
   "outputs": [],
   "source": [
    "#get all matches that are a .zip file or a .rar file\n",
    "import os, sys, shutil\n",
    "vdub_folder = 'C:\\\\Users\\\\Jelle\\\\Documents\\\\VirtualDub-1.10.4'\n",
    "screenshots_folder = 'C:\\\\Users\\\\Jelle\\\\Documents\\\\RTCW\\\\1.41bclean\\\\wolfcam-rtcw\\\\screenshots'\n",
    "output_folder = 'C:\\\\Users\\\\Jelle\\\\Documents\\\\movie\\\\captures'\n",
    "vdub_exe = 'vdub.exe'\n",
    "vdub_configfile = 'history.vdscript'\n",
    "\n",
    "#import the functions\n",
    "module_path = os.path.abspath(os.path.join('../src/'))\n",
    "if module_path not in sys.path:\n",
    "    sys.path.append(module_path)\n",
    "    \n",
    "import rtcw_functions as RTCW"
   ]
  },
  {
   "cell_type": "code",
   "execution_count": 2,
   "metadata": {},
   "outputs": [
    {
     "name": "stdout",
     "output_type": "stream",
     "text": [
      "rendering demo-qcon2k3finals_Gmporamzi_Amd_7-7-7-4970950.dm_60\n",
      "rendering demo-qcon2k3finals_Gmpozaf'_Amd_17-16-16-4959150.dm_60\n",
      "rendering demo-qcon2k3finals_Gmpozaf'_Amd_7-7-7-3274900.dm_60\n",
      "rendering demo-qcon2k3finals_In-civ_14-14-21-3850350.dm_60\n",
      "rendering demo-qcon2k3finals_In-civ_21-21-21-2420100.dm_60\n",
      "rendering demo-qcon2k3finals_In-spear_7-7-16-2392700.dm_60\n",
      "rendering demo-qcon2k3finals_In-wizz_17-17-49-17-3707450.dm_60\n",
      "all done!\n"
     ]
    }
   ],
   "source": [
    "#tga2avi\n",
    "RTCW.recordings_to_avi(vdub_folder, \n",
    "                       screenshots_folder, \n",
    "                       output_folder, \n",
    "                       vdub_exe, \n",
    "                       vdub_configfile, \n",
    "                       remove_screenshots = True)"
   ]
  },
  {
   "cell_type": "code",
   "execution_count": null,
   "metadata": {},
   "outputs": [],
   "source": []
  }
 ],
 "metadata": {
  "kernelspec": {
   "display_name": "Python 2",
   "language": "python",
   "name": "python2"
  },
  "language_info": {
   "codemirror_mode": {
    "name": "ipython",
    "version": 2
   },
   "file_extension": ".py",
   "mimetype": "text/x-python",
   "name": "python",
   "nbconvert_exporter": "python",
   "pygments_lexer": "ipython2",
   "version": "2.7.15"
  }
 },
 "nbformat": 4,
 "nbformat_minor": 2
}
