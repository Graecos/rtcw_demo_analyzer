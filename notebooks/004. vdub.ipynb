{
 "cells": [
  {
   "cell_type": "code",
   "execution_count": 1,
   "metadata": {},
   "outputs": [],
   "source": [
    "#get all matches that are a .zip file or a .rar file\n",
    "import os, sys, shutil\n",
    "vdub_folder = 'C:\\\\Users\\\\Jelle\\\\Documents\\\\VirtualDub-1.10.4'\n",
    "screenshots_folder = 'C:\\\\Users\\\\Jelle\\\\Documents\\\\RTCW\\\\1.41bclean\\\\wolfcam-rtcw\\\\screenshots'\n",
    "output_folder = 'C:\\\\Users\\\\Jelle\\\\Documents\\\\movie\\\\captures'\n",
    "vdub_exe = 'vdub.exe'\n",
    "vdub_configfile = 'history.vdscript'\n",
    "\n",
    "#import the functions\n",
    "module_path = os.path.abspath(os.path.join('../src/'))\n",
    "if module_path not in sys.path:\n",
    "    sys.path.append(module_path)\n",
    "    \n",
    "import rtcw_functions as RTCW"
   ]
  },
  {
   "cell_type": "code",
   "execution_count": 2,
   "metadata": {},
   "outputs": [
    {
     "name": "stdout",
     "output_type": "stream",
     "text": [
      "rendering 001953-Kevin-te_escape2_Kevin_5-5-17-6959250.dm_60\n",
      "rendering 002625-Kevin-te_escape2_Kevin_18-18-16-7695250.dm_60\n",
      "rendering 193641-oKevin-mp_ice_O_Kevin_17-46-17-46-20533800.dm_60\n",
      "rendering 212040-oKevin-te_frostbite_O_Kevin_49-46-49-46-46-26672050.dm_60\n",
      "rendering 213553-oKevin-te_frostbite_O_Kevin_46-17-17-27341000.dm_60\n",
      "rendering 213553-oKevin-te_frostbite_O_Kevin_46-46-46-27209550.dm_60\n",
      "rendering 213553-oKevin-te_frostbite_O_Kevin_5-49-17-27372850.dm_60\n",
      "rendering 213553-oKevin-te_frostbite_O_Kevin_5-5-17-27432450.dm_60\n",
      "rendering 220856-oKevin-mp_village_O_Kevin_17-17-17-29289100.dm_60\n",
      "rendering 222431-oKevin-mp_village_O_Kevin_17-17-5-30434550.dm_60\n",
      "rendering 222431-oKevin-mp_village_O_Kevin_17-17-5-31183350.dm_60\n",
      "rendering 222431-oKevin-mp_village_O_Kevin_5-17-46-46-46-30153500.dm_60\n",
      "rendering 225228-oKevin-mp_beach_O_Kevin_17-17-49-260700.dm_60\n",
      "rendering 225228-oKevin-mp_beach_O_Kevin_5-17-17-15-292100.dm_60\n",
      "all done!\n"
     ]
    }
   ],
   "source": [
    "#tga2avi\n",
    "RTCW.recordings_to_avi(vdub_folder, \n",
    "                       screenshots_folder, \n",
    "                       output_folder, \n",
    "                       vdub_exe, \n",
    "                       vdub_configfile, \n",
    "                       remove_screenshots = True)"
   ]
  },
  {
   "cell_type": "code",
   "execution_count": null,
   "metadata": {},
   "outputs": [],
   "source": []
  }
 ],
 "metadata": {
  "kernelspec": {
   "display_name": "Python 2",
   "language": "python",
   "name": "python2"
  },
  "language_info": {
   "codemirror_mode": {
    "name": "ipython",
    "version": 2
   },
   "file_extension": ".py",
   "mimetype": "text/x-python",
   "name": "python",
   "nbconvert_exporter": "python",
   "pygments_lexer": "ipython2",
   "version": "2.7.15"
  }
 },
 "nbformat": 4,
 "nbformat_minor": 2
}
