{
 "cells": [
  {
   "cell_type": "code",
   "execution_count": 1,
   "metadata": {
    "collapsed": true
   },
   "outputs": [],
   "source": [
    "#get all matches that are a .zip file or a .rar file\n",
    "import os, sys, shutil\n",
    "vdub_folder = 'C:\\\\Users\\\\Jelle\\\\Documents\\\\VirtualDub-1.10.4'\n",
    "screenshots_folder = 'C:\\\\Users\\\\Jelle\\\\Documents\\\\RTCW\\\\1.41bclean\\\\wolfcam-rtcw\\\\screenshots'\n",
    "output_folder = 'C:\\\\Users\\\\Jelle\\\\Documents\\\\movie\\\\captures'\n",
    "vdub_exe = 'vdub.exe'\n",
    "vdub_configfile = 'history.vdscript'\n",
    "\n",
    "#import the functions\n",
    "module_path = os.path.abspath(os.path.join('../src/'))\n",
    "if module_path not in sys.path:\n",
    "    sys.path.append(module_path)\n",
    "    \n",
    "import rtcw_functions as RTCW"
   ]
  },
  {
   "cell_type": "code",
   "execution_count": 2,
   "metadata": {},
   "outputs": [
    {
     "name": "stdout",
     "output_type": "stream",
     "text": [
      "rendering 1_Ocrcaes_D-link_21-21-21-21-32105300.dm_60\n",
      "rendering 2003-08-15_095210-4K7HaRdNuT-mp_beach_4khardnut_5-5-5-4938000.dm_60\n",
      "rendering 2003-08-15_095418-4K7Explicit-mp_beach_4kexplicit_21-21-21-4729350.dm_60\n",
      "rendering 2003-08-15_101141-4K7Explicit-mp_beach_4kexplicit_21-21-21-6063700.dm_60\n",
      "rendering 2003-08-15_101431-4K7Yilider-mp_beach_4kyilider_17-17-17-17-15-6121600.dm_60\n",
      "rendering 2003-08-15_102523-4K7Yilider-mp_beach_4kyilider_17-17-17-17-17-15-6498200.dm_60\n",
      "rendering 2003-08-15_130327-GMPORAMZIAMD-mp_beach_Gmporamzi_Amd_5-5-5-15970700.dm_60\n",
      "rendering 2003-08-15_130929-cKinmojo-mp_beach_Ck_Inmojo_17-17-17-15-16953900.dm_60\n",
      "rendering 2003-08-15_145630-wSwlaws_69-mp_beach_Wswlaws_69_5-5-5-17-17-22907100.dm_60\n",
      "rendering 2003-08-15_171752--a-nail-mp_beach_-a-nail_7-7-7-7-31892550.dm_60\n",
      "rendering 2003-08-15_172007--a-hollywood-mp_beach_-a-hollywood_7-7-7-31703550.dm_60\n",
      "rendering 2003-08-15_172007--a-hollywood-mp_beach_-a-hollywood_7-7-7-31782700.dm_60\n",
      "rendering 2003-08-15_172453-[TAF]Warmach1ne-mp_beach_[taf]warmach1ne_17-17-17-17-31645000.dm_60\n",
      "rendering 2003-08-15_195345-4K7Explicit-mp_beach_4kexplicit_21-21-21-21-21-41023450.dm_60\n",
      "rendering 2003-08-15_195345-4K7Explicit-mp_beach_4kexplicit_21-21-21-21-41023450.dm_60\n",
      "rendering 2003-08-15_214152--!cF-Xp!Re-mp_beach_-!cf-xp!re_6-7-7-7-7-47205950.dm_60\n",
      "rendering 2003-08-15_221506-GMPOZAF'AMD-mp_beach_Gmpozaf'_Amd_7-7-7-7-49312050.dm_60\n",
      "rendering 2003-08-15_222022-cKshaftian-mp_beach_Beavermana]narf[_17-17-5-17-6436600.dm_60\n",
      "rendering 2003-08-15_223238-cKse7en-mp_beach_Ck_Se7en_5-5-5-5-5-5-7032600.dm_60\n",
      "rendering 2003-08-15_223328-cKshaftian-mp_beach_Lynch]narf[_7-7-7-7-7928250.dm_60\n",
      "rendering 2003-08-15_224624-cKApoculos-mp_beach_Ck_Apoculos_17-17-17-17-15-7105050.dm_60\n",
      "rendering 4_[taf]wyt!_5-5-18-34580050.dm_60\n",
      "all done!\n"
     ]
    }
   ],
   "source": [
    "#tga2avi\n",
    "RTCW.recordings_to_avi(vdub_folder, \n",
    "                       screenshots_folder, \n",
    "                       output_folder, \n",
    "                       vdub_exe, \n",
    "                       vdub_configfile, \n",
    "                       remove_screenshots = True)"
   ]
  },
  {
   "cell_type": "code",
   "execution_count": null,
   "metadata": {
    "collapsed": true
   },
   "outputs": [],
   "source": []
  }
 ],
 "metadata": {
  "kernelspec": {
   "display_name": "Python 2",
   "language": "python",
   "name": "python2"
  },
  "language_info": {
   "codemirror_mode": {
    "name": "ipython",
    "version": 2
   },
   "file_extension": ".py",
   "mimetype": "text/x-python",
   "name": "python",
   "nbconvert_exporter": "python",
   "pygments_lexer": "ipython2",
   "version": "2.7.14"
  }
 },
 "nbformat": 4,
 "nbformat_minor": 2
}
