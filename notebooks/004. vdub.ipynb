{
 "cells": [
  {
   "cell_type": "code",
   "execution_count": 1,
   "metadata": {
    "collapsed": true
   },
   "outputs": [],
   "source": [
    "#get all matches that are a .zip file or a .rar file\n",
    "import os, sys, shutil\n",
    "vdub_folder = 'C:\\\\Users\\\\Jelle\\\\Documents\\\\VirtualDub-1.10.4'\n",
    "screenshots_folder = 'C:\\\\Users\\\\Jelle\\\\Documents\\\\RTCW\\\\1.41bclean\\\\wolfcam-rtcw\\\\screenshots'\n",
    "output_folder = 'C:\\\\Users\\\\Jelle\\\\Documents\\\\movie\\\\captures'\n",
    "vdub_exe = 'vdub.exe'\n",
    "vdub_configfile = 'history.vdscript'\n",
    "\n",
    "#import the functions\n",
    "module_path = os.path.abspath(os.path.join('../src/'))\n",
    "if module_path not in sys.path:\n",
    "    sys.path.append(module_path)\n",
    "    \n",
    "import rtcw_functions as RTCW"
   ]
  },
  {
   "cell_type": "code",
   "execution_count": 2,
   "metadata": {},
   "outputs": [
    {
     "name": "stdout",
     "output_type": "stream",
     "text": [
      "rendering 010045-HaVoC-mp_ice_.luckyb_7-7-7-3547650.dm_60\n",
      "rendering 013812-HaVoC-mp_ice_.luckyb_7-7-7-6024800.dm_60\n",
      "rendering 015838--!cF-K!llaS!n-mp_ice_-!cf-nightwolve_17-17-17-7190250.dm_60\n",
      "rendering 015838--!cF-K!llaS!n-mp_ice_.madbone_6-7-7-7145450.dm_60\n",
      "rendering 024440-madbone-mp_ice_-!cf-xp!re_5-17-17-9684700.dm_60\n",
      "rendering 024440-madbone-mp_ice_.madbone_7-7-7-9854750.dm_60\n",
      "rendering 043942-grimdeathHV-mp_ice_Silentstormhv_17-17-17-16835600.dm_60\n",
      "rendering 045124-silenceHV-mp_ice_-a-time-bomb_17-17-17-17739750.dm_60\n",
      "rendering 073154-AmishHAAS-mp_ice_[taf]warmach1ne_17-17-17-26993100.dm_60\n",
      "rendering 074230-AmishGig'qconcfg-mp_ice_Amish_Gig'qconcfg_46-46-46-27671600.dm_60\n",
      "rendering 074230-AmishGig'qconcfg-mp_ice_[taf]al1en_46-46-46-27822550.dm_60\n",
      "rendering 214631-wSwemaciat0r-mp_ice_4kexplicit_18-18-18-5720400.dm_60\n",
      "rendering 220353-lc-papa-mp_ice_Lc-papa_7-7-7-6432700.dm_60\n",
      "rendering 220403-wSw$laG-mp_ice_4khardnut_18-18-16-7338650.dm_60\n",
      "rendering 220403-wSw$laG-mp_ice_Wswemaciat0r_17-17-17-17-7136600.dm_60\n",
      "rendering gmpo-frontline-ice-10_Gmporamzi_Amd_18-18-18-16-19747450.dm_60\n",
      "rendering Qcon2k3_cK_vs_ocr_Ck_Se7en_46-46-17-29037150.dm_60\n",
      "all done!\n"
     ]
    }
   ],
   "source": [
    "#tga2avi\n",
    "RTCW.recordings_to_avi(vdub_folder, \n",
    "                       screenshots_folder, \n",
    "                       output_folder, \n",
    "                       vdub_exe, \n",
    "                       vdub_configfile, \n",
    "                       remove_screenshots = True)"
   ]
  },
  {
   "cell_type": "code",
   "execution_count": null,
   "metadata": {
    "collapsed": true
   },
   "outputs": [],
   "source": []
  }
 ],
 "metadata": {
  "kernelspec": {
   "display_name": "Python 2",
   "language": "python",
   "name": "python2"
  },
  "language_info": {
   "codemirror_mode": {
    "name": "ipython",
    "version": 2
   },
   "file_extension": ".py",
   "mimetype": "text/x-python",
   "name": "python",
   "nbconvert_exporter": "python",
   "pygments_lexer": "ipython2",
   "version": "2.7.14"
  }
 },
 "nbformat": 4,
 "nbformat_minor": 2
}
