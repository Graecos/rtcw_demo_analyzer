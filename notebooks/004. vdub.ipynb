{
 "cells": [
  {
   "cell_type": "code",
   "execution_count": 1,
   "metadata": {},
   "outputs": [],
   "source": [
    "#get all matches that are a .zip file or a .rar file\n",
    "import os, sys, shutil\n",
    "vdub_folder = 'C:\\\\Users\\\\Jelle\\\\Documents\\\\VirtualDub-1.10.4'\n",
    "screenshots_folder = 'C:\\\\Users\\\\Jelle\\\\Documents\\\\RTCW\\\\1.41bclean\\\\wolfcam-rtcw\\\\screenshots'\n",
    "output_folder = 'C:\\\\Users\\\\Jelle\\\\Documents\\\\movie\\\\captures'\n",
    "vdub_exe = 'vdub.exe'\n",
    "vdub_configfile = 'history.vdscript'\n",
    "\n",
    "#import the functions\n",
    "module_path = os.path.abspath(os.path.join('../src/'))\n",
    "if module_path not in sys.path:\n",
    "    sys.path.append(module_path)\n",
    "    \n",
    "import rtcw_functions as RTCW"
   ]
  },
  {
   "cell_type": "code",
   "execution_count": 2,
   "metadata": {},
   "outputs": [
    {
     "name": "stdout",
     "output_type": "stream",
     "text": [
      "rendering 043942-grimdeathHV-mp_ice_Silentstormhv_17-17-17-16835600.dm_60\n",
      "rendering 045124-silenceHV-mp_ice_-a-time-bomb_17-17-17-17739750.dm_60\n",
      "rendering 220353-lc-papa-mp_ice_Lc-papa_7-7-7-6432700.dm_60\n",
      "all done!\n"
     ]
    }
   ],
   "source": [
    "#tga2avi\n",
    "RTCW.recordings_to_avi(vdub_folder, \n",
    "                       screenshots_folder, \n",
    "                       output_folder, \n",
    "                       vdub_exe, \n",
    "                       vdub_configfile, \n",
    "                       remove_screenshots = True)"
   ]
  },
  {
   "cell_type": "code",
   "execution_count": null,
   "metadata": {
    "collapsed": true
   },
   "outputs": [],
   "source": []
  }
 ],
 "metadata": {
  "kernelspec": {
   "display_name": "Python 2",
   "language": "python",
   "name": "python2"
  },
  "language_info": {
   "codemirror_mode": {
    "name": "ipython",
    "version": 2
   },
   "file_extension": ".py",
   "mimetype": "text/x-python",
   "name": "python",
   "nbconvert_exporter": "python",
   "pygments_lexer": "ipython2",
   "version": "2.7.14"
  }
 },
 "nbformat": 4,
 "nbformat_minor": 2
}
